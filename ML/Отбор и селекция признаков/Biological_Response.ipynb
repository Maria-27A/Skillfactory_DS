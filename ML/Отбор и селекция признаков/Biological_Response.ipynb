{
 "cells": [
  {
   "attachments": {},
   "cell_type": "markdown",
   "metadata": {},
   "source": [
    "## Predicting a Biological Response (Прогнозирование биологического ответа)"
   ]
  },
  {
   "attachments": {},
   "cell_type": "markdown",
   "metadata": {},
   "source": [
    "***Цель проекта***\n",
    "\n",
    "Используя базовые и продвинутые методы оптимизации для подбора гиперпараметров, необходимо предсказать биологический ответ молекул (столбец 'Activity') по их химическому составу (столбцы D1-D1776)"
   ]
  },
  {
   "attachments": {},
   "cell_type": "markdown",
   "metadata": {},
   "source": [
    "***Описание проекта***\n",
    "\n",
    "Данные представлены в формате CSV.  Каждая строка представляет молекулу. \n",
    "\n",
    "Первый столбец Activity содержит экспериментальные данные, описывающие фактический биологический ответ [0, 1]; \n",
    "Остальные столбцы D1-D1776 представляют собой молекулярные дескрипторы — это вычисляемые свойства, которые могут фиксировать некоторые характеристики молекулы, например размер, форму или состав элементов.\n",
    "\n",
    "Предварительная обработка не требуется, данные уже закодированы и нормализованы.\n",
    "\n",
    "В качестве метрики будем использовать F1-score.\n",
    "\n",
    "Необходимо обучить две модели: логистическую регрессию и случайный лес. \n",
    "\n",
    "Далее нужно сделать подбор гиперпараметров с помощью базовых и продвинутых методов оптимизации. Важно использовать все четыре метода (GridSeachCV, RandomizedSearchCV, Hyperopt, Optuna) хотя бы по разу, максимальное количество итераций не должно превышать 50."
   ]
  },
  {
   "attachments": {},
   "cell_type": "markdown",
   "metadata": {},
   "source": [
    "### 1 Подготовка данных"
   ]
  },
  {
   "attachments": {},
   "cell_type": "markdown",
   "metadata": {},
   "source": [
    "#### 1.1 Установка пакетов, импорт библиотек"
   ]
  },
  {
   "cell_type": "code",
   "execution_count": 108,
   "metadata": {},
   "outputs": [],
   "source": [
    "#импорт библиотек\n",
    "import pandas as pd #для анализа и предобработки данных\n",
    "import matplotlib.pyplot as plt #для визуализации\n",
    "import seaborn as sns #для визуализации\n",
    "import warnings # #для управления предупреждениями\n",
    "warnings.simplefilter('ignore')\n",
    "\n",
    "from sklearn import linear_model #линейные модели\n",
    "from sklearn import ensemble #ансамбли\n",
    "from sklearn import metrics #метрики\n",
    "from sklearn import preprocessing #предобработка\n",
    "from sklearn.model_selection import train_test_split #сплитование выборки\n",
    "\n",
    "from sklearn.model_selection import GridSearchCV\n",
    "from sklearn.model_selection import RandomizedSearchCV\n",
    "from sklearn.model_selection import cross_val_score\n",
    "import hyperopt\n",
    "from hyperopt import hp, fmin, tpe, Trials, space_eval\n",
    "import optuna\n",
    "\n"
   ]
  },
  {
   "attachments": {},
   "cell_type": "markdown",
   "metadata": {},
   "source": [
    "#### 1.2 Определение констант"
   ]
  },
  {
   "cell_type": "code",
   "execution_count": 109,
   "metadata": {},
   "outputs": [],
   "source": [
    "# всегда фиксируйте RANDOM_SEED, чтобы ваши эксперименты были воспроизводимы\n",
    "RANDOM_SEED = 42"
   ]
  },
  {
   "attachments": {},
   "cell_type": "markdown",
   "metadata": {},
   "source": [
    "#### 1.3 Фиксация версии пакетов"
   ]
  },
  {
   "cell_type": "code",
   "execution_count": 110,
   "metadata": {},
   "outputs": [],
   "source": [
    "# зафиксируем версию пакетов, чтобы эксперименты были воспроизводимы:\n",
    "!pip freeze > requirements.txt"
   ]
  },
  {
   "attachments": {},
   "cell_type": "markdown",
   "metadata": {},
   "source": [
    "#### 1.4 Подгрузка данных"
   ]
  },
  {
   "cell_type": "code",
   "execution_count": 111,
   "metadata": {},
   "outputs": [],
   "source": [
    "data = pd.read_csv(r'D:\\IDE\\ML\\Отбор и селекция признаков\\_train_sem09 (1).csv')"
   ]
  },
  {
   "attachments": {},
   "cell_type": "markdown",
   "metadata": {},
   "source": [
    "### 2 Исследование структуры данных"
   ]
  },
  {
   "cell_type": "code",
   "execution_count": 112,
   "metadata": {},
   "outputs": [
    {
     "data": {
      "text/html": [
       "<div>\n",
       "<style scoped>\n",
       "    .dataframe tbody tr th:only-of-type {\n",
       "        vertical-align: middle;\n",
       "    }\n",
       "\n",
       "    .dataframe tbody tr th {\n",
       "        vertical-align: top;\n",
       "    }\n",
       "\n",
       "    .dataframe thead th {\n",
       "        text-align: right;\n",
       "    }\n",
       "</style>\n",
       "<table border=\"1\" class=\"dataframe\">\n",
       "  <thead>\n",
       "    <tr style=\"text-align: right;\">\n",
       "      <th></th>\n",
       "      <th>Activity</th>\n",
       "      <th>D1</th>\n",
       "      <th>D2</th>\n",
       "      <th>D3</th>\n",
       "      <th>D4</th>\n",
       "      <th>D5</th>\n",
       "      <th>D6</th>\n",
       "      <th>D7</th>\n",
       "      <th>D8</th>\n",
       "      <th>D9</th>\n",
       "      <th>...</th>\n",
       "      <th>D1767</th>\n",
       "      <th>D1768</th>\n",
       "      <th>D1769</th>\n",
       "      <th>D1770</th>\n",
       "      <th>D1771</th>\n",
       "      <th>D1772</th>\n",
       "      <th>D1773</th>\n",
       "      <th>D1774</th>\n",
       "      <th>D1775</th>\n",
       "      <th>D1776</th>\n",
       "    </tr>\n",
       "  </thead>\n",
       "  <tbody>\n",
       "    <tr>\n",
       "      <th>0</th>\n",
       "      <td>1</td>\n",
       "      <td>0.000000</td>\n",
       "      <td>0.497009</td>\n",
       "      <td>0.10</td>\n",
       "      <td>0.0</td>\n",
       "      <td>0.132956</td>\n",
       "      <td>0.678031</td>\n",
       "      <td>0.273166</td>\n",
       "      <td>0.585445</td>\n",
       "      <td>0.743663</td>\n",
       "      <td>...</td>\n",
       "      <td>0</td>\n",
       "      <td>0</td>\n",
       "      <td>0</td>\n",
       "      <td>0</td>\n",
       "      <td>0</td>\n",
       "      <td>0</td>\n",
       "      <td>0</td>\n",
       "      <td>0</td>\n",
       "      <td>0</td>\n",
       "      <td>0</td>\n",
       "    </tr>\n",
       "    <tr>\n",
       "      <th>1</th>\n",
       "      <td>1</td>\n",
       "      <td>0.366667</td>\n",
       "      <td>0.606291</td>\n",
       "      <td>0.05</td>\n",
       "      <td>0.0</td>\n",
       "      <td>0.111209</td>\n",
       "      <td>0.803455</td>\n",
       "      <td>0.106105</td>\n",
       "      <td>0.411754</td>\n",
       "      <td>0.836582</td>\n",
       "      <td>...</td>\n",
       "      <td>1</td>\n",
       "      <td>1</td>\n",
       "      <td>1</td>\n",
       "      <td>1</td>\n",
       "      <td>0</td>\n",
       "      <td>1</td>\n",
       "      <td>0</td>\n",
       "      <td>0</td>\n",
       "      <td>1</td>\n",
       "      <td>0</td>\n",
       "    </tr>\n",
       "    <tr>\n",
       "      <th>2</th>\n",
       "      <td>1</td>\n",
       "      <td>0.033300</td>\n",
       "      <td>0.480124</td>\n",
       "      <td>0.00</td>\n",
       "      <td>0.0</td>\n",
       "      <td>0.209791</td>\n",
       "      <td>0.610350</td>\n",
       "      <td>0.356453</td>\n",
       "      <td>0.517720</td>\n",
       "      <td>0.679051</td>\n",
       "      <td>...</td>\n",
       "      <td>0</td>\n",
       "      <td>0</td>\n",
       "      <td>0</td>\n",
       "      <td>0</td>\n",
       "      <td>0</td>\n",
       "      <td>0</td>\n",
       "      <td>0</td>\n",
       "      <td>0</td>\n",
       "      <td>0</td>\n",
       "      <td>0</td>\n",
       "    </tr>\n",
       "    <tr>\n",
       "      <th>3</th>\n",
       "      <td>1</td>\n",
       "      <td>0.000000</td>\n",
       "      <td>0.538825</td>\n",
       "      <td>0.00</td>\n",
       "      <td>0.5</td>\n",
       "      <td>0.196344</td>\n",
       "      <td>0.724230</td>\n",
       "      <td>0.235606</td>\n",
       "      <td>0.288764</td>\n",
       "      <td>0.805110</td>\n",
       "      <td>...</td>\n",
       "      <td>0</td>\n",
       "      <td>0</td>\n",
       "      <td>0</td>\n",
       "      <td>0</td>\n",
       "      <td>0</td>\n",
       "      <td>0</td>\n",
       "      <td>0</td>\n",
       "      <td>0</td>\n",
       "      <td>0</td>\n",
       "      <td>0</td>\n",
       "    </tr>\n",
       "    <tr>\n",
       "      <th>4</th>\n",
       "      <td>0</td>\n",
       "      <td>0.100000</td>\n",
       "      <td>0.517794</td>\n",
       "      <td>0.00</td>\n",
       "      <td>0.0</td>\n",
       "      <td>0.494734</td>\n",
       "      <td>0.781422</td>\n",
       "      <td>0.154361</td>\n",
       "      <td>0.303809</td>\n",
       "      <td>0.812646</td>\n",
       "      <td>...</td>\n",
       "      <td>0</td>\n",
       "      <td>0</td>\n",
       "      <td>0</td>\n",
       "      <td>0</td>\n",
       "      <td>0</td>\n",
       "      <td>0</td>\n",
       "      <td>0</td>\n",
       "      <td>0</td>\n",
       "      <td>0</td>\n",
       "      <td>0</td>\n",
       "    </tr>\n",
       "  </tbody>\n",
       "</table>\n",
       "<p>5 rows × 1777 columns</p>\n",
       "</div>"
      ],
      "text/plain": [
       "   Activity        D1        D2    D3   D4        D5        D6        D7  \\\n",
       "0         1  0.000000  0.497009  0.10  0.0  0.132956  0.678031  0.273166   \n",
       "1         1  0.366667  0.606291  0.05  0.0  0.111209  0.803455  0.106105   \n",
       "2         1  0.033300  0.480124  0.00  0.0  0.209791  0.610350  0.356453   \n",
       "3         1  0.000000  0.538825  0.00  0.5  0.196344  0.724230  0.235606   \n",
       "4         0  0.100000  0.517794  0.00  0.0  0.494734  0.781422  0.154361   \n",
       "\n",
       "         D8        D9  ...  D1767  D1768  D1769  D1770  D1771  D1772  D1773  \\\n",
       "0  0.585445  0.743663  ...      0      0      0      0      0      0      0   \n",
       "1  0.411754  0.836582  ...      1      1      1      1      0      1      0   \n",
       "2  0.517720  0.679051  ...      0      0      0      0      0      0      0   \n",
       "3  0.288764  0.805110  ...      0      0      0      0      0      0      0   \n",
       "4  0.303809  0.812646  ...      0      0      0      0      0      0      0   \n",
       "\n",
       "   D1774  D1775  D1776  \n",
       "0      0      0      0  \n",
       "1      0      1      0  \n",
       "2      0      0      0  \n",
       "3      0      0      0  \n",
       "4      0      0      0  \n",
       "\n",
       "[5 rows x 1777 columns]"
      ]
     },
     "execution_count": 112,
     "metadata": {},
     "output_type": "execute_result"
    }
   ],
   "source": [
    "# Выведем для ознакомления данные, которые были изначально закодированы и нормализованы\n",
    "data.head()"
   ]
  },
  {
   "cell_type": "code",
   "execution_count": 113,
   "metadata": {},
   "outputs": [
    {
     "data": {
      "text/plain": [
       "<AxesSubplot: xlabel='Activity', ylabel='count'>"
      ]
     },
     "execution_count": 113,
     "metadata": {},
     "output_type": "execute_result"
    },
    {
     "data": {
      "image/png": "[encoded data removed]",
      "text/plain": [
       "<Figure size 800x550 with 1 Axes>"
      ]
     },
     "metadata": {},
     "output_type": "display_data"
    }
   ],
   "source": [
    "# Проверим данные на сбалансированность классов\n",
    "sns.countplot(data, x='Activity')"
   ]
  },
  {
   "attachments": {},
   "cell_type": "markdown",
   "metadata": {},
   "source": [
    "***Вывод***\n",
    "\n",
    "Данные относительно сбалансированы\n"
   ]
  },
  {
   "attachments": {},
   "cell_type": "markdown",
   "metadata": {},
   "source": [
    "### 3 Исследование и проектирование признаков"
   ]
  },
  {
   "attachments": {},
   "cell_type": "markdown",
   "metadata": {},
   "source": [
    "При выполнении данного проекта в качестве основной цели был указан подобор гиперпараметров для получения наилучшей метрики f1, данные изначально были полностью подготовлены, очищены, нормализованы и закодированы; исследование взаимосвязей между исходными признаками и проектирование новых признаков не проводились"
   ]
  },
  {
   "attachments": {},
   "cell_type": "markdown",
   "metadata": {},
   "source": [
    "### 4 Подготовка, обучение модели, оптимизация гиперпараметров"
   ]
  },
  {
   "attachments": {},
   "cell_type": "markdown",
   "metadata": {},
   "source": [
    "Создаем матрицу наблюдений $X$ и вектор ответов $y$"
   ]
  },
  {
   "cell_type": "code",
   "execution_count": 75,
   "metadata": {},
   "outputs": [],
   "source": [
    "X = data.drop(['Activity'], axis=1)\n",
    "y = data['Activity']"
   ]
  },
  {
   "attachments": {},
   "cell_type": "markdown",
   "metadata": {},
   "source": [
    "Разделяем выборку на тренировочную и тестовую в соотношении 80/20. Для сохранения соотношений целевого признака используем параметр stratify (стратифицированное разбиение). "
   ]
  },
  {
   "cell_type": "code",
   "execution_count": 114,
   "metadata": {},
   "outputs": [],
   "source": [
    "X_train, X_test, y_train, y_test = train_test_split(X, y, stratify=y, random_state = RANDOM_SEED, test_size = 0.2)\n"
   ]
  },
  {
   "attachments": {},
   "cell_type": "markdown",
   "metadata": {},
   "source": [
    "### <center> **Логистическая регрессия**"
   ]
  },
  {
   "attachments": {},
   "cell_type": "markdown",
   "metadata": {},
   "source": [
    "#### <center> **Baseline**"
   ]
  },
  {
   "attachments": {},
   "cell_type": "markdown",
   "metadata": {},
   "source": [
    "Зафиксируем показатель метрики, который был получены без дополнительной настройки, т.е со значениями гиперпараметров, установленных по умолчанию"
   ]
  },
  {
   "cell_type": "code",
   "execution_count": 115,
   "metadata": {},
   "outputs": [
    {
     "name": "stdout",
     "output_type": "stream",
     "text": [
      "f1_score на тестовом наборе (baseline): 0.77\n"
     ]
    }
   ],
   "source": [
    "#Создаем объект класса логистическая регрессия\n",
    "log_reg = linear_model.LogisticRegression(max_iter = 50)\n",
    "\n",
    "#Обучаем модель \n",
    "score_log = cross_val_score(log_reg, X, y, cv=5, scoring=\"f1\", n_jobs=-1).mean()\n",
    "\n",
    "print('f1_score на тестовом наборе (baseline): {:.2f}'.format(score_log))"
   ]
  },
  {
   "attachments": {},
   "cell_type": "markdown",
   "metadata": {},
   "source": [
    "#### <center> **GridSearchCV**"
   ]
  },
  {
   "cell_type": "code",
   "execution_count": 116,
   "metadata": {},
   "outputs": [
    {
     "name": "stdout",
     "output_type": "stream",
     "text": [
      "CPU times: total: 0 ns\n",
      "Wall time: 0 ns\n",
      "f1_score на тестовом наборе (GridSearchCV): 0.78\n",
      "Наилучшие значения гиперпараметров: {'penalty': 'l2', 'solver': 'saga'}\n"
     ]
    }
   ],
   "source": [
    "param_grid = {'penalty': ['l2', 'none'] ,#тип регурялизации\n",
    "              'solver': ['lbfgs', 'saga'], #алгоритм оптимизации\n",
    "              }\n",
    "\n",
    "grid_search = GridSearchCV(\n",
    "    estimator=linear_model.LogisticRegression(\n",
    "        random_state=RANDOM_SEED, \n",
    "        max_iter=50 \n",
    "    ), \n",
    "    param_grid=param_grid, \n",
    "    cv=5, \n",
    "    n_jobs = -1\n",
    ")  \n",
    "\n",
    "%time \n",
    "grid_search.fit(X_train, y_train) \n",
    "y_test_pred = grid_search.predict(X_test)\n",
    "print('f1_score на тестовом наборе (GridSearchCV): {:.2f}'.format(metrics.f1_score(y_test, y_test_pred)))\n",
    "print(\"Наилучшие значения гиперпараметров: {}\".format(grid_search.best_params_))"
   ]
  },
  {
   "attachments": {},
   "cell_type": "markdown",
   "metadata": {},
   "source": [
    "***Вывод***\n",
    "\n",
    "Значения метрики f1 увеличилось на 0.01 , т.е. при использовании GridSearchCV с указанными параметрами показатели метрики близки к заданным по умолчанию. "
   ]
  },
  {
   "cell_type": "code",
   "execution_count": 117,
   "metadata": {},
   "outputs": [
    {
     "name": "stdout",
     "output_type": "stream",
     "text": [
      "CPU times: total: 0 ns\n",
      "Wall time: 0 ns\n",
      "f1_score на тестовом наборе (GridSearchCV): 0.79\n",
      "Наилучшие значения гиперпараметров: {'C': 0.3, 'penalty': 'l1', 'solver': 'saga'}\n"
     ]
    }
   ],
   "source": [
    "# Расширим сетку параметров, чтобы попробовать улучшить показатель метрики \n",
    "\n",
    "param_grid = [\n",
    "              {'penalty': ['l2', 'none'] , # тип регуляризации\n",
    "              'solver': ['lbfgs', 'sag'], # алгоритм оптимизации\n",
    "               'C': [0.01, 0.1, 0.3, 0.5, 0.7, 0.9, 1]}, # уровень силы регурялизации\n",
    "              \n",
    "              {'penalty': ['l1', 'l2'] ,\n",
    "              'solver': ['liblinear', 'saga'],\n",
    "               'C': [0.01, 0.1, 0.3, 0.5, 0.7, 0.9, 1]}\n",
    "]\n",
    "grid_search_1 = GridSearchCV(\n",
    "    estimator=linear_model.LogisticRegression(random_state=RANDOM_SEED, max_iter=50), \n",
    "    param_grid=param_grid, \n",
    "    cv=5, \n",
    "    n_jobs = -1\n",
    ")  \n",
    "%time \n",
    "grid_search_1.fit(X_train, y_train) \n",
    "y_test_pred = grid_search_1.predict(X_test)\n",
    "print('f1_score на тестовом наборе (GridSearchCV): {:.2f}'.format(metrics.f1_score(y_test, y_test_pred)))\n",
    "print(\"Наилучшие значения гиперпараметров: {}\".format(grid_search_1.best_params_))"
   ]
  },
  {
   "attachments": {},
   "cell_type": "markdown",
   "metadata": {},
   "source": [
    "***Вывод***\n",
    "\n",
    "При расширении сетки параметров нам удалось достигнуть улучшения метрики на 0,02 относительно baseline; при этом значительно был увеличен показатель затраченного времени.\n",
    "\n",
    "Таким образом, поиск по сетке не гарантирует, что мы найдем наилучшую комбинацию гиперпараметров, так как сетка значений конечна и фактическое наилучшее значение может отсутствовать или оказаться между значений, заданными нами."
   ]
  },
  {
   "attachments": {},
   "cell_type": "markdown",
   "metadata": {},
   "source": [
    "#### <center> **RandomizedSearchCV**"
   ]
  },
  {
   "cell_type": "code",
   "execution_count": 118,
   "metadata": {},
   "outputs": [
    {
     "name": "stdout",
     "output_type": "stream",
     "text": [
      "CPU times: total: 0 ns\n",
      "Wall time: 0 ns\n",
      "f1_score на тестовом наборе (RandomizedSearchCV): 0.78\n",
      "Наилучшие значения гиперпараметров: {'solver': 'lbfgs', 'penalty': 'l2', 'C': 0.01}\n"
     ]
    }
   ],
   "source": [
    "param_distributions = {'penalty': ['l2', 'none'] ,\n",
    "              'solver': ['lbfgs', 'sag'],\n",
    "               'C': list(np.linspace(0.01, 1, 10, dtype=float))},\n",
    "            \n",
    "random_search = RandomizedSearchCV(\n",
    "    estimator=linear_model.LogisticRegression(random_state=RANDOM_SEED, max_iter=50), \n",
    "    param_distributions=param_distributions, \n",
    "    cv=5, \n",
    "    n_iter = 10, \n",
    "    n_jobs = -1\n",
    ")  \n",
    "%time \n",
    "random_search.fit(X_train, y_train) \n",
    "y_test_pred = random_search.predict(X_test)\n",
    "print('f1_score на тестовом наборе (RandomizedSearchCV): {:.2f}'.format(metrics.f1_score(y_test, y_test_pred)))\n",
    "print(\"Наилучшие значения гиперпараметров: {}\".format(random_search.best_params_))"
   ]
  },
  {
   "attachments": {},
   "cell_type": "markdown",
   "metadata": {},
   "source": [
    "Изменим набор гиперпараметров с целью улучшения показателя метрики (используем аналогичные параметры для GridSearchCV, которые показали более высокий результат )"
   ]
  },
  {
   "cell_type": "code",
   "execution_count": 119,
   "metadata": {},
   "outputs": [
    {
     "name": "stdout",
     "output_type": "stream",
     "text": [
      "CPU times: total: 844 ms\n",
      "Wall time: 32.3 s\n",
      "f1_score на тестовом наборе (RandomizedSearchCV): 0.78\n",
      "Наилучшие значения гиперпараметров: {'solver': 'liblinear', 'penalty': 'l1', 'C': 0.5}\n"
     ]
    }
   ],
   "source": [
    "param_distributions = [\n",
    "              {'penalty': ['l2', 'none'] , # тип регуляризации\n",
    "              'solver': ['lbfgs', 'sag'], # алгоритм оптимизации\n",
    "               'C': [0.01, 0.1, 0.3, 0.5, 0.7, 0.9, 1]}, # уровень силы регурялизации\n",
    "              \n",
    "              {'penalty': ['l1', 'l2'] ,\n",
    "              'solver': ['liblinear', 'saga'],\n",
    "               'C': [0.01, 0.1, 0.3, 0.5, 0.7, 0.9, 1]},\n",
    "              \n",
    "             ]           \n",
    "random_search_1 = RandomizedSearchCV(\n",
    "    estimator=linear_model.LogisticRegression(random_state=RANDOM_SEED, max_iter=50), \n",
    "    param_distributions=param_distributions, \n",
    "    cv=5, \n",
    "    n_iter = 10, \n",
    "    n_jobs = -1\n",
    ")  \n",
    "%time random_search_1.fit(X_train, y_train) \n",
    "y_test_pred = random_search_1.predict(X_test)\n",
    "print('f1_score на тестовом наборе (RandomizedSearchCV): {:.2f}'.format(metrics.f1_score(y_test, y_test_pred)))\n",
    "print(\"Наилучшие значения гиперпараметров: {}\".format(random_search_1.best_params_))"
   ]
  },
  {
   "attachments": {},
   "cell_type": "markdown",
   "metadata": {},
   "source": [
    "***Вывод***\n",
    "\n",
    "В отличие от GridSearchCV в RandomizedSearchCV не все комбинации гиперпараметров проверяются, а только заданное количество комбинаций выбирается из указанных распределений (количество комбинаций гиперпараметров задается n_iter). \n",
    "\n",
    "В связи с этим временные показатели значительно ниже при практически аналогичных значениях метрики (достигнутый показатель f1 ниже для RandomizedSearchCV в сравнении с лучшим результатом для GridSearchCV на 0.01, но выше, чем для baseline на 0.01)"
   ]
  },
  {
   "attachments": {},
   "cell_type": "markdown",
   "metadata": {},
   "source": [
    "#### <center> Hyperopt"
   ]
  },
  {
   "cell_type": "code",
   "execution_count": 120,
   "metadata": {},
   "outputs": [],
   "source": [
    "# зададим пространство поиска гиперпараметров - получится 3 набора, так как для каждого типа регуляции подходят только определённые алгоритмы оптимизации\n",
    "space_1 = {'penalty': hp.choice(label='penalty', options=['l2', 'none']) , # тип регуляризации\n",
    "              'solver': hp.choice(label='solver', options=['lbfgs', 'sag']), # алгоритм оптимизации\n",
    "              'C': hp.uniform('C', 0.01, 10 )\n",
    "              } # алгоритм оптимизации\n",
    "\n",
    "space_2 = {'penalty': hp.choice(label='penalty', options=['l1', 'l2']) ,\n",
    "              'solver': hp.choice(label='solver', options=['liblinear', 'saga']),\n",
    "              'C': hp.uniform('C', 0.01, 1)\n",
    "              }\n",
    "\n",
    "# зафиксируем random_state\n",
    "random_state = RANDOM_SEED\n",
    "\n",
    "def hyperopt(space, cv=5, X=X_train, y=y_train, random_state=RANDOM_SEED):\n",
    "\n",
    "    model=linear_model.LogisticRegression(\n",
    "    penalty = space['penalty'],\n",
    "    solver = space['solver'],\n",
    "    C=np.abs(float(space['C'])),\n",
    "    random_state=RANDOM_SEED,\n",
    "    max_iter=50        \n",
    "    )        \n",
    "     \n",
    "    # применим  cross validation \n",
    "    score = cross_val_score(model, X, y, cv=cv, scoring=\"f1\", n_jobs=-1).mean()\n",
    "    \n",
    "    # метрику необходимо минимизировать, поэтому ставим знак минус\n",
    "    return -score\n"
   ]
  },
  {
   "cell_type": "code",
   "execution_count": 121,
   "metadata": {},
   "outputs": [
    {
     "name": "stdout",
     "output_type": "stream",
     "text": [
      "CPU times: total: 0 ns\n",
      "Wall time: 0 ns\n",
      "100%|██████████| 50/50 [03:25<00:00,  4.11s/trial, best loss: -0.7926833082369134]\n",
      "Наилучшие значения гиперпараметров {'C': 0.029532999601843312, 'penalty': 0, 'solver': 0}\n",
      "Наилучшие значения гиперпараметров {'C': 0.029532999601843312, 'penalty': 'l2', 'solver': 'lbfgs'}\n"
     ]
    }
   ],
   "source": [
    "# Подбираем лучшие гиперпараметры для space_1\n",
    "%time\n",
    "              \n",
    "trials = Trials() # используется для логирования результатов  \n",
    "\n",
    "best_1=fmin(hyperopt, # наша функция \n",
    "          space=space_1, # пространство гиперпараметров\n",
    "          algo=tpe.suggest, # алгоритм оптимизации, установлен по умолчанию, задавать необязательно\n",
    "          max_evals=50, # максимальное количество итераций\n",
    "          trials=trials, # логирование результатов\n",
    "          rstate=np.random.default_rng(random_state)# фиксируем для повторяемости результата\n",
    "         )\n",
    "\n",
    "print(f'Наилучшие значения гиперпараметров {space_eval(space_1, best_1)}')"
   ]
  },
  {
   "cell_type": "code",
   "execution_count": 122,
   "metadata": {},
   "outputs": [
    {
     "name": "stdout",
     "output_type": "stream",
     "text": [
      "CPU times: total: 0 ns\n",
      "Wall time: 0 ns\n",
      "100%|██████████| 50/50 [05:05<00:00,  6.11s/trial, best loss: -0.792264081975915] \n",
      "Наилучшие значения гиперпараметров {'C': 0.27904611131273815, 'penalty': 0, 'solver': 1}\n",
      "Наилучшие значения гиперпараметров {'C': 0.27904611131273815, 'penalty': 'l1', 'solver': 'saga'}\n"
     ]
    }
   ],
   "source": [
    "# Подбираем лучшие гиперпараметры для space_2\n",
    "%time\n",
    "              \n",
    "trials = Trials() # используется для логирования результатов\n",
    "  \n",
    "best_2=fmin(hyperopt, # наша функция \n",
    "          space=space_2, # пространство гиперпараметров\n",
    "          algo=tpe.suggest, # алгоритм оптимизации, установлен по умолчанию, задавать необязательно\n",
    "          max_evals=50, # максимальное количество итераций\n",
    "          trials=trials, # логирование результатов\n",
    "          rstate=np.random.default_rng(random_state)# фиксируем для повторяемости результата\n",
    "         )\n",
    "\n",
    "print(f'Наилучшие значения гиперпараметров {space_eval(space_2, best_2)}')"
   ]
  },
  {
   "attachments": {},
   "cell_type": "markdown",
   "metadata": {},
   "source": [
    "Сформируем модели, построенные на лучших значениях гиперпараметров"
   ]
  },
  {
   "cell_type": "code",
   "execution_count": 123,
   "metadata": {},
   "outputs": [
    {
     "name": "stdout",
     "output_type": "stream",
     "text": [
      "f1_score на тестовом наборе (hyperopt): 0.79\n",
      "Наилучшие значения гиперпараметров: {'C': 0.029532999601843312, 'penalty': 'l2', 'solver': 'lbfgs'}\n"
     ]
    }
   ],
   "source": [
    "model_1 = linear_model.LogisticRegression(\n",
    "        penalty=space_eval(space_1, best_1)['penalty'],\n",
    "        solver=space_eval(space_1, best_1)['solver'],\n",
    "        C=float(best_1['C']),\n",
    "        random_state=RANDOM_SEED,\n",
    "        max_iter=50)\n",
    "        \n",
    "# применим  cross validation \n",
    "score_1 = cross_val_score(model_1, X, y, cv=5, scoring=\"f1\", n_jobs=-1).mean()\n",
    "\n",
    "print('f1_score на тестовом наборе (hyperopt): {:.2f}'.format(score_1))\n",
    "print(\"Наилучшие значения гиперпараметров: {}\".format(space_eval(space_1, best_1)))\n"
   ]
  },
  {
   "cell_type": "code",
   "execution_count": 124,
   "metadata": {},
   "outputs": [
    {
     "name": "stdout",
     "output_type": "stream",
     "text": [
      "f1_score на тестовом наборе (hyperopt): 0.79\n",
      "Наилучшие значения гиперпараметров: {'C': 0.27904611131273815, 'penalty': 'l1', 'solver': 'saga'}\n"
     ]
    }
   ],
   "source": [
    "model_2 = linear_model.LogisticRegression(\n",
    "        penalty=space_eval(space_2, best_2)['penalty'],\n",
    "        solver=space_eval(space_2, best_2)['solver'],\n",
    "        C=float(best_2['C']),\n",
    "        random_state=RANDOM_SEED,\n",
    "        max_iter=50)\n",
    "        \n",
    "# применим  cross validation \n",
    "score_2 = cross_val_score(model_2, X, y, cv=5, scoring=\"f1\", n_jobs=-1).mean()\n",
    "\n",
    "print('f1_score на тестовом наборе (hyperopt): {:.2f}'.format(score_2))\n",
    "print(\"Наилучшие значения гиперпараметров: {}\".format(space_eval(space_2, best_2)))"
   ]
  },
  {
   "attachments": {},
   "cell_type": "markdown",
   "metadata": {},
   "source": [
    "***Вывод***\n",
    "\n",
    "При использовании метода Hyperopt удалось улучшить метрику по сравнению с baseline. Лучший результат метрики  - 0,79 сопоставим для максимального результата с использованием GridSearchCV"
   ]
  },
  {
   "attachments": {},
   "cell_type": "markdown",
   "metadata": {},
   "source": [
    "#### <center> Optuna"
   ]
  },
  {
   "cell_type": "code",
   "execution_count": 125,
   "metadata": {},
   "outputs": [],
   "source": [
    "# Настроим оптимизацию гиперпараметров\n",
    "\n",
    "def optuna_1(trial):\n",
    "  # задаем пространства поиска гиперпараметров\n",
    "  penalty = trial.suggest_categorical('penalty', ['l2', 'none'])\n",
    "  solver = trial.suggest_categorical('solver', ['lbfgs', 'sag', 'newton-cg'])\n",
    "  C = trial.suggest_float('C', 0.1, 1)  \n",
    "\n",
    "  # создаем модель\n",
    "  model=linear_model.LogisticRegression(\n",
    "        penalty = penalty,\n",
    "        solver = solver,\n",
    "        C=C, \n",
    "        random_state=RANDOM_SEED,\n",
    "        max_iter=50        \n",
    "    )   \n",
    "  # обучаем модель\n",
    "  score = cross_val_score(model, X, y, cv=5, scoring=\"f1\", n_jobs=-1).mean()\n",
    "\n",
    "  return score\n",
    "\n",
    "def optuna_2(trial):\n",
    "  \n",
    "  # задаем пространства поиска гиперпараметров\n",
    "  penalty = trial.suggest_categorical('penalty', ['l1', 'l2'])\n",
    "  solver = trial.suggest_categorical('solver', ['liblinear', 'saga'])\n",
    "  C = trial.suggest_float('C', 0.1, 1)  \n",
    "\n",
    "  # создаем модель\n",
    "  model=linear_model.LogisticRegression(\n",
    "        penalty = penalty,\n",
    "        solver = solver,\n",
    "        C=C, \n",
    "        random_state=RANDOM_SEED,\n",
    "        max_iter=50        \n",
    "    )   \n",
    "  # обучаем модель\n",
    "  score = cross_val_score(model, X, y, cv=5, scoring=\"f1\", n_jobs=-1).mean()\n",
    "\n",
    "  return score"
   ]
  },
  {
   "cell_type": "code",
   "execution_count": 126,
   "metadata": {},
   "outputs": [
    {
     "name": "stderr",
     "output_type": "stream",
     "text": [
      "\u001b[32m[I 2023-03-25 23:43:08,443]\u001b[0m A new study created in memory with name: LogisticRegression\u001b[0m\n"
     ]
    },
    {
     "name": "stdout",
     "output_type": "stream",
     "text": [
      "CPU times: total: 0 ns\n",
      "Wall time: 0 ns\n"
     ]
    },
    {
     "name": "stderr",
     "output_type": "stream",
     "text": [
      "\u001b[32m[I 2023-03-25 23:43:10,451]\u001b[0m Trial 0 finished with value: 0.7737791696495413 and parameters: {'penalty': 'l2', 'solver': 'lbfgs', 'C': 0.8300673472232951}. Best is trial 0 with value: 0.7737791696495413.\u001b[0m\n",
      "\u001b[32m[I 2023-03-25 23:43:12,423]\u001b[0m Trial 1 finished with value: 0.7785447225604556 and parameters: {'penalty': 'l2', 'solver': 'lbfgs', 'C': 0.21282121505170187}. Best is trial 1 with value: 0.7785447225604556.\u001b[0m\n",
      "\u001b[32m[I 2023-03-25 23:44:46,683]\u001b[0m Trial 2 finished with value: 0.7214526235329999 and parameters: {'penalty': 'none', 'solver': 'newton-cg', 'C': 0.8836764268789927}. Best is trial 1 with value: 0.7785447225604556.\u001b[0m\n",
      "\u001b[32m[I 2023-03-25 23:44:51,985]\u001b[0m Trial 3 finished with value: 0.7757525816757611 and parameters: {'penalty': 'none', 'solver': 'sag', 'C': 0.660745209942198}. Best is trial 1 with value: 0.7785447225604556.\u001b[0m\n",
      "\u001b[32m[I 2023-03-25 23:46:26,941]\u001b[0m Trial 4 finished with value: 0.7214526235329999 and parameters: {'penalty': 'none', 'solver': 'newton-cg', 'C': 0.2884557919931058}. Best is trial 1 with value: 0.7785447225604556.\u001b[0m\n",
      "\u001b[32m[I 2023-03-25 23:46:28,941]\u001b[0m Trial 5 finished with value: 0.7604610029817153 and parameters: {'penalty': 'none', 'solver': 'lbfgs', 'C': 0.12031817176546238}. Best is trial 1 with value: 0.7785447225604556.\u001b[0m\n",
      "\u001b[32m[I 2023-03-25 23:46:35,304]\u001b[0m Trial 6 finished with value: 0.7784974313822243 and parameters: {'penalty': 'l2', 'solver': 'sag', 'C': 0.8384018757484876}. Best is trial 1 with value: 0.7785447225604556.\u001b[0m\n",
      "\u001b[32m[I 2023-03-25 23:46:37,390]\u001b[0m Trial 7 finished with value: 0.7792994961024646 and parameters: {'penalty': 'l2', 'solver': 'lbfgs', 'C': 0.300010585229176}. Best is trial 7 with value: 0.7792994961024646.\u001b[0m\n",
      "\u001b[32m[I 2023-03-25 23:46:39,385]\u001b[0m Trial 8 finished with value: 0.7857260980523127 and parameters: {'penalty': 'l2', 'solver': 'lbfgs', 'C': 0.11051413001697033}. Best is trial 8 with value: 0.7857260980523127.\u001b[0m\n",
      "\u001b[32m[I 2023-03-25 23:46:41,318]\u001b[0m Trial 9 finished with value: 0.7604610029817153 and parameters: {'penalty': 'none', 'solver': 'lbfgs', 'C': 0.20421518550489443}. Best is trial 8 with value: 0.7857260980523127.\u001b[0m\n",
      "\u001b[32m[I 2023-03-25 23:46:47,359]\u001b[0m Trial 10 finished with value: 0.7800732992920514 and parameters: {'penalty': 'l2', 'solver': 'sag', 'C': 0.4523606246093528}. Best is trial 8 with value: 0.7857260980523127.\u001b[0m\n",
      "\u001b[32m[I 2023-03-25 23:46:53,244]\u001b[0m Trial 11 finished with value: 0.779776777805759 and parameters: {'penalty': 'l2', 'solver': 'sag', 'C': 0.4653865348349365}. Best is trial 8 with value: 0.7857260980523127.\u001b[0m\n",
      "\u001b[32m[I 2023-03-25 23:46:59,544]\u001b[0m Trial 12 finished with value: 0.7800650598277222 and parameters: {'penalty': 'l2', 'solver': 'sag', 'C': 0.4271141409786819}. Best is trial 8 with value: 0.7857260980523127.\u001b[0m\n",
      "\u001b[32m[I 2023-03-25 23:47:05,790]\u001b[0m Trial 13 finished with value: 0.784470703591708 and parameters: {'penalty': 'l2', 'solver': 'sag', 'C': 0.10704066029216824}. Best is trial 8 with value: 0.7857260980523127.\u001b[0m\n",
      "\u001b[32m[I 2023-03-25 23:47:14,056]\u001b[0m Trial 14 finished with value: 0.7837427775036492 and parameters: {'penalty': 'l2', 'solver': 'newton-cg', 'C': 0.12858938032886194}. Best is trial 8 with value: 0.7857260980523127.\u001b[0m\n",
      "\u001b[32m[I 2023-03-25 23:47:16,013]\u001b[0m Trial 15 finished with value: 0.7862978986837621 and parameters: {'penalty': 'l2', 'solver': 'lbfgs', 'C': 0.10488951840793292}. Best is trial 15 with value: 0.7862978986837621.\u001b[0m\n",
      "\u001b[32m[I 2023-03-25 23:47:18,023]\u001b[0m Trial 16 finished with value: 0.7784318385329858 and parameters: {'penalty': 'l2', 'solver': 'lbfgs', 'C': 0.34240122913616494}. Best is trial 15 with value: 0.7862978986837621.\u001b[0m\n",
      "\u001b[32m[I 2023-03-25 23:47:19,941]\u001b[0m Trial 17 finished with value: 0.7748543454028664 and parameters: {'penalty': 'l2', 'solver': 'lbfgs', 'C': 0.5747421681357731}. Best is trial 15 with value: 0.7862978986837621.\u001b[0m\n",
      "\u001b[32m[I 2023-03-25 23:47:22,356]\u001b[0m Trial 18 finished with value: 0.7787210967971567 and parameters: {'penalty': 'l2', 'solver': 'lbfgs', 'C': 0.21759211538050643}. Best is trial 15 with value: 0.7862978986837621.\u001b[0m\n",
      "\u001b[32m[I 2023-03-25 23:47:24,388]\u001b[0m Trial 19 finished with value: 0.7785875211195673 and parameters: {'penalty': 'l2', 'solver': 'lbfgs', 'C': 0.3474622937814758}. Best is trial 15 with value: 0.7862978986837621.\u001b[0m\n",
      "\u001b[32m[I 2023-03-25 23:47:26,775]\u001b[0m Trial 20 finished with value: 0.7850565856651992 and parameters: {'penalty': 'l2', 'solver': 'lbfgs', 'C': 0.10246944008006377}. Best is trial 15 with value: 0.7862978986837621.\u001b[0m\n",
      "\u001b[32m[I 2023-03-25 23:47:28,681]\u001b[0m Trial 21 finished with value: 0.7850434890933264 and parameters: {'penalty': 'l2', 'solver': 'lbfgs', 'C': 0.10867142115269267}. Best is trial 15 with value: 0.7862978986837621.\u001b[0m\n",
      "\u001b[32m[I 2023-03-25 23:47:30,990]\u001b[0m Trial 22 finished with value: 0.7788136950794875 and parameters: {'penalty': 'l2', 'solver': 'lbfgs', 'C': 0.22228172838657317}. Best is trial 15 with value: 0.7862978986837621.\u001b[0m\n",
      "\u001b[32m[I 2023-03-25 23:47:32,912]\u001b[0m Trial 23 finished with value: 0.7809595470259476 and parameters: {'penalty': 'l2', 'solver': 'lbfgs', 'C': 0.1764375477606992}. Best is trial 15 with value: 0.7862978986837621.\u001b[0m\n",
      "\u001b[32m[I 2023-03-25 23:47:34,926]\u001b[0m Trial 24 finished with value: 0.7797651222123418 and parameters: {'penalty': 'l2', 'solver': 'lbfgs', 'C': 0.2675706803372502}. Best is trial 15 with value: 0.7862978986837621.\u001b[0m\n",
      "\u001b[32m[I 2023-03-25 23:47:43,839]\u001b[0m Trial 25 finished with value: 0.7815245110246186 and parameters: {'penalty': 'l2', 'solver': 'newton-cg', 'C': 0.16666877335309835}. Best is trial 15 with value: 0.7862978986837621.\u001b[0m\n",
      "\u001b[32m[I 2023-03-25 23:47:45,782]\u001b[0m Trial 26 finished with value: 0.7604610029817153 and parameters: {'penalty': 'none', 'solver': 'lbfgs', 'C': 0.10196513343901824}. Best is trial 15 with value: 0.7862978986837621.\u001b[0m\n",
      "\u001b[32m[I 2023-03-25 23:47:47,790]\u001b[0m Trial 27 finished with value: 0.7800105661436911 and parameters: {'penalty': 'l2', 'solver': 'lbfgs', 'C': 0.1821247475605361}. Best is trial 15 with value: 0.7862978986837621.\u001b[0m\n",
      "\u001b[32m[I 2023-03-25 23:47:49,726]\u001b[0m Trial 28 finished with value: 0.7787389409880222 and parameters: {'penalty': 'l2', 'solver': 'lbfgs', 'C': 0.25450562380125674}. Best is trial 15 with value: 0.7862978986837621.\u001b[0m\n",
      "\u001b[32m[I 2023-03-25 23:47:51,677]\u001b[0m Trial 29 finished with value: 0.7786818984331072 and parameters: {'penalty': 'l2', 'solver': 'lbfgs', 'C': 0.3482487984976734}. Best is trial 15 with value: 0.7862978986837621.\u001b[0m\n",
      "\u001b[32m[I 2023-03-25 23:48:00,641]\u001b[0m Trial 30 finished with value: 0.7809396502013106 and parameters: {'penalty': 'l2', 'solver': 'newton-cg', 'C': 0.15573969575472751}. Best is trial 15 with value: 0.7862978986837621.\u001b[0m\n",
      "\u001b[32m[I 2023-03-25 23:48:03,428]\u001b[0m Trial 31 finished with value: 0.7807865145437073 and parameters: {'penalty': 'l2', 'solver': 'lbfgs', 'C': 0.1526817628357236}. Best is trial 15 with value: 0.7862978986837621.\u001b[0m\n",
      "\u001b[32m[I 2023-03-25 23:48:05,368]\u001b[0m Trial 32 finished with value: 0.7849326989242063 and parameters: {'penalty': 'l2', 'solver': 'lbfgs', 'C': 0.10452776510376062}. Best is trial 15 with value: 0.7862978986837621.\u001b[0m\n",
      "\u001b[32m[I 2023-03-25 23:48:07,351]\u001b[0m Trial 33 finished with value: 0.7796811815153121 and parameters: {'penalty': 'l2', 'solver': 'lbfgs', 'C': 0.23739420912485193}. Best is trial 15 with value: 0.7862978986837621.\u001b[0m\n",
      "\u001b[32m[I 2023-03-25 23:48:09,296]\u001b[0m Trial 34 finished with value: 0.7798972312319532 and parameters: {'penalty': 'l2', 'solver': 'lbfgs', 'C': 0.17861222948415628}. Best is trial 15 with value: 0.7862978986837621.\u001b[0m\n",
      "\u001b[32m[I 2023-03-25 23:48:12,096]\u001b[0m Trial 35 finished with value: 0.7604610029817153 and parameters: {'penalty': 'none', 'solver': 'lbfgs', 'C': 0.22501072119844984}. Best is trial 15 with value: 0.7862978986837621.\u001b[0m\n",
      "\u001b[32m[I 2023-03-25 23:48:13,912]\u001b[0m Trial 36 finished with value: 0.7855269283489726 and parameters: {'penalty': 'l2', 'solver': 'lbfgs', 'C': 0.10325562974580403}. Best is trial 15 with value: 0.7862978986837621.\u001b[0m\n",
      "\u001b[32m[I 2023-03-25 23:49:51,052]\u001b[0m Trial 37 finished with value: 0.7214526235329999 and parameters: {'penalty': 'none', 'solver': 'newton-cg', 'C': 0.1506306705396684}. Best is trial 15 with value: 0.7862978986837621.\u001b[0m\n",
      "\u001b[32m[I 2023-03-25 23:49:53,024]\u001b[0m Trial 38 finished with value: 0.7723057142688587 and parameters: {'penalty': 'l2', 'solver': 'lbfgs', 'C': 0.9627919133249899}. Best is trial 15 with value: 0.7862978986837621.\u001b[0m\n",
      "\u001b[32m[I 2023-03-25 23:49:55,009]\u001b[0m Trial 39 finished with value: 0.7604610029817153 and parameters: {'penalty': 'none', 'solver': 'lbfgs', 'C': 0.29551820218140606}. Best is trial 15 with value: 0.7862978986837621.\u001b[0m\n",
      "\u001b[32m[I 2023-03-25 23:49:56,989]\u001b[0m Trial 40 finished with value: 0.779238378371573 and parameters: {'penalty': 'l2', 'solver': 'lbfgs', 'C': 0.20550577607298584}. Best is trial 15 with value: 0.7862978986837621.\u001b[0m\n",
      "\u001b[32m[I 2023-03-25 23:49:58,912]\u001b[0m Trial 41 finished with value: 0.7851473625029788 and parameters: {'penalty': 'l2', 'solver': 'lbfgs', 'C': 0.11161219346776628}. Best is trial 15 with value: 0.7862978986837621.\u001b[0m\n",
      "\u001b[32m[I 2023-03-25 23:50:00,939]\u001b[0m Trial 42 finished with value: 0.7805209392910207 and parameters: {'penalty': 'l2', 'solver': 'lbfgs', 'C': 0.14857340280017356}. Best is trial 15 with value: 0.7862978986837621.\u001b[0m\n",
      "\u001b[32m[I 2023-03-25 23:50:03,071]\u001b[0m Trial 43 finished with value: 0.7845826565712031 and parameters: {'penalty': 'l2', 'solver': 'lbfgs', 'C': 0.10139765861555326}. Best is trial 15 with value: 0.7862978986837621.\u001b[0m\n",
      "\u001b[32m[I 2023-03-25 23:50:09,303]\u001b[0m Trial 44 finished with value: 0.780408601815817 and parameters: {'penalty': 'l2', 'solver': 'sag', 'C': 0.17732950276106674}. Best is trial 15 with value: 0.7862978986837621.\u001b[0m\n",
      "\u001b[32m[I 2023-03-25 23:50:11,414]\u001b[0m Trial 45 finished with value: 0.7788396083333452 and parameters: {'penalty': 'l2', 'solver': 'lbfgs', 'C': 0.25454008203791034}. Best is trial 15 with value: 0.7862978986837621.\u001b[0m\n",
      "\u001b[32m[I 2023-03-25 23:50:13,433]\u001b[0m Trial 46 finished with value: 0.7807078735124723 and parameters: {'penalty': 'l2', 'solver': 'lbfgs', 'C': 0.1434110779684997}. Best is trial 15 with value: 0.7862978986837621.\u001b[0m\n",
      "\u001b[32m[I 2023-03-25 23:51:50,314]\u001b[0m Trial 47 finished with value: 0.7214526235329999 and parameters: {'penalty': 'none', 'solver': 'newton-cg', 'C': 0.12780726862180355}. Best is trial 15 with value: 0.7862978986837621.\u001b[0m\n",
      "\u001b[32m[I 2023-03-25 23:51:56,399]\u001b[0m Trial 48 finished with value: 0.7799152551853383 and parameters: {'penalty': 'l2', 'solver': 'sag', 'C': 0.20167512426301243}. Best is trial 15 with value: 0.7862978986837621.\u001b[0m\n",
      "\u001b[32m[I 2023-03-25 23:51:58,349]\u001b[0m Trial 49 finished with value: 0.7781839762357698 and parameters: {'penalty': 'l2', 'solver': 'lbfgs', 'C': 0.2016542795342346}. Best is trial 15 with value: 0.7862978986837621.\u001b[0m\n"
     ]
    },
    {
     "name": "stdout",
     "output_type": "stream",
     "text": [
      "f1_score на тестовом наборе (optuna): 0.78\n",
      "Наилучшие значения гиперпараметров: {'penalty': 'l2', 'solver': 'lbfgs', 'C': 0.10488951840793292}\n"
     ]
    }
   ],
   "source": [
    "%time\n",
    "# Создаем объект исследования для первого набора гиперпараметров\n",
    "# Можем напрямую указать, что нам необходимо максимизировать метрику direction=\"maximize\"\n",
    "study_1 = optuna.create_study(study_name=\"LogisticRegression\", direction=\"maximize\")\n",
    "\n",
    "# Ищем лучшую комбинацию гиперпараметров n_trials раз\n",
    "study_1.optimize(optuna_1, n_trials=50)\n",
    "\n",
    "# Рассчитаем точность для тестовой выборки\n",
    "model_1 = linear_model.LogisticRegression(**study_1.best_params,random_state=RANDOM_SEED)\n",
    "\n",
    "# применим  cross validation \n",
    "score_log_opt = cross_val_score(model_1, X, y, cv=5, scoring=\"f1\", n_jobs=-1).mean()\n",
    "\n",
    "print('f1_score на тестовом наборе (optuna): {:.2f}'.format(score_log_opt))\n",
    "print(\"Наилучшие значения гиперпараметров: {}\".format(study_1.best_params))\n"
   ]
  },
  {
   "cell_type": "code",
   "execution_count": 127,
   "metadata": {},
   "outputs": [
    {
     "name": "stderr",
     "output_type": "stream",
     "text": [
      "\u001b[32m[I 2023-03-25 23:54:26,060]\u001b[0m A new study created in memory with name: LogisticRegression\u001b[0m\n"
     ]
    },
    {
     "name": "stdout",
     "output_type": "stream",
     "text": [
      "CPU times: total: 0 ns\n",
      "Wall time: 0 ns\n"
     ]
    },
    {
     "name": "stderr",
     "output_type": "stream",
     "text": [
      "\u001b[32m[I 2023-03-25 23:54:32,287]\u001b[0m Trial 0 finished with value: 0.7783984299909938 and parameters: {'penalty': 'l2', 'solver': 'saga', 'C': 0.976791336566118}. Best is trial 0 with value: 0.7783984299909938.\u001b[0m\n",
      "\u001b[32m[I 2023-03-25 23:54:42,473]\u001b[0m Trial 1 finished with value: 0.7855875196694022 and parameters: {'penalty': 'l1', 'solver': 'saga', 'C': 0.7772021344146531}. Best is trial 1 with value: 0.7855875196694022.\u001b[0m\n",
      "\u001b[32m[I 2023-03-25 23:54:51,797]\u001b[0m Trial 2 finished with value: 0.7876591034115655 and parameters: {'penalty': 'l1', 'solver': 'saga', 'C': 0.49003020831820476}. Best is trial 2 with value: 0.7876591034115655.\u001b[0m\n",
      "\u001b[32m[I 2023-03-25 23:55:02,682]\u001b[0m Trial 3 finished with value: 0.7881475984981079 and parameters: {'penalty': 'l1', 'solver': 'saga', 'C': 0.5029076834376138}. Best is trial 3 with value: 0.7881475984981079.\u001b[0m\n",
      "\u001b[32m[I 2023-03-25 23:55:11,108]\u001b[0m Trial 4 finished with value: 0.7872942463224916 and parameters: {'penalty': 'l1', 'solver': 'saga', 'C': 0.19058163242586018}. Best is trial 3 with value: 0.7881475984981079.\u001b[0m\n",
      "\u001b[32m[I 2023-03-25 23:55:23,002]\u001b[0m Trial 5 finished with value: 0.7852905059486597 and parameters: {'penalty': 'l1', 'solver': 'saga', 'C': 0.7659598974825158}. Best is trial 3 with value: 0.7881475984981079.\u001b[0m\n",
      "\u001b[32m[I 2023-03-25 23:55:25,182]\u001b[0m Trial 6 finished with value: 0.7778904868285228 and parameters: {'penalty': 'l2', 'solver': 'liblinear', 'C': 0.522862182131132}. Best is trial 3 with value: 0.7881475984981079.\u001b[0m\n",
      "\u001b[32m[I 2023-03-25 23:55:31,978]\u001b[0m Trial 7 finished with value: 0.7783984299909938 and parameters: {'penalty': 'l2', 'solver': 'saga', 'C': 0.9759509952038348}. Best is trial 3 with value: 0.7881475984981079.\u001b[0m\n",
      "\u001b[32m[I 2023-03-25 23:55:33,464]\u001b[0m Trial 8 finished with value: 0.7823720648851612 and parameters: {'penalty': 'l1', 'solver': 'liblinear', 'C': 0.5764835761232153}. Best is trial 3 with value: 0.7881475984981079.\u001b[0m\n",
      "\u001b[32m[I 2023-03-25 23:55:35,893]\u001b[0m Trial 9 finished with value: 0.7754554173695936 and parameters: {'penalty': 'l2', 'solver': 'liblinear', 'C': 0.921384519632818}. Best is trial 3 with value: 0.7881475984981079.\u001b[0m\n",
      "\u001b[32m[I 2023-03-25 23:55:37,281]\u001b[0m Trial 10 finished with value: 0.7866437080606618 and parameters: {'penalty': 'l1', 'solver': 'liblinear', 'C': 0.26737354888412745}. Best is trial 3 with value: 0.7881475984981079.\u001b[0m\n",
      "\u001b[32m[I 2023-03-25 23:55:47,345]\u001b[0m Trial 11 finished with value: 0.7883096004954251 and parameters: {'penalty': 'l1', 'solver': 'saga', 'C': 0.40674526928007704}. Best is trial 11 with value: 0.7883096004954251.\u001b[0m\n",
      "\u001b[32m[I 2023-03-25 23:55:57,732]\u001b[0m Trial 12 finished with value: 0.7874095187302909 and parameters: {'penalty': 'l1', 'solver': 'saga', 'C': 0.29406835805326315}. Best is trial 11 with value: 0.7883096004954251.\u001b[0m\n",
      "\u001b[32m[I 2023-03-25 23:56:06,821]\u001b[0m Trial 13 finished with value: 0.7888884999807265 and parameters: {'penalty': 'l1', 'solver': 'saga', 'C': 0.42850233969583834}. Best is trial 13 with value: 0.7888884999807265.\u001b[0m\n",
      "\u001b[32m[I 2023-03-25 23:56:16,403]\u001b[0m Trial 14 finished with value: 0.7884780677589087 and parameters: {'penalty': 'l1', 'solver': 'saga', 'C': 0.3878389576956732}. Best is trial 13 with value: 0.7888884999807265.\u001b[0m\n",
      "\u001b[32m[I 2023-03-25 23:56:24,574]\u001b[0m Trial 15 finished with value: 0.7851939695797829 and parameters: {'penalty': 'l1', 'solver': 'saga', 'C': 0.11951255964390578}. Best is trial 13 with value: 0.7888884999807265.\u001b[0m\n",
      "\u001b[32m[I 2023-03-25 23:56:34,055]\u001b[0m Trial 16 finished with value: 0.7883096004954251 and parameters: {'penalty': 'l1', 'solver': 'saga', 'C': 0.40703856382809156}. Best is trial 13 with value: 0.7888884999807265.\u001b[0m\n",
      "\u001b[32m[I 2023-03-25 23:56:42,872]\u001b[0m Trial 17 finished with value: 0.7882345090748965 and parameters: {'penalty': 'l1', 'solver': 'saga', 'C': 0.33801930192707463}. Best is trial 13 with value: 0.7888884999807265.\u001b[0m\n",
      "\u001b[32m[I 2023-03-25 23:56:44,361]\u001b[0m Trial 18 finished with value: 0.7815784723963259 and parameters: {'penalty': 'l2', 'solver': 'liblinear', 'C': 0.22660658416429133}. Best is trial 13 with value: 0.7888884999807265.\u001b[0m\n",
      "\u001b[32m[I 2023-03-25 23:56:53,888]\u001b[0m Trial 19 finished with value: 0.7852767842585159 and parameters: {'penalty': 'l1', 'solver': 'saga', 'C': 0.6231087520580285}. Best is trial 13 with value: 0.7888884999807265.\u001b[0m\n",
      "\u001b[32m[I 2023-03-25 23:57:03,529]\u001b[0m Trial 20 finished with value: 0.7888176409544962 and parameters: {'penalty': 'l1', 'solver': 'saga', 'C': 0.3730337981673277}. Best is trial 13 with value: 0.7888884999807265.\u001b[0m\n",
      "\u001b[32m[I 2023-03-25 23:57:15,133]\u001b[0m Trial 21 finished with value: 0.7881549025764463 and parameters: {'penalty': 'l1', 'solver': 'saga', 'C': 0.36869752229974034}. Best is trial 13 with value: 0.7888884999807265.\u001b[0m\n",
      "\u001b[32m[I 2023-03-25 23:57:26,334]\u001b[0m Trial 22 finished with value: 0.7888884999807265 and parameters: {'penalty': 'l1', 'solver': 'saga', 'C': 0.42991568227925203}. Best is trial 13 with value: 0.7888884999807265.\u001b[0m\n",
      "\u001b[32m[I 2023-03-25 23:57:36,507]\u001b[0m Trial 23 finished with value: 0.7878156708621471 and parameters: {'penalty': 'l1', 'solver': 'saga', 'C': 0.44431937719512116}. Best is trial 13 with value: 0.7888884999807265.\u001b[0m\n",
      "\u001b[32m[I 2023-03-25 23:57:46,286]\u001b[0m Trial 24 finished with value: 0.7872396082081636 and parameters: {'penalty': 'l1', 'solver': 'saga', 'C': 0.3186323319405775}. Best is trial 13 with value: 0.7888884999807265.\u001b[0m\n",
      "\u001b[32m[I 2023-03-25 23:57:56,088]\u001b[0m Trial 25 finished with value: 0.7872396082081636 and parameters: {'penalty': 'l1', 'solver': 'saga', 'C': 0.31668585271783906}. Best is trial 13 with value: 0.7888884999807265.\u001b[0m\n",
      "\u001b[32m[I 2023-03-25 23:57:57,703]\u001b[0m Trial 26 finished with value: 0.778505318026217 and parameters: {'penalty': 'l2', 'solver': 'liblinear', 'C': 0.46348677502583097}. Best is trial 13 with value: 0.7888884999807265.\u001b[0m\n",
      "\u001b[32m[I 2023-03-25 23:58:08,201]\u001b[0m Trial 27 finished with value: 0.7857674976442243 and parameters: {'penalty': 'l1', 'solver': 'saga', 'C': 0.5981781398285325}. Best is trial 13 with value: 0.7888884999807265.\u001b[0m\n",
      "\u001b[32m[I 2023-03-25 23:58:18,155]\u001b[0m Trial 28 finished with value: 0.787813013457486 and parameters: {'penalty': 'l1', 'solver': 'saga', 'C': 0.4394496102401447}. Best is trial 13 with value: 0.7888884999807265.\u001b[0m\n",
      "\u001b[32m[I 2023-03-25 23:58:24,613]\u001b[0m Trial 29 finished with value: 0.7786168486838994 and parameters: {'penalty': 'l2', 'solver': 'saga', 'C': 0.545866272752301}. Best is trial 13 with value: 0.7888884999807265.\u001b[0m\n",
      "\u001b[32m[I 2023-03-25 23:58:34,218]\u001b[0m Trial 30 finished with value: 0.7879619276712824 and parameters: {'penalty': 'l1', 'solver': 'saga', 'C': 0.3557443973553503}. Best is trial 13 with value: 0.7888884999807265.\u001b[0m\n",
      "\u001b[32m[I 2023-03-25 23:58:43,509]\u001b[0m Trial 31 finished with value: 0.7885753709407344 and parameters: {'penalty': 'l1', 'solver': 'saga', 'C': 0.39796179871520504}. Best is trial 13 with value: 0.7888884999807265.\u001b[0m\n",
      "\u001b[32m[I 2023-03-25 23:58:53,104]\u001b[0m Trial 32 finished with value: 0.788595008161811 and parameters: {'penalty': 'l1', 'solver': 'saga', 'C': 0.43195914635736493}. Best is trial 13 with value: 0.7888884999807265.\u001b[0m\n",
      "\u001b[32m[I 2023-03-25 23:59:02,367]\u001b[0m Trial 33 finished with value: 0.787457353335342 and parameters: {'penalty': 'l1', 'solver': 'saga', 'C': 0.4775052149463111}. Best is trial 13 with value: 0.7888884999807265.\u001b[0m\n",
      "\u001b[32m[I 2023-03-25 23:59:11,746]\u001b[0m Trial 34 finished with value: 0.7877765025353418 and parameters: {'penalty': 'l1', 'solver': 'saga', 'C': 0.511013801716702}. Best is trial 13 with value: 0.7888884999807265.\u001b[0m\n",
      "\u001b[32m[I 2023-03-25 23:59:20,288]\u001b[0m Trial 35 finished with value: 0.787615861186966 and parameters: {'penalty': 'l1', 'solver': 'saga', 'C': 0.2509924482780431}. Best is trial 13 with value: 0.7888884999807265.\u001b[0m\n",
      "\u001b[32m[I 2023-03-25 23:59:28,962]\u001b[0m Trial 36 finished with value: 0.7884241939126992 and parameters: {'penalty': 'l1', 'solver': 'saga', 'C': 0.34252193441947754}. Best is trial 13 with value: 0.7888884999807265.\u001b[0m\n",
      "\u001b[32m[I 2023-03-25 23:59:38,278]\u001b[0m Trial 37 finished with value: 0.7878265326830329 and parameters: {'penalty': 'l1', 'solver': 'saga', 'C': 0.4471118622945112}. Best is trial 13 with value: 0.7888884999807265.\u001b[0m\n",
      "\u001b[32m[I 2023-03-25 23:59:49,792]\u001b[0m Trial 38 finished with value: 0.7878617747827426 and parameters: {'penalty': 'l1', 'solver': 'saga', 'C': 0.505754739756466}. Best is trial 13 with value: 0.7888884999807265.\u001b[0m\n",
      "\u001b[32m[I 2023-03-25 23:59:51,657]\u001b[0m Trial 39 finished with value: 0.7790633524291473 and parameters: {'penalty': 'l2', 'solver': 'liblinear', 'C': 0.6422440563436352}. Best is trial 13 with value: 0.7888884999807265.\u001b[0m\n",
      "\u001b[32m[I 2023-03-26 00:00:00,304]\u001b[0m Trial 40 finished with value: 0.7878876303721569 and parameters: {'penalty': 'l1', 'solver': 'saga', 'C': 0.20647736811342265}. Best is trial 13 with value: 0.7888884999807265.\u001b[0m\n",
      "\u001b[32m[I 2023-03-26 00:00:10,297]\u001b[0m Trial 41 finished with value: 0.7885753709407344 and parameters: {'penalty': 'l1', 'solver': 'saga', 'C': 0.3945851415643474}. Best is trial 13 with value: 0.7888884999807265.\u001b[0m\n",
      "\u001b[32m[I 2023-03-26 00:00:19,745]\u001b[0m Trial 42 finished with value: 0.7885926025769872 and parameters: {'penalty': 'l1', 'solver': 'saga', 'C': 0.4138324751307205}. Best is trial 13 with value: 0.7888884999807265.\u001b[0m\n",
      "\u001b[32m[I 2023-03-26 00:00:28,857]\u001b[0m Trial 43 finished with value: 0.7868249167667571 and parameters: {'penalty': 'l1', 'solver': 'saga', 'C': 0.28688159377108535}. Best is trial 13 with value: 0.7888884999807265.\u001b[0m\n",
      "\u001b[32m[I 2023-03-26 00:00:38,425]\u001b[0m Trial 44 finished with value: 0.7861550978324866 and parameters: {'penalty': 'l1', 'solver': 'saga', 'C': 0.5424151425044899}. Best is trial 13 with value: 0.7888884999807265.\u001b[0m\n",
      "\u001b[32m[I 2023-03-26 00:00:51,156]\u001b[0m Trial 45 finished with value: 0.7876459695486497 and parameters: {'penalty': 'l1', 'solver': 'saga', 'C': 0.48510684275441496}. Best is trial 13 with value: 0.7888884999807265.\u001b[0m\n",
      "\u001b[32m[I 2023-03-26 00:00:52,875]\u001b[0m Trial 46 finished with value: 0.7857097255337075 and parameters: {'penalty': 'l1', 'solver': 'liblinear', 'C': 0.42311769848960196}. Best is trial 13 with value: 0.7888884999807265.\u001b[0m\n",
      "\u001b[32m[I 2023-03-26 00:00:59,430]\u001b[0m Trial 47 finished with value: 0.7787963519756425 and parameters: {'penalty': 'l2', 'solver': 'saga', 'C': 0.3602752445741009}. Best is trial 13 with value: 0.7888884999807265.\u001b[0m\n",
      "\u001b[32m[I 2023-03-26 00:01:12,681]\u001b[0m Trial 48 finished with value: 0.787457353335342 and parameters: {'penalty': 'l1', 'solver': 'saga', 'C': 0.47593889813118184}. Best is trial 13 with value: 0.7888884999807265.\u001b[0m\n",
      "\u001b[32m[I 2023-03-26 00:01:22,630]\u001b[0m Trial 49 finished with value: 0.7888884999807265 and parameters: {'penalty': 'l1', 'solver': 'saga', 'C': 0.4288093555642136}. Best is trial 13 with value: 0.7888884999807265.\u001b[0m\n"
     ]
    },
    {
     "name": "stdout",
     "output_type": "stream",
     "text": [
      "f1_score на тестовом наборе (optuna): 0.79\n",
      "Наилучшие значения гиперпараметров: {'penalty': 'l1', 'solver': 'saga', 'C': 0.42850233969583834}\n"
     ]
    }
   ],
   "source": [
    "%time\n",
    "# Создаем объект исследования для второго набора гиперпараметров\n",
    "# Можем напрямую указать, что нам необходимо максимизировать метрику direction=\"maximize\"\n",
    "study_2 = optuna.create_study(study_name=\"LogisticRegression\", direction=\"maximize\")\n",
    "\n",
    "# Ищем лучшую комбинацию гиперпараметров n_trials раз\n",
    "study_2.optimize(optuna_2, n_trials=50)\n",
    "\n",
    "# рассчитаем точность для тестовой выборки\n",
    "model_2 = linear_model.LogisticRegression(**study_2.best_params,random_state=RANDOM_SEED)\n",
    "\n",
    "# применим  cross validation \n",
    "score_log_opt_2 = cross_val_score(model_2, X, y, cv=5, scoring=\"f1\", n_jobs=-1).mean()\n",
    "\n",
    "\n",
    "print('f1_score на тестовом наборе (optuna): {:.2f}'.format(score_log_opt_2))\n",
    "print(\"Наилучшие значения гиперпараметров: {}\".format(study_2.best_params))"
   ]
  },
  {
   "attachments": {},
   "cell_type": "markdown",
   "metadata": {},
   "source": [
    "***Вывод***\n",
    "\n",
    "Полученные значения метрики f1 с применением optuna: наилучший показатель - 0.79 выше в сравнении с baseline (сопоставим для максимальных значений метрики при использовании GridSearchCV, Hyperopt)"
   ]
  },
  {
   "cell_type": "code",
   "execution_count": 106,
   "metadata": {},
   "outputs": [
    {
     "data": {
      "application/vnd.plotly.v1+json": {
       "config": {
        "plotlyServerURL": "https://plot.ly"
       },
       "data": [
        {
         "mode": "markers",
         "name": "f1_score",
         "type": "scatter",
         "x": [
          0,
          1,
          2,
          3,
          4,
          5,
          6,
          7,
          8,
          9,
          10,
          11,
          12,
          13,
          14,
          15,
          16,
          17,
          18,
          19,
          20,
          21,
          22,
          23,
          24,
          25,
          26,
          27,
          28,
          29,
          30,
          31,
          32,
          33,
          34,
          35,
          36,
          37,
          38,
          39,
          40,
          41,
          42,
          43,
          44,
          45,
          46,
          47,
          48,
          49
         ],
         "y": [
          0.7792108918887244,
          0.7757574986055303,
          0.7789814252434369,
          0.7755698754600198,
          0.7783984299909938,
          0.7750652227908829,
          0.7781829797471698,
          0.7877384554135762,
          0.7790610933297455,
          0.7806488274354028,
          0.7843370379210184,
          0.7844125689484858,
          0.7871147047843218,
          0.7881549025764463,
          0.7854153962388002,
          0.7876362243542622,
          0.7856867713980223,
          0.7871604387991031,
          0.7886356112899209,
          0.786464285827545,
          0.7885753709407344,
          0.7885753709407344,
          0.7889761186451215,
          0.7861550978324866,
          0.7876459695486497,
          0.7885837871442194,
          0.7888759748735474,
          0.7878572365249583,
          0.7881499526111941,
          0.7874477595957011,
          0.7891514597312479,
          0.7880853626081905,
          0.7878876303721569,
          0.7868031054128063,
          0.7882345090748965,
          0.7795850480251423,
          0.7871147047843218,
          0.7787963519756425,
          0.787615861186966,
          0.7789814252434369,
          0.7884780677589087,
          0.7881184123131405,
          0.7863438232582192,
          0.7870783457042181,
          0.7883890525423659,
          0.7794722227894493,
          0.7885837871442194,
          0.7874114815667331,
          0.7881540347894581,
          0.7857651173256412
         ]
        },
        {
         "name": "Best Value",
         "type": "scatter",
         "x": [
          0,
          1,
          2,
          3,
          4,
          5,
          6,
          7,
          8,
          9,
          10,
          11,
          12,
          13,
          14,
          15,
          16,
          17,
          18,
          19,
          20,
          21,
          22,
          23,
          24,
          25,
          26,
          27,
          28,
          29,
          30,
          31,
          32,
          33,
          34,
          35,
          36,
          37,
          38,
          39,
          40,
          41,
          42,
          43,
          44,
          45,
          46,
          47,
          48,
          49
         ],
         "y": [
          0.7792108918887244,
          0.7792108918887244,
          0.7792108918887244,
          0.7792108918887244,
          0.7792108918887244,
          0.7792108918887244,
          0.7792108918887244,
          0.7877384554135762,
          0.7877384554135762,
          0.7877384554135762,
          0.7877384554135762,
          0.7877384554135762,
          0.7877384554135762,
          0.7881549025764463,
          0.7881549025764463,
          0.7881549025764463,
          0.7881549025764463,
          0.7881549025764463,
          0.7886356112899209,
          0.7886356112899209,
          0.7886356112899209,
          0.7886356112899209,
          0.7889761186451215,
          0.7889761186451215,
          0.7889761186451215,
          0.7889761186451215,
          0.7889761186451215,
          0.7889761186451215,
          0.7889761186451215,
          0.7889761186451215,
          0.7891514597312479,
          0.7891514597312479,
          0.7891514597312479,
          0.7891514597312479,
          0.7891514597312479,
          0.7891514597312479,
          0.7891514597312479,
          0.7891514597312479,
          0.7891514597312479,
          0.7891514597312479,
          0.7891514597312479,
          0.7891514597312479,
          0.7891514597312479,
          0.7891514597312479,
          0.7891514597312479,
          0.7891514597312479,
          0.7891514597312479,
          0.7891514597312479,
          0.7891514597312479,
          0.7891514597312479
         ]
        }
       ],
       "layout": {
        "template": {
         "data": {
          "bar": [
           {
            "error_x": {
             "color": "#2a3f5f"
            },
            "error_y": {
             "color": "#2a3f5f"
            },
            "marker": {
             "line": {
              "color": "#E5ECF6",
              "width": 0.5
             },
             "pattern": {
              "fillmode": "overlay",
              "size": 10,
              "solidity": 0.2
             }
            },
            "type": "bar"
           }
          ],
          "barpolar": [
           {
            "marker": {
             "line": {
              "color": "#E5ECF6",
              "width": 0.5
             },
             "pattern": {
              "fillmode": "overlay",
              "size": 10,
              "solidity": 0.2
             }
            },
            "type": "barpolar"
           }
          ],
          "carpet": [
           {
            "aaxis": {
             "endlinecolor": "#2a3f5f",
             "gridcolor": "white",
             "linecolor": "white",
             "minorgridcolor": "white",
             "startlinecolor": "#2a3f5f"
            },
            "baxis": {
             "endlinecolor": "#2a3f5f",
             "gridcolor": "white",
             "linecolor": "white",
             "minorgridcolor": "white",
             "startlinecolor": "#2a3f5f"
            },
            "type": "carpet"
           }
          ],
          "choropleth": [
           {
            "colorbar": {
             "outlinewidth": 0,
             "ticks": ""
            },
            "type": "choropleth"
           }
          ],
          "contour": [
           {
            "colorbar": {
             "outlinewidth": 0,
             "ticks": ""
            },
            "colorscale": [
             [
              0,
              "#0d0887"
             ],
             [
              0.1111111111111111,
              "#46039f"
             ],
             [
              0.2222222222222222,
              "#7201a8"
             ],
             [
              0.3333333333333333,
              "#9c179e"
             ],
             [
              0.4444444444444444,
              "#bd3786"
             ],
             [
              0.5555555555555556,
              "#d8576b"
             ],
             [
              0.6666666666666666,
              "#ed7953"
             ],
             [
              0.7777777777777778,
              "#fb9f3a"
             ],
             [
              0.8888888888888888,
              "#fdca26"
             ],
             [
              1,
              "#f0f921"
             ]
            ],
            "type": "contour"
           }
          ],
          "contourcarpet": [
           {
            "colorbar": {
             "outlinewidth": 0,
             "ticks": ""
            },
            "type": "contourcarpet"
           }
          ],
          "heatmap": [
           {
            "colorbar": {
             "outlinewidth": 0,
             "ticks": ""
            },
            "colorscale": [
             [
              0,
              "#0d0887"
             ],
             [
              0.1111111111111111,
              "#46039f"
             ],
             [
              0.2222222222222222,
              "#7201a8"
             ],
             [
              0.3333333333333333,
              "#9c179e"
             ],
             [
              0.4444444444444444,
              "#bd3786"
             ],
             [
              0.5555555555555556,
              "#d8576b"
             ],
             [
              0.6666666666666666,
              "#ed7953"
             ],
             [
              0.7777777777777778,
              "#fb9f3a"
             ],
             [
              0.8888888888888888,
              "#fdca26"
             ],
             [
              1,
              "#f0f921"
             ]
            ],
            "type": "heatmap"
           }
          ],
          "heatmapgl": [
           {
            "colorbar": {
             "outlinewidth": 0,
             "ticks": ""
            },
            "colorscale": [
             [
              0,
              "#0d0887"
             ],
             [
              0.1111111111111111,
              "#46039f"
             ],
             [
              0.2222222222222222,
              "#7201a8"
             ],
             [
              0.3333333333333333,
              "#9c179e"
             ],
             [
              0.4444444444444444,
              "#bd3786"
             ],
             [
              0.5555555555555556,
              "#d8576b"
             ],
             [
              0.6666666666666666,
              "#ed7953"
             ],
             [
              0.7777777777777778,
              "#fb9f3a"
             ],
             [
              0.8888888888888888,
              "#fdca26"
             ],
             [
              1,
              "#f0f921"
             ]
            ],
            "type": "heatmapgl"
           }
          ],
          "histogram": [
           {
            "marker": {
             "pattern": {
              "fillmode": "overlay",
              "size": 10,
              "solidity": 0.2
             }
            },
            "type": "histogram"
           }
          ],
          "histogram2d": [
           {
            "colorbar": {
             "outlinewidth": 0,
             "ticks": ""
            },
            "colorscale": [
             [
              0,
              "#0d0887"
             ],
             [
              0.1111111111111111,
              "#46039f"
             ],
             [
              0.2222222222222222,
              "#7201a8"
             ],
             [
              0.3333333333333333,
              "#9c179e"
             ],
             [
              0.4444444444444444,
              "#bd3786"
             ],
             [
              0.5555555555555556,
              "#d8576b"
             ],
             [
              0.6666666666666666,
              "#ed7953"
             ],
             [
              0.7777777777777778,
              "#fb9f3a"
             ],
             [
              0.8888888888888888,
              "#fdca26"
             ],
             [
              1,
              "#f0f921"
             ]
            ],
            "type": "histogram2d"
           }
          ],
          "histogram2dcontour": [
           {
            "colorbar": {
             "outlinewidth": 0,
             "ticks": ""
            },
            "colorscale": [
             [
              0,
              "#0d0887"
             ],
             [
              0.1111111111111111,
              "#46039f"
             ],
             [
              0.2222222222222222,
              "#7201a8"
             ],
             [
              0.3333333333333333,
              "#9c179e"
             ],
             [
              0.4444444444444444,
              "#bd3786"
             ],
             [
              0.5555555555555556,
              "#d8576b"
             ],
             [
              0.6666666666666666,
              "#ed7953"
             ],
             [
              0.7777777777777778,
              "#fb9f3a"
             ],
             [
              0.8888888888888888,
              "#fdca26"
             ],
             [
              1,
              "#f0f921"
             ]
            ],
            "type": "histogram2dcontour"
           }
          ],
          "mesh3d": [
           {
            "colorbar": {
             "outlinewidth": 0,
             "ticks": ""
            },
            "type": "mesh3d"
           }
          ],
          "parcoords": [
           {
            "line": {
             "colorbar": {
              "outlinewidth": 0,
              "ticks": ""
             }
            },
            "type": "parcoords"
           }
          ],
          "pie": [
           {
            "automargin": true,
            "type": "pie"
           }
          ],
          "scatter": [
           {
            "fillpattern": {
             "fillmode": "overlay",
             "size": 10,
             "solidity": 0.2
            },
            "type": "scatter"
           }
          ],
          "scatter3d": [
           {
            "line": {
             "colorbar": {
              "outlinewidth": 0,
              "ticks": ""
             }
            },
            "marker": {
             "colorbar": {
              "outlinewidth": 0,
              "ticks": ""
             }
            },
            "type": "scatter3d"
           }
          ],
          "scattercarpet": [
           {
            "marker": {
             "colorbar": {
              "outlinewidth": 0,
              "ticks": ""
             }
            },
            "type": "scattercarpet"
           }
          ],
          "scattergeo": [
           {
            "marker": {
             "colorbar": {
              "outlinewidth": 0,
              "ticks": ""
             }
            },
            "type": "scattergeo"
           }
          ],
          "scattergl": [
           {
            "marker": {
             "colorbar": {
              "outlinewidth": 0,
              "ticks": ""
             }
            },
            "type": "scattergl"
           }
          ],
          "scattermapbox": [
           {
            "marker": {
             "colorbar": {
              "outlinewidth": 0,
              "ticks": ""
             }
            },
            "type": "scattermapbox"
           }
          ],
          "scatterpolar": [
           {
            "marker": {
             "colorbar": {
              "outlinewidth": 0,
              "ticks": ""
             }
            },
            "type": "scatterpolar"
           }
          ],
          "scatterpolargl": [
           {
            "marker": {
             "colorbar": {
              "outlinewidth": 0,
              "ticks": ""
             }
            },
            "type": "scatterpolargl"
           }
          ],
          "scatterternary": [
           {
            "marker": {
             "colorbar": {
              "outlinewidth": 0,
              "ticks": ""
             }
            },
            "type": "scatterternary"
           }
          ],
          "surface": [
           {
            "colorbar": {
             "outlinewidth": 0,
             "ticks": ""
            },
            "colorscale": [
             [
              0,
              "#0d0887"
             ],
             [
              0.1111111111111111,
              "#46039f"
             ],
             [
              0.2222222222222222,
              "#7201a8"
             ],
             [
              0.3333333333333333,
              "#9c179e"
             ],
             [
              0.4444444444444444,
              "#bd3786"
             ],
             [
              0.5555555555555556,
              "#d8576b"
             ],
             [
              0.6666666666666666,
              "#ed7953"
             ],
             [
              0.7777777777777778,
              "#fb9f3a"
             ],
             [
              0.8888888888888888,
              "#fdca26"
             ],
             [
              1,
              "#f0f921"
             ]
            ],
            "type": "surface"
           }
          ],
          "table": [
           {
            "cells": {
             "fill": {
              "color": "#EBF0F8"
             },
             "line": {
              "color": "white"
             }
            },
            "header": {
             "fill": {
              "color": "#C8D4E3"
             },
             "line": {
              "color": "white"
             }
            },
            "type": "table"
           }
          ]
         },
         "layout": {
          "annotationdefaults": {
           "arrowcolor": "#2a3f5f",
           "arrowhead": 0,
           "arrowwidth": 1
          },
          "autotypenumbers": "strict",
          "coloraxis": {
           "colorbar": {
            "outlinewidth": 0,
            "ticks": ""
           }
          },
          "colorscale": {
           "diverging": [
            [
             0,
             "#8e0152"
            ],
            [
             0.1,
             "#c51b7d"
            ],
            [
             0.2,
             "#de77ae"
            ],
            [
             0.3,
             "#f1b6da"
            ],
            [
             0.4,
             "#fde0ef"
            ],
            [
             0.5,
             "#f7f7f7"
            ],
            [
             0.6,
             "#e6f5d0"
            ],
            [
             0.7,
             "#b8e186"
            ],
            [
             0.8,
             "#7fbc41"
            ],
            [
             0.9,
             "#4d9221"
            ],
            [
             1,
             "#276419"
            ]
           ],
           "sequential": [
            [
             0,
             "#0d0887"
            ],
            [
             0.1111111111111111,
             "#46039f"
            ],
            [
             0.2222222222222222,
             "#7201a8"
            ],
            [
             0.3333333333333333,
             "#9c179e"
            ],
            [
             0.4444444444444444,
             "#bd3786"
            ],
            [
             0.5555555555555556,
             "#d8576b"
            ],
            [
             0.6666666666666666,
             "#ed7953"
            ],
            [
             0.7777777777777778,
             "#fb9f3a"
            ],
            [
             0.8888888888888888,
             "#fdca26"
            ],
            [
             1,
             "#f0f921"
            ]
           ],
           "sequentialminus": [
            [
             0,
             "#0d0887"
            ],
            [
             0.1111111111111111,
             "#46039f"
            ],
            [
             0.2222222222222222,
             "#7201a8"
            ],
            [
             0.3333333333333333,
             "#9c179e"
            ],
            [
             0.4444444444444444,
             "#bd3786"
            ],
            [
             0.5555555555555556,
             "#d8576b"
            ],
            [
             0.6666666666666666,
             "#ed7953"
            ],
            [
             0.7777777777777778,
             "#fb9f3a"
            ],
            [
             0.8888888888888888,
             "#fdca26"
            ],
            [
             1,
             "#f0f921"
            ]
           ]
          },
          "colorway": [
           "#636efa",
           "#EF553B",
           "#00cc96",
           "#ab63fa",
           "#FFA15A",
           "#19d3f3",
           "#FF6692",
           "#B6E880",
           "#FF97FF",
           "#FECB52"
          ],
          "font": {
           "color": "#2a3f5f"
          },
          "geo": {
           "bgcolor": "white",
           "lakecolor": "white",
           "landcolor": "#E5ECF6",
           "showlakes": true,
           "showland": true,
           "subunitcolor": "white"
          },
          "hoverlabel": {
           "align": "left"
          },
          "hovermode": "closest",
          "mapbox": {
           "style": "light"
          },
          "paper_bgcolor": "white",
          "plot_bgcolor": "#E5ECF6",
          "polar": {
           "angularaxis": {
            "gridcolor": "white",
            "linecolor": "white",
            "ticks": ""
           },
           "bgcolor": "#E5ECF6",
           "radialaxis": {
            "gridcolor": "white",
            "linecolor": "white",
            "ticks": ""
           }
          },
          "scene": {
           "xaxis": {
            "backgroundcolor": "#E5ECF6",
            "gridcolor": "white",
            "gridwidth": 2,
            "linecolor": "white",
            "showbackground": true,
            "ticks": "",
            "zerolinecolor": "white"
           },
           "yaxis": {
            "backgroundcolor": "#E5ECF6",
            "gridcolor": "white",
            "gridwidth": 2,
            "linecolor": "white",
            "showbackground": true,
            "ticks": "",
            "zerolinecolor": "white"
           },
           "zaxis": {
            "backgroundcolor": "#E5ECF6",
            "gridcolor": "white",
            "gridwidth": 2,
            "linecolor": "white",
            "showbackground": true,
            "ticks": "",
            "zerolinecolor": "white"
           }
          },
          "shapedefaults": {
           "line": {
            "color": "#2a3f5f"
           }
          },
          "ternary": {
           "aaxis": {
            "gridcolor": "white",
            "linecolor": "white",
            "ticks": ""
           },
           "baxis": {
            "gridcolor": "white",
            "linecolor": "white",
            "ticks": ""
           },
           "bgcolor": "#E5ECF6",
           "caxis": {
            "gridcolor": "white",
            "linecolor": "white",
            "ticks": ""
           }
          },
          "title": {
           "x": 0.05
          },
          "xaxis": {
           "automargin": true,
           "gridcolor": "white",
           "linecolor": "white",
           "ticks": "",
           "title": {
            "standoff": 15
           },
           "zerolinecolor": "white",
           "zerolinewidth": 2
          },
          "yaxis": {
           "automargin": true,
           "gridcolor": "white",
           "linecolor": "white",
           "ticks": "",
           "title": {
            "standoff": 15
           },
           "zerolinecolor": "white",
           "zerolinewidth": 2
          }
         }
        },
        "title": {
         "text": "Optimization History Plot"
        },
        "xaxis": {
         "title": {
          "text": "Trial"
         }
        },
        "yaxis": {
         "title": {
          "text": "f1_score"
         }
        }
       }
      }
     },
     "metadata": {},
     "output_type": "display_data"
    }
   ],
   "source": [
    "#Построим графики визуализации для второго набора гиперпараметров\n",
    "\n",
    "# история оптимизации\n",
    "optuna.visualization.plot_optimization_history(study_2, target_name=\"f1_score\")"
   ]
  },
  {
   "attachments": {},
   "cell_type": "markdown",
   "metadata": {},
   "source": [
    "Следует использовать эту диаграмму, чтобы проверить, идет ли оптимизация гиперпараметров в правильном направлении или нет (в данном случае наблюдаем увеличение значений метрики)"
   ]
  },
  {
   "cell_type": "code",
   "execution_count": 128,
   "metadata": {},
   "outputs": [
    {
     "data": {
      "application/vnd.plotly.v1+json": {
       "config": {
        "plotlyServerURL": "https://plot.ly"
       },
       "data": [
        {
         "cliponaxis": false,
         "hovertemplate": [
          "solver (CategoricalDistribution): 0.014334079337670327<extra></extra>",
          "C (FloatDistribution): 0.09180724256674734<extra></extra>",
          "penalty (CategoricalDistribution): 0.8938586780955824<extra></extra>"
         ],
         "marker": {
          "color": "rgb(66,146,198)"
         },
         "orientation": "h",
         "text": [
          "0.01",
          "0.09",
          "0.89"
         ],
         "textposition": "outside",
         "type": "bar",
         "x": [
          0.014334079337670327,
          0.09180724256674734,
          0.8938586780955824
         ],
         "y": [
          "solver",
          "C",
          "penalty"
         ]
        }
       ],
       "layout": {
        "showlegend": false,
        "template": {
         "data": {
          "bar": [
           {
            "error_x": {
             "color": "#2a3f5f"
            },
            "error_y": {
             "color": "#2a3f5f"
            },
            "marker": {
             "line": {
              "color": "#E5ECF6",
              "width": 0.5
             },
             "pattern": {
              "fillmode": "overlay",
              "size": 10,
              "solidity": 0.2
             }
            },
            "type": "bar"
           }
          ],
          "barpolar": [
           {
            "marker": {
             "line": {
              "color": "#E5ECF6",
              "width": 0.5
             },
             "pattern": {
              "fillmode": "overlay",
              "size": 10,
              "solidity": 0.2
             }
            },
            "type": "barpolar"
           }
          ],
          "carpet": [
           {
            "aaxis": {
             "endlinecolor": "#2a3f5f",
             "gridcolor": "white",
             "linecolor": "white",
             "minorgridcolor": "white",
             "startlinecolor": "#2a3f5f"
            },
            "baxis": {
             "endlinecolor": "#2a3f5f",
             "gridcolor": "white",
             "linecolor": "white",
             "minorgridcolor": "white",
             "startlinecolor": "#2a3f5f"
            },
            "type": "carpet"
           }
          ],
          "choropleth": [
           {
            "colorbar": {
             "outlinewidth": 0,
             "ticks": ""
            },
            "type": "choropleth"
           }
          ],
          "contour": [
           {
            "colorbar": {
             "outlinewidth": 0,
             "ticks": ""
            },
            "colorscale": [
             [
              0,
              "#0d0887"
             ],
             [
              0.1111111111111111,
              "#46039f"
             ],
             [
              0.2222222222222222,
              "#7201a8"
             ],
             [
              0.3333333333333333,
              "#9c179e"
             ],
             [
              0.4444444444444444,
              "#bd3786"
             ],
             [
              0.5555555555555556,
              "#d8576b"
             ],
             [
              0.6666666666666666,
              "#ed7953"
             ],
             [
              0.7777777777777778,
              "#fb9f3a"
             ],
             [
              0.8888888888888888,
              "#fdca26"
             ],
             [
              1,
              "#f0f921"
             ]
            ],
            "type": "contour"
           }
          ],
          "contourcarpet": [
           {
            "colorbar": {
             "outlinewidth": 0,
             "ticks": ""
            },
            "type": "contourcarpet"
           }
          ],
          "heatmap": [
           {
            "colorbar": {
             "outlinewidth": 0,
             "ticks": ""
            },
            "colorscale": [
             [
              0,
              "#0d0887"
             ],
             [
              0.1111111111111111,
              "#46039f"
             ],
             [
              0.2222222222222222,
              "#7201a8"
             ],
             [
              0.3333333333333333,
              "#9c179e"
             ],
             [
              0.4444444444444444,
              "#bd3786"
             ],
             [
              0.5555555555555556,
              "#d8576b"
             ],
             [
              0.6666666666666666,
              "#ed7953"
             ],
             [
              0.7777777777777778,
              "#fb9f3a"
             ],
             [
              0.8888888888888888,
              "#fdca26"
             ],
             [
              1,
              "#f0f921"
             ]
            ],
            "type": "heatmap"
           }
          ],
          "heatmapgl": [
           {
            "colorbar": {
             "outlinewidth": 0,
             "ticks": ""
            },
            "colorscale": [
             [
              0,
              "#0d0887"
             ],
             [
              0.1111111111111111,
              "#46039f"
             ],
             [
              0.2222222222222222,
              "#7201a8"
             ],
             [
              0.3333333333333333,
              "#9c179e"
             ],
             [
              0.4444444444444444,
              "#bd3786"
             ],
             [
              0.5555555555555556,
              "#d8576b"
             ],
             [
              0.6666666666666666,
              "#ed7953"
             ],
             [
              0.7777777777777778,
              "#fb9f3a"
             ],
             [
              0.8888888888888888,
              "#fdca26"
             ],
             [
              1,
              "#f0f921"
             ]
            ],
            "type": "heatmapgl"
           }
          ],
          "histogram": [
           {
            "marker": {
             "pattern": {
              "fillmode": "overlay",
              "size": 10,
              "solidity": 0.2
             }
            },
            "type": "histogram"
           }
          ],
          "histogram2d": [
           {
            "colorbar": {
             "outlinewidth": 0,
             "ticks": ""
            },
            "colorscale": [
             [
              0,
              "#0d0887"
             ],
             [
              0.1111111111111111,
              "#46039f"
             ],
             [
              0.2222222222222222,
              "#7201a8"
             ],
             [
              0.3333333333333333,
              "#9c179e"
             ],
             [
              0.4444444444444444,
              "#bd3786"
             ],
             [
              0.5555555555555556,
              "#d8576b"
             ],
             [
              0.6666666666666666,
              "#ed7953"
             ],
             [
              0.7777777777777778,
              "#fb9f3a"
             ],
             [
              0.8888888888888888,
              "#fdca26"
             ],
             [
              1,
              "#f0f921"
             ]
            ],
            "type": "histogram2d"
           }
          ],
          "histogram2dcontour": [
           {
            "colorbar": {
             "outlinewidth": 0,
             "ticks": ""
            },
            "colorscale": [
             [
              0,
              "#0d0887"
             ],
             [
              0.1111111111111111,
              "#46039f"
             ],
             [
              0.2222222222222222,
              "#7201a8"
             ],
             [
              0.3333333333333333,
              "#9c179e"
             ],
             [
              0.4444444444444444,
              "#bd3786"
             ],
             [
              0.5555555555555556,
              "#d8576b"
             ],
             [
              0.6666666666666666,
              "#ed7953"
             ],
             [
              0.7777777777777778,
              "#fb9f3a"
             ],
             [
              0.8888888888888888,
              "#fdca26"
             ],
             [
              1,
              "#f0f921"
             ]
            ],
            "type": "histogram2dcontour"
           }
          ],
          "mesh3d": [
           {
            "colorbar": {
             "outlinewidth": 0,
             "ticks": ""
            },
            "type": "mesh3d"
           }
          ],
          "parcoords": [
           {
            "line": {
             "colorbar": {
              "outlinewidth": 0,
              "ticks": ""
             }
            },
            "type": "parcoords"
           }
          ],
          "pie": [
           {
            "automargin": true,
            "type": "pie"
           }
          ],
          "scatter": [
           {
            "fillpattern": {
             "fillmode": "overlay",
             "size": 10,
             "solidity": 0.2
            },
            "type": "scatter"
           }
          ],
          "scatter3d": [
           {
            "line": {
             "colorbar": {
              "outlinewidth": 0,
              "ticks": ""
             }
            },
            "marker": {
             "colorbar": {
              "outlinewidth": 0,
              "ticks": ""
             }
            },
            "type": "scatter3d"
           }
          ],
          "scattercarpet": [
           {
            "marker": {
             "colorbar": {
              "outlinewidth": 0,
              "ticks": ""
             }
            },
            "type": "scattercarpet"
           }
          ],
          "scattergeo": [
           {
            "marker": {
             "colorbar": {
              "outlinewidth": 0,
              "ticks": ""
             }
            },
            "type": "scattergeo"
           }
          ],
          "scattergl": [
           {
            "marker": {
             "colorbar": {
              "outlinewidth": 0,
              "ticks": ""
             }
            },
            "type": "scattergl"
           }
          ],
          "scattermapbox": [
           {
            "marker": {
             "colorbar": {
              "outlinewidth": 0,
              "ticks": ""
             }
            },
            "type": "scattermapbox"
           }
          ],
          "scatterpolar": [
           {
            "marker": {
             "colorbar": {
              "outlinewidth": 0,
              "ticks": ""
             }
            },
            "type": "scatterpolar"
           }
          ],
          "scatterpolargl": [
           {
            "marker": {
             "colorbar": {
              "outlinewidth": 0,
              "ticks": ""
             }
            },
            "type": "scatterpolargl"
           }
          ],
          "scatterternary": [
           {
            "marker": {
             "colorbar": {
              "outlinewidth": 0,
              "ticks": ""
             }
            },
            "type": "scatterternary"
           }
          ],
          "surface": [
           {
            "colorbar": {
             "outlinewidth": 0,
             "ticks": ""
            },
            "colorscale": [
             [
              0,
              "#0d0887"
             ],
             [
              0.1111111111111111,
              "#46039f"
             ],
             [
              0.2222222222222222,
              "#7201a8"
             ],
             [
              0.3333333333333333,
              "#9c179e"
             ],
             [
              0.4444444444444444,
              "#bd3786"
             ],
             [
              0.5555555555555556,
              "#d8576b"
             ],
             [
              0.6666666666666666,
              "#ed7953"
             ],
             [
              0.7777777777777778,
              "#fb9f3a"
             ],
             [
              0.8888888888888888,
              "#fdca26"
             ],
             [
              1,
              "#f0f921"
             ]
            ],
            "type": "surface"
           }
          ],
          "table": [
           {
            "cells": {
             "fill": {
              "color": "#EBF0F8"
             },
             "line": {
              "color": "white"
             }
            },
            "header": {
             "fill": {
              "color": "#C8D4E3"
             },
             "line": {
              "color": "white"
             }
            },
            "type": "table"
           }
          ]
         },
         "layout": {
          "annotationdefaults": {
           "arrowcolor": "#2a3f5f",
           "arrowhead": 0,
           "arrowwidth": 1
          },
          "autotypenumbers": "strict",
          "coloraxis": {
           "colorbar": {
            "outlinewidth": 0,
            "ticks": ""
           }
          },
          "colorscale": {
           "diverging": [
            [
             0,
             "#8e0152"
            ],
            [
             0.1,
             "#c51b7d"
            ],
            [
             0.2,
             "#de77ae"
            ],
            [
             0.3,
             "#f1b6da"
            ],
            [
             0.4,
             "#fde0ef"
            ],
            [
             0.5,
             "#f7f7f7"
            ],
            [
             0.6,
             "#e6f5d0"
            ],
            [
             0.7,
             "#b8e186"
            ],
            [
             0.8,
             "#7fbc41"
            ],
            [
             0.9,
             "#4d9221"
            ],
            [
             1,
             "#276419"
            ]
           ],
           "sequential": [
            [
             0,
             "#0d0887"
            ],
            [
             0.1111111111111111,
             "#46039f"
            ],
            [
             0.2222222222222222,
             "#7201a8"
            ],
            [
             0.3333333333333333,
             "#9c179e"
            ],
            [
             0.4444444444444444,
             "#bd3786"
            ],
            [
             0.5555555555555556,
             "#d8576b"
            ],
            [
             0.6666666666666666,
             "#ed7953"
            ],
            [
             0.7777777777777778,
             "#fb9f3a"
            ],
            [
             0.8888888888888888,
             "#fdca26"
            ],
            [
             1,
             "#f0f921"
            ]
           ],
           "sequentialminus": [
            [
             0,
             "#0d0887"
            ],
            [
             0.1111111111111111,
             "#46039f"
            ],
            [
             0.2222222222222222,
             "#7201a8"
            ],
            [
             0.3333333333333333,
             "#9c179e"
            ],
            [
             0.4444444444444444,
             "#bd3786"
            ],
            [
             0.5555555555555556,
             "#d8576b"
            ],
            [
             0.6666666666666666,
             "#ed7953"
            ],
            [
             0.7777777777777778,
             "#fb9f3a"
            ],
            [
             0.8888888888888888,
             "#fdca26"
            ],
            [
             1,
             "#f0f921"
            ]
           ]
          },
          "colorway": [
           "#636efa",
           "#EF553B",
           "#00cc96",
           "#ab63fa",
           "#FFA15A",
           "#19d3f3",
           "#FF6692",
           "#B6E880",
           "#FF97FF",
           "#FECB52"
          ],
          "font": {
           "color": "#2a3f5f"
          },
          "geo": {
           "bgcolor": "white",
           "lakecolor": "white",
           "landcolor": "#E5ECF6",
           "showlakes": true,
           "showland": true,
           "subunitcolor": "white"
          },
          "hoverlabel": {
           "align": "left"
          },
          "hovermode": "closest",
          "mapbox": {
           "style": "light"
          },
          "paper_bgcolor": "white",
          "plot_bgcolor": "#E5ECF6",
          "polar": {
           "angularaxis": {
            "gridcolor": "white",
            "linecolor": "white",
            "ticks": ""
           },
           "bgcolor": "#E5ECF6",
           "radialaxis": {
            "gridcolor": "white",
            "linecolor": "white",
            "ticks": ""
           }
          },
          "scene": {
           "xaxis": {
            "backgroundcolor": "#E5ECF6",
            "gridcolor": "white",
            "gridwidth": 2,
            "linecolor": "white",
            "showbackground": true,
            "ticks": "",
            "zerolinecolor": "white"
           },
           "yaxis": {
            "backgroundcolor": "#E5ECF6",
            "gridcolor": "white",
            "gridwidth": 2,
            "linecolor": "white",
            "showbackground": true,
            "ticks": "",
            "zerolinecolor": "white"
           },
           "zaxis": {
            "backgroundcolor": "#E5ECF6",
            "gridcolor": "white",
            "gridwidth": 2,
            "linecolor": "white",
            "showbackground": true,
            "ticks": "",
            "zerolinecolor": "white"
           }
          },
          "shapedefaults": {
           "line": {
            "color": "#2a3f5f"
           }
          },
          "ternary": {
           "aaxis": {
            "gridcolor": "white",
            "linecolor": "white",
            "ticks": ""
           },
           "baxis": {
            "gridcolor": "white",
            "linecolor": "white",
            "ticks": ""
           },
           "bgcolor": "#E5ECF6",
           "caxis": {
            "gridcolor": "white",
            "linecolor": "white",
            "ticks": ""
           }
          },
          "title": {
           "x": 0.05
          },
          "xaxis": {
           "automargin": true,
           "gridcolor": "white",
           "linecolor": "white",
           "ticks": "",
           "title": {
            "standoff": 15
           },
           "zerolinecolor": "white",
           "zerolinewidth": 2
          },
          "yaxis": {
           "automargin": true,
           "gridcolor": "white",
           "linecolor": "white",
           "ticks": "",
           "title": {
            "standoff": 15
           },
           "zerolinecolor": "white",
           "zerolinewidth": 2
          }
         }
        },
        "title": {
         "text": "Hyperparameter Importances"
        },
        "xaxis": {
         "title": {
          "text": "Importance for f1_score"
         }
        },
        "yaxis": {
         "title": {
          "text": "Hyperparameter"
         }
        }
       }
      }
     },
     "metadata": {},
     "output_type": "display_data"
    }
   ],
   "source": [
    "# график важности гиперпараметров\n",
    "optuna.visualization.plot_param_importances(study_2, target_name=\"f1_score\")"
   ]
  },
  {
   "attachments": {},
   "cell_type": "markdown",
   "metadata": {},
   "source": [
    "Из этого графика можно сделать вывод, что стоит обратить значительное внимание на настройку гиперпараметра \"penalty\""
   ]
  },
  {
   "attachments": {},
   "cell_type": "markdown",
   "metadata": {},
   "source": [
    "### <center> **Random Forest**"
   ]
  },
  {
   "attachments": {},
   "cell_type": "markdown",
   "metadata": {},
   "source": [
    "#### <center> **Baseline**"
   ]
  },
  {
   "attachments": {},
   "cell_type": "markdown",
   "metadata": {},
   "source": [
    "Зафиксируем показатель метрики, который был получены без дополнительной настройки, т.е со значениями гиперпараметров, установленных по умолчанию"
   ]
  },
  {
   "cell_type": "code",
   "execution_count": 129,
   "metadata": {},
   "outputs": [
    {
     "name": "stdout",
     "output_type": "stream",
     "text": [
      "f1_score на тестовом наборе (baseline): 0.81\n"
     ]
    }
   ],
   "source": [
    "#Создаем объект\n",
    "random_reg = ensemble.RandomForestClassifier(random_state=RANDOM_SEED)\n",
    "\n",
    "# Обучаем модель\n",
    "score_reg = cross_val_score(random_reg, X, y, cv=5, scoring=\"f1\", n_jobs=-1).mean()\n",
    "\n",
    "# выводим метрики\n",
    "print('f1_score на тестовом наборе (baseline): {:.2f}'.format(score_reg))"
   ]
  },
  {
   "attachments": {},
   "cell_type": "markdown",
   "metadata": {},
   "source": [
    "***Вывод***\n",
    "\n",
    "Полученное значение метрики (baseline) для алгоритма RandomForest значительно превышает аналогичный показатель для LogisticRegression, что свидетельствует о большей эффективности алгоритма RandomForest в данном случае"
   ]
  },
  {
   "attachments": {},
   "cell_type": "markdown",
   "metadata": {},
   "source": [
    "#### <center> **GridSearchCV**"
   ]
  },
  {
   "cell_type": "code",
   "execution_count": 130,
   "metadata": {},
   "outputs": [
    {
     "name": "stdout",
     "output_type": "stream",
     "text": [
      "CPU times: total: 0 ns\n",
      "Wall time: 0 ns\n",
      "f1_score на тестовом наборе (GridSearchCV): 0.81\n",
      "Наилучшие значения гиперпараметров: {'criterion': 'gini', 'max_depth': 17, 'min_samples_leaf': 1, 'n_estimators': 170}\n"
     ]
    }
   ],
   "source": [
    "%time\n",
    "# задаём сетку параметров\n",
    "param_grid_for = {'n_estimators': list(range(50, 200, 30)), # количество деревьев в лесу\n",
    "              'min_samples_leaf': list(range(1, 6, 1)), # минимальное число объектов в листе\n",
    "              'max_depth': list(np.linspace(10, 40, 5, dtype=int)), # максимальная глубина одного дерева\n",
    "              'criterion': ['gini', 'entropy'] # критерий информативности разбиения для каждого из деревьев\n",
    "              }\n",
    "            \n",
    "grid_search_forest = GridSearchCV(\n",
    "    estimator=ensemble.RandomForestClassifier(random_state=RANDOM_SEED), \n",
    "    param_grid=param_grid_for, \n",
    "    cv=5, \n",
    "    n_jobs = -1,\n",
    ")  \n",
    " \n",
    "grid_search_forest.fit(X_train, y_train)\n",
    "y_test_pred = grid_search_forest.predict(X_test)\n",
    "\n",
    "print('f1_score на тестовом наборе (GridSearchCV): {:.2f}'.format(metrics.f1_score(y_test, y_test_pred)))\n",
    "print(\"Наилучшие значения гиперпараметров: {}\".format(grid_search_forest.best_params_))"
   ]
  },
  {
   "attachments": {},
   "cell_type": "markdown",
   "metadata": {},
   "source": [
    "***Вывод***\n",
    "\n",
    "Полученный результат метрики при использовании GridSearchCV идентичен для показателей baseline данного алгоритма, при этом временные затраты значительно выше "
   ]
  },
  {
   "attachments": {},
   "cell_type": "markdown",
   "metadata": {},
   "source": [
    "#### <center> **RandomizedSearchCV**"
   ]
  },
  {
   "cell_type": "code",
   "execution_count": 131,
   "metadata": {},
   "outputs": [
    {
     "name": "stdout",
     "output_type": "stream",
     "text": [
      "f1_score на тестовом наборе (RandomizedSearchCV): 0.81\n",
      "Наилучшие значения гиперпараметров: {'n_estimators': 170, 'min_samples_leaf': 1, 'max_depth': 17, 'criterion': 'gini'}\n"
     ]
    }
   ],
   "source": [
    "param_random_for = {'n_estimators': list(range(50, 200, 30)), # количество деревьев в лесу\n",
    "              'min_samples_leaf': list(range(1, 6, 1)),\n",
    "              'max_depth': list(np.linspace(10, 40, 5, dtype=int)), # максимальная глубина одного дерева\n",
    "              'criterion': ['gini', 'entropy'] # критерий информативности разбиения для каждого из деревьев\n",
    "              }\n",
    "            \n",
    "random_search_forest = RandomizedSearchCV(\n",
    "    estimator=ensemble.RandomForestClassifier(random_state=RANDOM_SEED), \n",
    "    param_distributions=param_random_for, \n",
    "    cv=5,\n",
    "    n_iter = 50, \n",
    "    n_jobs = -1,\n",
    "    \n",
    ")  \n",
    "random_search_forest.fit(X_train, y_train) \n",
    "y_test_pred = random_search_forest.predict(X_test)\n",
    "print('f1_score на тестовом наборе (RandomizedSearchCV): {:.2f}'.format(metrics.f1_score(y_test, y_test_pred)))\n",
    "print(\"Наилучшие значения гиперпараметров: {}\".format(random_search_forest.best_params_))\n"
   ]
  },
  {
   "attachments": {},
   "cell_type": "markdown",
   "metadata": {},
   "source": [
    "***Вывод***\n",
    "\n",
    "Полученный результат метрики при использовании RandomizedSearchCV идентичен для показателей baseline и GridSearchCV данного алгоритма, при этом временные затраты значительно ниже в сравнении с GridSearchCV"
   ]
  },
  {
   "attachments": {},
   "cell_type": "markdown",
   "metadata": {},
   "source": [
    "#### <center> Hyperopt"
   ]
  },
  {
   "cell_type": "code",
   "execution_count": 132,
   "metadata": {},
   "outputs": [],
   "source": [
    "space = {'n_estimators': hp.quniform('n_estimators', 50, 200, 30), # количество деревьев в лесу\n",
    "              'min_samples_leaf': hp.quniform('min_samples_leaf', 1, 6, 1),\n",
    "              'max_depth': hp.quniform('max_depth', 10, 40, 5), # максимальная глубина одного дерева\n",
    "              'criterion': hp.choice(label='criterion', options=['gini', 'entropy']) # критерий информативности разбиения для каждого из деревьев\n",
    "              }\n",
    "\n",
    "# зафиксируем random_state\n",
    "random_state = RANDOM_SEED\n",
    "\n",
    "def hyperopt_rf(params, cv=5, X=X, y=y, random_state=random_state):\n",
    "    # функция получает комбинацию гиперпараметров в \"params\"\n",
    "    params = {'n_estimators': int(params['n_estimators']), \n",
    "              'max_depth': int(params['max_depth']), \n",
    "             'min_samples_leaf': int(params['min_samples_leaf']),\n",
    "             'criterion': params['criterion']\n",
    "              }\n",
    "  \n",
    "    # используем эту комбинацию для построения модели\n",
    "    model = ensemble.RandomForestClassifier(**params, random_state=RANDOM_SEED)\n",
    "\n",
    "    # применим  cross validation с тем же количеством фолдов\n",
    "    score = cross_val_score(model, X, y, cv=cv, scoring=\"f1\", n_jobs=-1).mean()\n",
    "\n",
    "    # метрику необходимо минимизировать, поэтому ставим знак минус\n",
    "    return -score"
   ]
  },
  {
   "cell_type": "code",
   "execution_count": 133,
   "metadata": {},
   "outputs": [
    {
     "name": "stdout",
     "output_type": "stream",
     "text": [
      "CPU times: total: 0 ns\n",
      "Wall time: 0 ns\n",
      "100%|██████████| 50/50 [03:55<00:00,  4.71s/trial, best loss: -0.8163616323519728]\n",
      "Наилучшие значения гиперпараметров (hyperopt) {'criterion': 1, 'max_depth': 40.0, 'min_samples_leaf': 2.0, 'n_estimators': 120.0}\n",
      "Наилучшие значения гиперпараметров {'criterion': 'entropy', 'max_depth': 40.0, 'min_samples_leaf': 2.0, 'n_estimators': 120.0}\n"
     ]
    }
   ],
   "source": [
    "%time\n",
    "# начинаем подбор гиперпараметров\n",
    "\n",
    "trials = Trials() # используется для логирования результатов\n",
    "\n",
    "best_rf=fmin(hyperopt_rf, # наша функция \n",
    "          space=space, # пространство гиперпараметров\n",
    "          algo=tpe.suggest, # алгоритм оптимизации, установлен по умолчанию, задавать необязательно\n",
    "          max_evals=50, # максимальное количество итераций\n",
    "          trials=trials, # логирование результатов\n",
    "          rstate=np.random.default_rng(random_state)# фиксируем для повторяемости результата\n",
    "         )\n",
    "\n",
    "print(f'Наилучшие значения гиперпараметров {space_eval(space, best_rf)}')\n"
   ]
  },
  {
   "cell_type": "code",
   "execution_count": 134,
   "metadata": {},
   "outputs": [
    {
     "name": "stdout",
     "output_type": "stream",
     "text": [
      "f1_score на тестовом наборе: 0.82\n",
      "Наилучшие значения гиперпараметров: {'criterion': 'entropy', 'max_depth': 40.0, 'min_samples_leaf': 2.0, 'n_estimators': 120.0}\n"
     ]
    }
   ],
   "source": [
    "# рассчитаем точность для тестовой выборки\n",
    "model_rf = ensemble.RandomForestClassifier(\n",
    "    random_state=RANDOM_SEED, \n",
    "    n_estimators=int(best_rf['n_estimators']),\n",
    "    max_depth=int(best_rf['max_depth']),\n",
    "    min_samples_leaf=int(best_rf['min_samples_leaf']),\n",
    "    criterion= space_eval(space, best_rf)['criterion']    \n",
    ")\n",
    "\n",
    "score_rf = cross_val_score(model_rf, X, y, cv=5, scoring=\"f1\", n_jobs=-1).mean()\n",
    "\n",
    "print('f1_score на тестовом наборе (hyperopt): {:.2f}'.format(score_rf))\n",
    "print(\"Наилучшие значения гиперпараметров: {}\".format(space_eval(space, best_rf)))\n"
   ]
  },
  {
   "attachments": {},
   "cell_type": "markdown",
   "metadata": {},
   "source": [
    "***Вывод***\n",
    "\n",
    "При использовании hyperopt нам удалось достичь увеличения метрики на 0.01 в сравнении с ранее достигнутыми для алгоритма RandomForestClassifier"
   ]
  },
  {
   "attachments": {},
   "cell_type": "markdown",
   "metadata": {},
   "source": [
    "#### <center> Optuna"
   ]
  },
  {
   "cell_type": "code",
   "execution_count": 137,
   "metadata": {},
   "outputs": [],
   "source": [
    "def optuna_rf(trial):\n",
    "  \n",
    "  # задаем пространства поиска гиперпараметров\n",
    "  n_estimators = trial.suggest_int('n_estimators', 50, 200, 30)\n",
    "  max_depth = trial.suggest_int('max_depth', 10, 40, 5)\n",
    "  min_samples_leaf = trial.suggest_int('min_samples_leaf', 1, 6, 1)\n",
    "  criterion = trial.suggest_categorical('criterion', ['gini', 'entropy'])\n",
    "\n",
    "  # создаем модель\n",
    "  model = ensemble.RandomForestClassifier(n_estimators=n_estimators,\n",
    "                                          max_depth=max_depth,\n",
    "                                          min_samples_leaf=min_samples_leaf,\n",
    "                                          random_state=RANDOM_SEED,\n",
    "                                          criterion=criterion)\n",
    "  \n",
    "  # обучаем модель cross validation \n",
    "  score = cross_val_score(model, X, y, cv=5, scoring=\"f1\", n_jobs=-1).mean()\n",
    "\n",
    "  return score"
   ]
  },
  {
   "cell_type": "code",
   "execution_count": 138,
   "metadata": {},
   "outputs": [
    {
     "name": "stderr",
     "output_type": "stream",
     "text": [
      "\u001b[32m[I 2023-03-26 01:02:03,879]\u001b[0m A new study created in memory with name: RandomForestClassifier\u001b[0m\n",
      "\u001b[33m[W 2023-03-26 01:02:03,883]\u001b[0m Trial 0 failed with parameters: {'n_estimators': 170, 'max_depth': 10, 'min_samples_leaf': 6, 'criterion': 'gini'} because of the following error: TypeError(\"__init__() got an unexpected keyword argument 'max_iter'\").\u001b[0m\n",
      "Traceback (most recent call last):\n",
      "  File \"c:\\Users\\Misha\\AppData\\Local\\Programs\\Python\\Python39\\lib\\site-packages\\optuna\\study\\_optimize.py\", line 200, in _run_trial\n",
      "    value_or_values = func(trial)\n",
      "  File \"C:\\Users\\Misha\\AppData\\Local\\Temp\\ipykernel_16440\\3703276220.py\", line 10, in optuna_rf\n",
      "    model = ensemble.RandomForestClassifier(n_estimators=n_estimators,\n",
      "TypeError: __init__() got an unexpected keyword argument 'max_iter'\n",
      "\u001b[33m[W 2023-03-26 01:02:04,000]\u001b[0m Trial 0 failed with value None.\u001b[0m\n"
     ]
    },
    {
     "name": "stdout",
     "output_type": "stream",
     "text": [
      "CPU times: total: 0 ns\n",
      "Wall time: 0 ns\n"
     ]
    },
    {
     "ename": "TypeError",
     "evalue": "__init__() got an unexpected keyword argument 'max_iter'",
     "output_type": "error",
     "traceback": [
      "\u001b[1;31m---------------------------------------------------------------------------\u001b[0m",
      "\u001b[1;31mTypeError\u001b[0m                                 Traceback (most recent call last)",
      "\u001b[1;32md:\\IDE\\ML\\Отбор и селекция признаков\\Biological_Response.ipynb Cell 73\u001b[0m in \u001b[0;36m<cell line: 7>\u001b[1;34m()\u001b[0m\n\u001b[0;32m      <a href='vscode-notebook-cell:/d%3A/IDE/ML/%D0%9E%D1%82%D0%B1%D0%BE%D1%80%20%D0%B8%20%D1%81%D0%B5%D0%BB%D0%B5%D0%BA%D1%86%D0%B8%D1%8F%20%D0%BF%D1%80%D0%B8%D0%B7%D0%BD%D0%B0%D0%BA%D0%BE%D0%B2/Biological_Response.ipynb#Y150sZmlsZQ%3D%3D?line=3'>4</a>\u001b[0m study \u001b[39m=\u001b[39m optuna\u001b[39m.\u001b[39mcreate_study(study_name\u001b[39m=\u001b[39m\u001b[39m\"\u001b[39m\u001b[39mRandomForestClassifier\u001b[39m\u001b[39m\"\u001b[39m, direction\u001b[39m=\u001b[39m\u001b[39m\"\u001b[39m\u001b[39mmaximize\u001b[39m\u001b[39m\"\u001b[39m)\n\u001b[0;32m      <a href='vscode-notebook-cell:/d%3A/IDE/ML/%D0%9E%D1%82%D0%B1%D0%BE%D1%80%20%D0%B8%20%D1%81%D0%B5%D0%BB%D0%B5%D0%BA%D1%86%D0%B8%D1%8F%20%D0%BF%D1%80%D0%B8%D0%B7%D0%BD%D0%B0%D0%BA%D0%BE%D0%B2/Biological_Response.ipynb#Y150sZmlsZQ%3D%3D?line=5'>6</a>\u001b[0m \u001b[39m# Ищем лучшую комбинацию гиперпараметров n_trials раз\u001b[39;00m\n\u001b[1;32m----> <a href='vscode-notebook-cell:/d%3A/IDE/ML/%D0%9E%D1%82%D0%B1%D0%BE%D1%80%20%D0%B8%20%D1%81%D0%B5%D0%BB%D0%B5%D0%BA%D1%86%D0%B8%D1%8F%20%D0%BF%D1%80%D0%B8%D0%B7%D0%BD%D0%B0%D0%BA%D0%BE%D0%B2/Biological_Response.ipynb#Y150sZmlsZQ%3D%3D?line=6'>7</a>\u001b[0m study\u001b[39m.\u001b[39;49moptimize(optuna_rf, n_trials\u001b[39m=\u001b[39;49m\u001b[39m50\u001b[39;49m)\n\u001b[0;32m      <a href='vscode-notebook-cell:/d%3A/IDE/ML/%D0%9E%D1%82%D0%B1%D0%BE%D1%80%20%D0%B8%20%D1%81%D0%B5%D0%BB%D0%B5%D0%BA%D1%86%D0%B8%D1%8F%20%D0%BF%D1%80%D0%B8%D0%B7%D0%BD%D0%B0%D0%BA%D0%BE%D0%B2/Biological_Response.ipynb#Y150sZmlsZQ%3D%3D?line=8'>9</a>\u001b[0m \u001b[39m# рассчитаем точность для тестовой выборки\u001b[39;00m\n\u001b[0;32m     <a href='vscode-notebook-cell:/d%3A/IDE/ML/%D0%9E%D1%82%D0%B1%D0%BE%D1%80%20%D0%B8%20%D1%81%D0%B5%D0%BB%D0%B5%D0%BA%D1%86%D0%B8%D1%8F%20%D0%BF%D1%80%D0%B8%D0%B7%D0%BD%D0%B0%D0%BA%D0%BE%D0%B2/Biological_Response.ipynb#Y150sZmlsZQ%3D%3D?line=9'>10</a>\u001b[0m model \u001b[39m=\u001b[39m ensemble\u001b[39m.\u001b[39mRandomForestClassifier(\u001b[39m*\u001b[39m\u001b[39m*\u001b[39mstudy\u001b[39m.\u001b[39mbest_params,random_state\u001b[39m=\u001b[39mRANDOM_SEED)\n",
      "File \u001b[1;32mc:\\Users\\Misha\\AppData\\Local\\Programs\\Python\\Python39\\lib\\site-packages\\optuna\\study\\study.py:425\u001b[0m, in \u001b[0;36mStudy.optimize\u001b[1;34m(self, func, n_trials, timeout, n_jobs, catch, callbacks, gc_after_trial, show_progress_bar)\u001b[0m\n\u001b[0;32m    321\u001b[0m \u001b[39mdef\u001b[39;00m \u001b[39moptimize\u001b[39m(\n\u001b[0;32m    322\u001b[0m     \u001b[39mself\u001b[39m,\n\u001b[0;32m    323\u001b[0m     func: ObjectiveFuncType,\n\u001b[1;32m   (...)\u001b[0m\n\u001b[0;32m    330\u001b[0m     show_progress_bar: \u001b[39mbool\u001b[39m \u001b[39m=\u001b[39m \u001b[39mFalse\u001b[39;00m,\n\u001b[0;32m    331\u001b[0m ) \u001b[39m-\u001b[39m\u001b[39m>\u001b[39m \u001b[39mNone\u001b[39;00m:\n\u001b[0;32m    332\u001b[0m     \u001b[39m\"\"\"Optimize an objective function.\u001b[39;00m\n\u001b[0;32m    333\u001b[0m \n\u001b[0;32m    334\u001b[0m \u001b[39m    Optimization is done by choosing a suitable set of hyperparameter values from a given\u001b[39;00m\n\u001b[1;32m   (...)\u001b[0m\n\u001b[0;32m    422\u001b[0m \u001b[39m            If nested invocation of this method occurs.\u001b[39;00m\n\u001b[0;32m    423\u001b[0m \u001b[39m    \"\"\"\u001b[39;00m\n\u001b[1;32m--> 425\u001b[0m     _optimize(\n\u001b[0;32m    426\u001b[0m         study\u001b[39m=\u001b[39;49m\u001b[39mself\u001b[39;49m,\n\u001b[0;32m    427\u001b[0m         func\u001b[39m=\u001b[39;49mfunc,\n\u001b[0;32m    428\u001b[0m         n_trials\u001b[39m=\u001b[39;49mn_trials,\n\u001b[0;32m    429\u001b[0m         timeout\u001b[39m=\u001b[39;49mtimeout,\n\u001b[0;32m    430\u001b[0m         n_jobs\u001b[39m=\u001b[39;49mn_jobs,\n\u001b[0;32m    431\u001b[0m         catch\u001b[39m=\u001b[39;49m\u001b[39mtuple\u001b[39;49m(catch) \u001b[39mif\u001b[39;49;00m \u001b[39misinstance\u001b[39;49m(catch, Iterable) \u001b[39melse\u001b[39;49;00m (catch,),\n\u001b[0;32m    432\u001b[0m         callbacks\u001b[39m=\u001b[39;49mcallbacks,\n\u001b[0;32m    433\u001b[0m         gc_after_trial\u001b[39m=\u001b[39;49mgc_after_trial,\n\u001b[0;32m    434\u001b[0m         show_progress_bar\u001b[39m=\u001b[39;49mshow_progress_bar,\n\u001b[0;32m    435\u001b[0m     )\n",
      "File \u001b[1;32mc:\\Users\\Misha\\AppData\\Local\\Programs\\Python\\Python39\\lib\\site-packages\\optuna\\study\\_optimize.py:66\u001b[0m, in \u001b[0;36m_optimize\u001b[1;34m(study, func, n_trials, timeout, n_jobs, catch, callbacks, gc_after_trial, show_progress_bar)\u001b[0m\n\u001b[0;32m     64\u001b[0m \u001b[39mtry\u001b[39;00m:\n\u001b[0;32m     65\u001b[0m     \u001b[39mif\u001b[39;00m n_jobs \u001b[39m==\u001b[39m \u001b[39m1\u001b[39m:\n\u001b[1;32m---> 66\u001b[0m         _optimize_sequential(\n\u001b[0;32m     67\u001b[0m             study,\n\u001b[0;32m     68\u001b[0m             func,\n\u001b[0;32m     69\u001b[0m             n_trials,\n\u001b[0;32m     70\u001b[0m             timeout,\n\u001b[0;32m     71\u001b[0m             catch,\n\u001b[0;32m     72\u001b[0m             callbacks,\n\u001b[0;32m     73\u001b[0m             gc_after_trial,\n\u001b[0;32m     74\u001b[0m             reseed_sampler_rng\u001b[39m=\u001b[39;49m\u001b[39mFalse\u001b[39;49;00m,\n\u001b[0;32m     75\u001b[0m             time_start\u001b[39m=\u001b[39;49m\u001b[39mNone\u001b[39;49;00m,\n\u001b[0;32m     76\u001b[0m             progress_bar\u001b[39m=\u001b[39;49mprogress_bar,\n\u001b[0;32m     77\u001b[0m         )\n\u001b[0;32m     78\u001b[0m     \u001b[39melse\u001b[39;00m:\n\u001b[0;32m     79\u001b[0m         \u001b[39mif\u001b[39;00m n_jobs \u001b[39m==\u001b[39m \u001b[39m-\u001b[39m\u001b[39m1\u001b[39m:\n",
      "File \u001b[1;32mc:\\Users\\Misha\\AppData\\Local\\Programs\\Python\\Python39\\lib\\site-packages\\optuna\\study\\_optimize.py:163\u001b[0m, in \u001b[0;36m_optimize_sequential\u001b[1;34m(study, func, n_trials, timeout, catch, callbacks, gc_after_trial, reseed_sampler_rng, time_start, progress_bar)\u001b[0m\n\u001b[0;32m    160\u001b[0m         \u001b[39mbreak\u001b[39;00m\n\u001b[0;32m    162\u001b[0m \u001b[39mtry\u001b[39;00m:\n\u001b[1;32m--> 163\u001b[0m     frozen_trial \u001b[39m=\u001b[39m _run_trial(study, func, catch)\n\u001b[0;32m    164\u001b[0m \u001b[39mfinally\u001b[39;00m:\n\u001b[0;32m    165\u001b[0m     \u001b[39m# The following line mitigates memory problems that can be occurred in some\u001b[39;00m\n\u001b[0;32m    166\u001b[0m     \u001b[39m# environments (e.g., services that use computing containers such as GitHub Actions).\u001b[39;00m\n\u001b[0;32m    167\u001b[0m     \u001b[39m# Please refer to the following PR for further details:\u001b[39;00m\n\u001b[0;32m    168\u001b[0m     \u001b[39m# https://github.com/optuna/optuna/pull/325.\u001b[39;00m\n\u001b[0;32m    169\u001b[0m     \u001b[39mif\u001b[39;00m gc_after_trial:\n",
      "File \u001b[1;32mc:\\Users\\Misha\\AppData\\Local\\Programs\\Python\\Python39\\lib\\site-packages\\optuna\\study\\_optimize.py:251\u001b[0m, in \u001b[0;36m_run_trial\u001b[1;34m(study, func, catch)\u001b[0m\n\u001b[0;32m    244\u001b[0m         \u001b[39massert\u001b[39;00m \u001b[39mFalse\u001b[39;00m, \u001b[39m\"\u001b[39m\u001b[39mShould not reach.\u001b[39m\u001b[39m\"\u001b[39m\n\u001b[0;32m    246\u001b[0m \u001b[39mif\u001b[39;00m (\n\u001b[0;32m    247\u001b[0m     frozen_trial\u001b[39m.\u001b[39mstate \u001b[39m==\u001b[39m TrialState\u001b[39m.\u001b[39mFAIL\n\u001b[0;32m    248\u001b[0m     \u001b[39mand\u001b[39;00m func_err \u001b[39mis\u001b[39;00m \u001b[39mnot\u001b[39;00m \u001b[39mNone\u001b[39;00m\n\u001b[0;32m    249\u001b[0m     \u001b[39mand\u001b[39;00m \u001b[39mnot\u001b[39;00m \u001b[39misinstance\u001b[39m(func_err, catch)\n\u001b[0;32m    250\u001b[0m ):\n\u001b[1;32m--> 251\u001b[0m     \u001b[39mraise\u001b[39;00m func_err\n\u001b[0;32m    252\u001b[0m \u001b[39mreturn\u001b[39;00m frozen_trial\n",
      "File \u001b[1;32mc:\\Users\\Misha\\AppData\\Local\\Programs\\Python\\Python39\\lib\\site-packages\\optuna\\study\\_optimize.py:200\u001b[0m, in \u001b[0;36m_run_trial\u001b[1;34m(study, func, catch)\u001b[0m\n\u001b[0;32m    198\u001b[0m \u001b[39mwith\u001b[39;00m get_heartbeat_thread(trial\u001b[39m.\u001b[39m_trial_id, study\u001b[39m.\u001b[39m_storage):\n\u001b[0;32m    199\u001b[0m     \u001b[39mtry\u001b[39;00m:\n\u001b[1;32m--> 200\u001b[0m         value_or_values \u001b[39m=\u001b[39m func(trial)\n\u001b[0;32m    201\u001b[0m     \u001b[39mexcept\u001b[39;00m exceptions\u001b[39m.\u001b[39mTrialPruned \u001b[39mas\u001b[39;00m e:\n\u001b[0;32m    202\u001b[0m         \u001b[39m# TODO(mamu): Handle multi-objective cases.\u001b[39;00m\n\u001b[0;32m    203\u001b[0m         state \u001b[39m=\u001b[39m TrialState\u001b[39m.\u001b[39mPRUNED\n",
      "\u001b[1;32md:\\IDE\\ML\\Отбор и селекция признаков\\Biological_Response.ipynb Cell 73\u001b[0m in \u001b[0;36moptuna_rf\u001b[1;34m(trial)\u001b[0m\n\u001b[0;32m      <a href='vscode-notebook-cell:/d%3A/IDE/ML/%D0%9E%D1%82%D0%B1%D0%BE%D1%80%20%D0%B8%20%D1%81%D0%B5%D0%BB%D0%B5%D0%BA%D1%86%D0%B8%D1%8F%20%D0%BF%D1%80%D0%B8%D0%B7%D0%BD%D0%B0%D0%BA%D0%BE%D0%B2/Biological_Response.ipynb#Y150sZmlsZQ%3D%3D?line=6'>7</a>\u001b[0m criterion \u001b[39m=\u001b[39m trial\u001b[39m.\u001b[39msuggest_categorical(\u001b[39m'\u001b[39m\u001b[39mcriterion\u001b[39m\u001b[39m'\u001b[39m, [\u001b[39m'\u001b[39m\u001b[39mgini\u001b[39m\u001b[39m'\u001b[39m, \u001b[39m'\u001b[39m\u001b[39mentropy\u001b[39m\u001b[39m'\u001b[39m])\n\u001b[0;32m      <a href='vscode-notebook-cell:/d%3A/IDE/ML/%D0%9E%D1%82%D0%B1%D0%BE%D1%80%20%D0%B8%20%D1%81%D0%B5%D0%BB%D0%B5%D0%BA%D1%86%D0%B8%D1%8F%20%D0%BF%D1%80%D0%B8%D0%B7%D0%BD%D0%B0%D0%BA%D0%BE%D0%B2/Biological_Response.ipynb#Y150sZmlsZQ%3D%3D?line=8'>9</a>\u001b[0m \u001b[39m# создаем модель\u001b[39;00m\n\u001b[1;32m---> <a href='vscode-notebook-cell:/d%3A/IDE/ML/%D0%9E%D1%82%D0%B1%D0%BE%D1%80%20%D0%B8%20%D1%81%D0%B5%D0%BB%D0%B5%D0%BA%D1%86%D0%B8%D1%8F%20%D0%BF%D1%80%D0%B8%D0%B7%D0%BD%D0%B0%D0%BA%D0%BE%D0%B2/Biological_Response.ipynb#Y150sZmlsZQ%3D%3D?line=9'>10</a>\u001b[0m model \u001b[39m=\u001b[39m ensemble\u001b[39m.\u001b[39;49mRandomForestClassifier(n_estimators\u001b[39m=\u001b[39;49mn_estimators,\n\u001b[0;32m     <a href='vscode-notebook-cell:/d%3A/IDE/ML/%D0%9E%D1%82%D0%B1%D0%BE%D1%80%20%D0%B8%20%D1%81%D0%B5%D0%BB%D0%B5%D0%BA%D1%86%D0%B8%D1%8F%20%D0%BF%D1%80%D0%B8%D0%B7%D0%BD%D0%B0%D0%BA%D0%BE%D0%B2/Biological_Response.ipynb#Y150sZmlsZQ%3D%3D?line=10'>11</a>\u001b[0m                                         max_depth\u001b[39m=\u001b[39;49mmax_depth,\n\u001b[0;32m     <a href='vscode-notebook-cell:/d%3A/IDE/ML/%D0%9E%D1%82%D0%B1%D0%BE%D1%80%20%D0%B8%20%D1%81%D0%B5%D0%BB%D0%B5%D0%BA%D1%86%D0%B8%D1%8F%20%D0%BF%D1%80%D0%B8%D0%B7%D0%BD%D0%B0%D0%BA%D0%BE%D0%B2/Biological_Response.ipynb#Y150sZmlsZQ%3D%3D?line=11'>12</a>\u001b[0m                                         min_samples_leaf\u001b[39m=\u001b[39;49mmin_samples_leaf,\n\u001b[0;32m     <a href='vscode-notebook-cell:/d%3A/IDE/ML/%D0%9E%D1%82%D0%B1%D0%BE%D1%80%20%D0%B8%20%D1%81%D0%B5%D0%BB%D0%B5%D0%BA%D1%86%D0%B8%D1%8F%20%D0%BF%D1%80%D0%B8%D0%B7%D0%BD%D0%B0%D0%BA%D0%BE%D0%B2/Biological_Response.ipynb#Y150sZmlsZQ%3D%3D?line=12'>13</a>\u001b[0m                                         random_state\u001b[39m=\u001b[39;49mRANDOM_SEED,\n\u001b[0;32m     <a href='vscode-notebook-cell:/d%3A/IDE/ML/%D0%9E%D1%82%D0%B1%D0%BE%D1%80%20%D0%B8%20%D1%81%D0%B5%D0%BB%D0%B5%D0%BA%D1%86%D0%B8%D1%8F%20%D0%BF%D1%80%D0%B8%D0%B7%D0%BD%D0%B0%D0%BA%D0%BE%D0%B2/Biological_Response.ipynb#Y150sZmlsZQ%3D%3D?line=13'>14</a>\u001b[0m                                         criterion\u001b[39m=\u001b[39;49mcriterion,\n\u001b[0;32m     <a href='vscode-notebook-cell:/d%3A/IDE/ML/%D0%9E%D1%82%D0%B1%D0%BE%D1%80%20%D0%B8%20%D1%81%D0%B5%D0%BB%D0%B5%D0%BA%D1%86%D0%B8%D1%8F%20%D0%BF%D1%80%D0%B8%D0%B7%D0%BD%D0%B0%D0%BA%D0%BE%D0%B2/Biological_Response.ipynb#Y150sZmlsZQ%3D%3D?line=14'>15</a>\u001b[0m                                         max_iter\u001b[39m=\u001b[39;49m\u001b[39m50\u001b[39;49m)\n\u001b[0;32m     <a href='vscode-notebook-cell:/d%3A/IDE/ML/%D0%9E%D1%82%D0%B1%D0%BE%D1%80%20%D0%B8%20%D1%81%D0%B5%D0%BB%D0%B5%D0%BA%D1%86%D0%B8%D1%8F%20%D0%BF%D1%80%D0%B8%D0%B7%D0%BD%D0%B0%D0%BA%D0%BE%D0%B2/Biological_Response.ipynb#Y150sZmlsZQ%3D%3D?line=16'>17</a>\u001b[0m \u001b[39m# обучаем модель cross validation \u001b[39;00m\n\u001b[0;32m     <a href='vscode-notebook-cell:/d%3A/IDE/ML/%D0%9E%D1%82%D0%B1%D0%BE%D1%80%20%D0%B8%20%D1%81%D0%B5%D0%BB%D0%B5%D0%BA%D1%86%D0%B8%D1%8F%20%D0%BF%D1%80%D0%B8%D0%B7%D0%BD%D0%B0%D0%BA%D0%BE%D0%B2/Biological_Response.ipynb#Y150sZmlsZQ%3D%3D?line=17'>18</a>\u001b[0m score \u001b[39m=\u001b[39m cross_val_score(model, X, y, cv\u001b[39m=\u001b[39m\u001b[39m5\u001b[39m, scoring\u001b[39m=\u001b[39m\u001b[39m\"\u001b[39m\u001b[39mf1\u001b[39m\u001b[39m\"\u001b[39m, n_jobs\u001b[39m=\u001b[39m\u001b[39m-\u001b[39m\u001b[39m1\u001b[39m)\u001b[39m.\u001b[39mmean()\n",
      "\u001b[1;31mTypeError\u001b[0m: __init__() got an unexpected keyword argument 'max_iter'"
     ]
    }
   ],
   "source": [
    "%time\n",
    "# Создаем объект исследования\n",
    "# Можем напрямую указать, что нам необходимо максимизировать метрику direction=\"maximize\"\n",
    "study = optuna.create_study(study_name=\"RandomForestClassifier\", direction=\"maximize\")\n",
    "\n",
    "# Ищем лучшую комбинацию гиперпараметров n_trials раз\n",
    "study.optimize(optuna_rf, n_trials=50)\n",
    "\n",
    "# рассчитаем точность для тестовой выборки\n",
    "model = ensemble.RandomForestClassifier(**study.best_params,random_state=RANDOM_SEED)\n",
    "\n",
    "# применим  cross validation \n",
    "\n",
    "score = cross_val_score(model, X, y, cv=5, scoring=\"f1\", n_jobs=-1).mean()\n",
    "\n",
    "print('f1_score на тестовом наборе (optuna): {:.2f}'.format(score))\n",
    "print(\"Наилучшие значения гиперпараметров: {}\".format(study.best_params))\n"
   ]
  },
  {
   "attachments": {},
   "cell_type": "markdown",
   "metadata": {},
   "source": [
    "***Вывод***\n",
    "\n",
    "При использовании optuna нам удалось также достичь метрики 0.82, что аналогично результатам применения hyperopt."
   ]
  },
  {
   "cell_type": "code",
   "execution_count": 105,
   "metadata": {},
   "outputs": [
    {
     "data": {
      "application/vnd.plotly.v1+json": {
       "config": {
        "plotlyServerURL": "https://plot.ly"
       },
       "data": [
        {
         "mode": "markers",
         "name": "f1_score",
         "type": "scatter",
         "x": [
          0,
          1,
          2,
          3,
          4,
          5,
          6,
          7,
          8,
          9,
          10,
          11,
          12,
          13,
          14,
          15,
          16,
          17,
          18,
          19,
          20,
          21,
          22,
          23,
          24,
          25,
          26,
          27,
          28,
          29,
          30,
          31,
          32,
          33,
          34,
          35,
          36,
          37,
          38,
          39,
          40,
          41,
          42,
          43,
          44,
          45,
          46,
          47,
          48,
          49
         ],
         "y": [
          0.8074090465038358,
          0.8119723969417445,
          0.8077173885365999,
          0.8098554384219311,
          0.8113685189697357,
          0.8123102812843174,
          0.8039183232764782,
          0.802139027650606,
          0.8089006543176694,
          0.8141376217812419,
          0.8138461744484896,
          0.8138461744484896,
          0.8134837510897317,
          0.8142826667413727,
          0.8145667313530547,
          0.8099269542443773,
          0.8145377322823885,
          0.8101643763087752,
          0.8127502187550768,
          0.8090250151345326,
          0.8144655887411858,
          0.8144655887411858,
          0.8142272500441099,
          0.8141864536211468,
          0.8132190668217703,
          0.814703272342876,
          0.810312375583344,
          0.814703272342876,
          0.8140595868845217,
          0.8183008265543208,
          0.8183008265543208,
          0.8183008265543208,
          0.8183008265543208,
          0.8183008265543208,
          0.807842660414984,
          0.8183008265543208,
          0.8183008265543208,
          0.8006197056750347,
          0.8183008265543208,
          0.807842660414984,
          0.8183008265543208,
          0.8183008265543208,
          0.8183008265543208,
          0.807842660414984,
          0.8120482397119595,
          0.8078091081453357,
          0.8183008265543208,
          0.810312375583344,
          0.811193572963661,
          0.8000555933099601
         ]
        },
        {
         "name": "Best Value",
         "type": "scatter",
         "x": [
          0,
          1,
          2,
          3,
          4,
          5,
          6,
          7,
          8,
          9,
          10,
          11,
          12,
          13,
          14,
          15,
          16,
          17,
          18,
          19,
          20,
          21,
          22,
          23,
          24,
          25,
          26,
          27,
          28,
          29,
          30,
          31,
          32,
          33,
          34,
          35,
          36,
          37,
          38,
          39,
          40,
          41,
          42,
          43,
          44,
          45,
          46,
          47,
          48,
          49
         ],
         "y": [
          0.8074090465038358,
          0.8119723969417445,
          0.8119723969417445,
          0.8119723969417445,
          0.8119723969417445,
          0.8123102812843174,
          0.8123102812843174,
          0.8123102812843174,
          0.8123102812843174,
          0.8141376217812419,
          0.8141376217812419,
          0.8141376217812419,
          0.8141376217812419,
          0.8142826667413727,
          0.8145667313530547,
          0.8145667313530547,
          0.8145667313530547,
          0.8145667313530547,
          0.8145667313530547,
          0.8145667313530547,
          0.8145667313530547,
          0.8145667313530547,
          0.8145667313530547,
          0.8145667313530547,
          0.8145667313530547,
          0.814703272342876,
          0.814703272342876,
          0.814703272342876,
          0.814703272342876,
          0.8183008265543208,
          0.8183008265543208,
          0.8183008265543208,
          0.8183008265543208,
          0.8183008265543208,
          0.8183008265543208,
          0.8183008265543208,
          0.8183008265543208,
          0.8183008265543208,
          0.8183008265543208,
          0.8183008265543208,
          0.8183008265543208,
          0.8183008265543208,
          0.8183008265543208,
          0.8183008265543208,
          0.8183008265543208,
          0.8183008265543208,
          0.8183008265543208,
          0.8183008265543208,
          0.8183008265543208,
          0.8183008265543208
         ]
        }
       ],
       "layout": {
        "template": {
         "data": {
          "bar": [
           {
            "error_x": {
             "color": "#2a3f5f"
            },
            "error_y": {
             "color": "#2a3f5f"
            },
            "marker": {
             "line": {
              "color": "#E5ECF6",
              "width": 0.5
             },
             "pattern": {
              "fillmode": "overlay",
              "size": 10,
              "solidity": 0.2
             }
            },
            "type": "bar"
           }
          ],
          "barpolar": [
           {
            "marker": {
             "line": {
              "color": "#E5ECF6",
              "width": 0.5
             },
             "pattern": {
              "fillmode": "overlay",
              "size": 10,
              "solidity": 0.2
             }
            },
            "type": "barpolar"
           }
          ],
          "carpet": [
           {
            "aaxis": {
             "endlinecolor": "#2a3f5f",
             "gridcolor": "white",
             "linecolor": "white",
             "minorgridcolor": "white",
             "startlinecolor": "#2a3f5f"
            },
            "baxis": {
             "endlinecolor": "#2a3f5f",
             "gridcolor": "white",
             "linecolor": "white",
             "minorgridcolor": "white",
             "startlinecolor": "#2a3f5f"
            },
            "type": "carpet"
           }
          ],
          "choropleth": [
           {
            "colorbar": {
             "outlinewidth": 0,
             "ticks": ""
            },
            "type": "choropleth"
           }
          ],
          "contour": [
           {
            "colorbar": {
             "outlinewidth": 0,
             "ticks": ""
            },
            "colorscale": [
             [
              0,
              "#0d0887"
             ],
             [
              0.1111111111111111,
              "#46039f"
             ],
             [
              0.2222222222222222,
              "#7201a8"
             ],
             [
              0.3333333333333333,
              "#9c179e"
             ],
             [
              0.4444444444444444,
              "#bd3786"
             ],
             [
              0.5555555555555556,
              "#d8576b"
             ],
             [
              0.6666666666666666,
              "#ed7953"
             ],
             [
              0.7777777777777778,
              "#fb9f3a"
             ],
             [
              0.8888888888888888,
              "#fdca26"
             ],
             [
              1,
              "#f0f921"
             ]
            ],
            "type": "contour"
           }
          ],
          "contourcarpet": [
           {
            "colorbar": {
             "outlinewidth": 0,
             "ticks": ""
            },
            "type": "contourcarpet"
           }
          ],
          "heatmap": [
           {
            "colorbar": {
             "outlinewidth": 0,
             "ticks": ""
            },
            "colorscale": [
             [
              0,
              "#0d0887"
             ],
             [
              0.1111111111111111,
              "#46039f"
             ],
             [
              0.2222222222222222,
              "#7201a8"
             ],
             [
              0.3333333333333333,
              "#9c179e"
             ],
             [
              0.4444444444444444,
              "#bd3786"
             ],
             [
              0.5555555555555556,
              "#d8576b"
             ],
             [
              0.6666666666666666,
              "#ed7953"
             ],
             [
              0.7777777777777778,
              "#fb9f3a"
             ],
             [
              0.8888888888888888,
              "#fdca26"
             ],
             [
              1,
              "#f0f921"
             ]
            ],
            "type": "heatmap"
           }
          ],
          "heatmapgl": [
           {
            "colorbar": {
             "outlinewidth": 0,
             "ticks": ""
            },
            "colorscale": [
             [
              0,
              "#0d0887"
             ],
             [
              0.1111111111111111,
              "#46039f"
             ],
             [
              0.2222222222222222,
              "#7201a8"
             ],
             [
              0.3333333333333333,
              "#9c179e"
             ],
             [
              0.4444444444444444,
              "#bd3786"
             ],
             [
              0.5555555555555556,
              "#d8576b"
             ],
             [
              0.6666666666666666,
              "#ed7953"
             ],
             [
              0.7777777777777778,
              "#fb9f3a"
             ],
             [
              0.8888888888888888,
              "#fdca26"
             ],
             [
              1,
              "#f0f921"
             ]
            ],
            "type": "heatmapgl"
           }
          ],
          "histogram": [
           {
            "marker": {
             "pattern": {
              "fillmode": "overlay",
              "size": 10,
              "solidity": 0.2
             }
            },
            "type": "histogram"
           }
          ],
          "histogram2d": [
           {
            "colorbar": {
             "outlinewidth": 0,
             "ticks": ""
            },
            "colorscale": [
             [
              0,
              "#0d0887"
             ],
             [
              0.1111111111111111,
              "#46039f"
             ],
             [
              0.2222222222222222,
              "#7201a8"
             ],
             [
              0.3333333333333333,
              "#9c179e"
             ],
             [
              0.4444444444444444,
              "#bd3786"
             ],
             [
              0.5555555555555556,
              "#d8576b"
             ],
             [
              0.6666666666666666,
              "#ed7953"
             ],
             [
              0.7777777777777778,
              "#fb9f3a"
             ],
             [
              0.8888888888888888,
              "#fdca26"
             ],
             [
              1,
              "#f0f921"
             ]
            ],
            "type": "histogram2d"
           }
          ],
          "histogram2dcontour": [
           {
            "colorbar": {
             "outlinewidth": 0,
             "ticks": ""
            },
            "colorscale": [
             [
              0,
              "#0d0887"
             ],
             [
              0.1111111111111111,
              "#46039f"
             ],
             [
              0.2222222222222222,
              "#7201a8"
             ],
             [
              0.3333333333333333,
              "#9c179e"
             ],
             [
              0.4444444444444444,
              "#bd3786"
             ],
             [
              0.5555555555555556,
              "#d8576b"
             ],
             [
              0.6666666666666666,
              "#ed7953"
             ],
             [
              0.7777777777777778,
              "#fb9f3a"
             ],
             [
              0.8888888888888888,
              "#fdca26"
             ],
             [
              1,
              "#f0f921"
             ]
            ],
            "type": "histogram2dcontour"
           }
          ],
          "mesh3d": [
           {
            "colorbar": {
             "outlinewidth": 0,
             "ticks": ""
            },
            "type": "mesh3d"
           }
          ],
          "parcoords": [
           {
            "line": {
             "colorbar": {
              "outlinewidth": 0,
              "ticks": ""
             }
            },
            "type": "parcoords"
           }
          ],
          "pie": [
           {
            "automargin": true,
            "type": "pie"
           }
          ],
          "scatter": [
           {
            "fillpattern": {
             "fillmode": "overlay",
             "size": 10,
             "solidity": 0.2
            },
            "type": "scatter"
           }
          ],
          "scatter3d": [
           {
            "line": {
             "colorbar": {
              "outlinewidth": 0,
              "ticks": ""
             }
            },
            "marker": {
             "colorbar": {
              "outlinewidth": 0,
              "ticks": ""
             }
            },
            "type": "scatter3d"
           }
          ],
          "scattercarpet": [
           {
            "marker": {
             "colorbar": {
              "outlinewidth": 0,
              "ticks": ""
             }
            },
            "type": "scattercarpet"
           }
          ],
          "scattergeo": [
           {
            "marker": {
             "colorbar": {
              "outlinewidth": 0,
              "ticks": ""
             }
            },
            "type": "scattergeo"
           }
          ],
          "scattergl": [
           {
            "marker": {
             "colorbar": {
              "outlinewidth": 0,
              "ticks": ""
             }
            },
            "type": "scattergl"
           }
          ],
          "scattermapbox": [
           {
            "marker": {
             "colorbar": {
              "outlinewidth": 0,
              "ticks": ""
             }
            },
            "type": "scattermapbox"
           }
          ],
          "scatterpolar": [
           {
            "marker": {
             "colorbar": {
              "outlinewidth": 0,
              "ticks": ""
             }
            },
            "type": "scatterpolar"
           }
          ],
          "scatterpolargl": [
           {
            "marker": {
             "colorbar": {
              "outlinewidth": 0,
              "ticks": ""
             }
            },
            "type": "scatterpolargl"
           }
          ],
          "scatterternary": [
           {
            "marker": {
             "colorbar": {
              "outlinewidth": 0,
              "ticks": ""
             }
            },
            "type": "scatterternary"
           }
          ],
          "surface": [
           {
            "colorbar": {
             "outlinewidth": 0,
             "ticks": ""
            },
            "colorscale": [
             [
              0,
              "#0d0887"
             ],
             [
              0.1111111111111111,
              "#46039f"
             ],
             [
              0.2222222222222222,
              "#7201a8"
             ],
             [
              0.3333333333333333,
              "#9c179e"
             ],
             [
              0.4444444444444444,
              "#bd3786"
             ],
             [
              0.5555555555555556,
              "#d8576b"
             ],
             [
              0.6666666666666666,
              "#ed7953"
             ],
             [
              0.7777777777777778,
              "#fb9f3a"
             ],
             [
              0.8888888888888888,
              "#fdca26"
             ],
             [
              1,
              "#f0f921"
             ]
            ],
            "type": "surface"
           }
          ],
          "table": [
           {
            "cells": {
             "fill": {
              "color": "#EBF0F8"
             },
             "line": {
              "color": "white"
             }
            },
            "header": {
             "fill": {
              "color": "#C8D4E3"
             },
             "line": {
              "color": "white"
             }
            },
            "type": "table"
           }
          ]
         },
         "layout": {
          "annotationdefaults": {
           "arrowcolor": "#2a3f5f",
           "arrowhead": 0,
           "arrowwidth": 1
          },
          "autotypenumbers": "strict",
          "coloraxis": {
           "colorbar": {
            "outlinewidth": 0,
            "ticks": ""
           }
          },
          "colorscale": {
           "diverging": [
            [
             0,
             "#8e0152"
            ],
            [
             0.1,
             "#c51b7d"
            ],
            [
             0.2,
             "#de77ae"
            ],
            [
             0.3,
             "#f1b6da"
            ],
            [
             0.4,
             "#fde0ef"
            ],
            [
             0.5,
             "#f7f7f7"
            ],
            [
             0.6,
             "#e6f5d0"
            ],
            [
             0.7,
             "#b8e186"
            ],
            [
             0.8,
             "#7fbc41"
            ],
            [
             0.9,
             "#4d9221"
            ],
            [
             1,
             "#276419"
            ]
           ],
           "sequential": [
            [
             0,
             "#0d0887"
            ],
            [
             0.1111111111111111,
             "#46039f"
            ],
            [
             0.2222222222222222,
             "#7201a8"
            ],
            [
             0.3333333333333333,
             "#9c179e"
            ],
            [
             0.4444444444444444,
             "#bd3786"
            ],
            [
             0.5555555555555556,
             "#d8576b"
            ],
            [
             0.6666666666666666,
             "#ed7953"
            ],
            [
             0.7777777777777778,
             "#fb9f3a"
            ],
            [
             0.8888888888888888,
             "#fdca26"
            ],
            [
             1,
             "#f0f921"
            ]
           ],
           "sequentialminus": [
            [
             0,
             "#0d0887"
            ],
            [
             0.1111111111111111,
             "#46039f"
            ],
            [
             0.2222222222222222,
             "#7201a8"
            ],
            [
             0.3333333333333333,
             "#9c179e"
            ],
            [
             0.4444444444444444,
             "#bd3786"
            ],
            [
             0.5555555555555556,
             "#d8576b"
            ],
            [
             0.6666666666666666,
             "#ed7953"
            ],
            [
             0.7777777777777778,
             "#fb9f3a"
            ],
            [
             0.8888888888888888,
             "#fdca26"
            ],
            [
             1,
             "#f0f921"
            ]
           ]
          },
          "colorway": [
           "#636efa",
           "#EF553B",
           "#00cc96",
           "#ab63fa",
           "#FFA15A",
           "#19d3f3",
           "#FF6692",
           "#B6E880",
           "#FF97FF",
           "#FECB52"
          ],
          "font": {
           "color": "#2a3f5f"
          },
          "geo": {
           "bgcolor": "white",
           "lakecolor": "white",
           "landcolor": "#E5ECF6",
           "showlakes": true,
           "showland": true,
           "subunitcolor": "white"
          },
          "hoverlabel": {
           "align": "left"
          },
          "hovermode": "closest",
          "mapbox": {
           "style": "light"
          },
          "paper_bgcolor": "white",
          "plot_bgcolor": "#E5ECF6",
          "polar": {
           "angularaxis": {
            "gridcolor": "white",
            "linecolor": "white",
            "ticks": ""
           },
           "bgcolor": "#E5ECF6",
           "radialaxis": {
            "gridcolor": "white",
            "linecolor": "white",
            "ticks": ""
           }
          },
          "scene": {
           "xaxis": {
            "backgroundcolor": "#E5ECF6",
            "gridcolor": "white",
            "gridwidth": 2,
            "linecolor": "white",
            "showbackground": true,
            "ticks": "",
            "zerolinecolor": "white"
           },
           "yaxis": {
            "backgroundcolor": "#E5ECF6",
            "gridcolor": "white",
            "gridwidth": 2,
            "linecolor": "white",
            "showbackground": true,
            "ticks": "",
            "zerolinecolor": "white"
           },
           "zaxis": {
            "backgroundcolor": "#E5ECF6",
            "gridcolor": "white",
            "gridwidth": 2,
            "linecolor": "white",
            "showbackground": true,
            "ticks": "",
            "zerolinecolor": "white"
           }
          },
          "shapedefaults": {
           "line": {
            "color": "#2a3f5f"
           }
          },
          "ternary": {
           "aaxis": {
            "gridcolor": "white",
            "linecolor": "white",
            "ticks": ""
           },
           "baxis": {
            "gridcolor": "white",
            "linecolor": "white",
            "ticks": ""
           },
           "bgcolor": "#E5ECF6",
           "caxis": {
            "gridcolor": "white",
            "linecolor": "white",
            "ticks": ""
           }
          },
          "title": {
           "x": 0.05
          },
          "xaxis": {
           "automargin": true,
           "gridcolor": "white",
           "linecolor": "white",
           "ticks": "",
           "title": {
            "standoff": 15
           },
           "zerolinecolor": "white",
           "zerolinewidth": 2
          },
          "yaxis": {
           "automargin": true,
           "gridcolor": "white",
           "linecolor": "white",
           "ticks": "",
           "title": {
            "standoff": 15
           },
           "zerolinecolor": "white",
           "zerolinewidth": 2
          }
         }
        },
        "title": {
         "text": "Optimization History Plot"
        },
        "xaxis": {
         "title": {
          "text": "Trial"
         }
        },
        "yaxis": {
         "title": {
          "text": "f1_score"
         }
        }
       }
      }
     },
     "metadata": {},
     "output_type": "display_data"
    }
   ],
   "source": [
    "#Построим графики визуализации гиперпараметров\n",
    "\n",
    "# история оптимизации\n",
    "optuna.visualization.plot_optimization_history(study, target_name=\"f1_score\")"
   ]
  },
  {
   "cell_type": "code",
   "execution_count": 104,
   "metadata": {},
   "outputs": [
    {
     "data": {
      "application/vnd.plotly.v1+json": {
       "config": {
        "plotlyServerURL": "https://plot.ly"
       },
       "data": [
        {
         "cliponaxis": false,
         "hovertemplate": [
          "criterion (CategoricalDistribution): 0.03620037776955945<extra></extra>",
          "n_estimators (IntDistribution): 0.06707947737534632<extra></extra>",
          "min_samples_leaf (IntDistribution): 0.3432968199320553<extra></extra>",
          "max_depth (IntDistribution): 0.5534233249230389<extra></extra>"
         ],
         "marker": {
          "color": "rgb(66,146,198)"
         },
         "orientation": "h",
         "text": [
          "0.04",
          "0.07",
          "0.34",
          "0.55"
         ],
         "textposition": "outside",
         "type": "bar",
         "x": [
          0.03620037776955945,
          0.06707947737534632,
          0.3432968199320553,
          0.5534233249230389
         ],
         "y": [
          "criterion",
          "n_estimators",
          "min_samples_leaf",
          "max_depth"
         ]
        }
       ],
       "layout": {
        "showlegend": false,
        "template": {
         "data": {
          "bar": [
           {
            "error_x": {
             "color": "#2a3f5f"
            },
            "error_y": {
             "color": "#2a3f5f"
            },
            "marker": {
             "line": {
              "color": "#E5ECF6",
              "width": 0.5
             },
             "pattern": {
              "fillmode": "overlay",
              "size": 10,
              "solidity": 0.2
             }
            },
            "type": "bar"
           }
          ],
          "barpolar": [
           {
            "marker": {
             "line": {
              "color": "#E5ECF6",
              "width": 0.5
             },
             "pattern": {
              "fillmode": "overlay",
              "size": 10,
              "solidity": 0.2
             }
            },
            "type": "barpolar"
           }
          ],
          "carpet": [
           {
            "aaxis": {
             "endlinecolor": "#2a3f5f",
             "gridcolor": "white",
             "linecolor": "white",
             "minorgridcolor": "white",
             "startlinecolor": "#2a3f5f"
            },
            "baxis": {
             "endlinecolor": "#2a3f5f",
             "gridcolor": "white",
             "linecolor": "white",
             "minorgridcolor": "white",
             "startlinecolor": "#2a3f5f"
            },
            "type": "carpet"
           }
          ],
          "choropleth": [
           {
            "colorbar": {
             "outlinewidth": 0,
             "ticks": ""
            },
            "type": "choropleth"
           }
          ],
          "contour": [
           {
            "colorbar": {
             "outlinewidth": 0,
             "ticks": ""
            },
            "colorscale": [
             [
              0,
              "#0d0887"
             ],
             [
              0.1111111111111111,
              "#46039f"
             ],
             [
              0.2222222222222222,
              "#7201a8"
             ],
             [
              0.3333333333333333,
              "#9c179e"
             ],
             [
              0.4444444444444444,
              "#bd3786"
             ],
             [
              0.5555555555555556,
              "#d8576b"
             ],
             [
              0.6666666666666666,
              "#ed7953"
             ],
             [
              0.7777777777777778,
              "#fb9f3a"
             ],
             [
              0.8888888888888888,
              "#fdca26"
             ],
             [
              1,
              "#f0f921"
             ]
            ],
            "type": "contour"
           }
          ],
          "contourcarpet": [
           {
            "colorbar": {
             "outlinewidth": 0,
             "ticks": ""
            },
            "type": "contourcarpet"
           }
          ],
          "heatmap": [
           {
            "colorbar": {
             "outlinewidth": 0,
             "ticks": ""
            },
            "colorscale": [
             [
              0,
              "#0d0887"
             ],
             [
              0.1111111111111111,
              "#46039f"
             ],
             [
              0.2222222222222222,
              "#7201a8"
             ],
             [
              0.3333333333333333,
              "#9c179e"
             ],
             [
              0.4444444444444444,
              "#bd3786"
             ],
             [
              0.5555555555555556,
              "#d8576b"
             ],
             [
              0.6666666666666666,
              "#ed7953"
             ],
             [
              0.7777777777777778,
              "#fb9f3a"
             ],
             [
              0.8888888888888888,
              "#fdca26"
             ],
             [
              1,
              "#f0f921"
             ]
            ],
            "type": "heatmap"
           }
          ],
          "heatmapgl": [
           {
            "colorbar": {
             "outlinewidth": 0,
             "ticks": ""
            },
            "colorscale": [
             [
              0,
              "#0d0887"
             ],
             [
              0.1111111111111111,
              "#46039f"
             ],
             [
              0.2222222222222222,
              "#7201a8"
             ],
             [
              0.3333333333333333,
              "#9c179e"
             ],
             [
              0.4444444444444444,
              "#bd3786"
             ],
             [
              0.5555555555555556,
              "#d8576b"
             ],
             [
              0.6666666666666666,
              "#ed7953"
             ],
             [
              0.7777777777777778,
              "#fb9f3a"
             ],
             [
              0.8888888888888888,
              "#fdca26"
             ],
             [
              1,
              "#f0f921"
             ]
            ],
            "type": "heatmapgl"
           }
          ],
          "histogram": [
           {
            "marker": {
             "pattern": {
              "fillmode": "overlay",
              "size": 10,
              "solidity": 0.2
             }
            },
            "type": "histogram"
           }
          ],
          "histogram2d": [
           {
            "colorbar": {
             "outlinewidth": 0,
             "ticks": ""
            },
            "colorscale": [
             [
              0,
              "#0d0887"
             ],
             [
              0.1111111111111111,
              "#46039f"
             ],
             [
              0.2222222222222222,
              "#7201a8"
             ],
             [
              0.3333333333333333,
              "#9c179e"
             ],
             [
              0.4444444444444444,
              "#bd3786"
             ],
             [
              0.5555555555555556,
              "#d8576b"
             ],
             [
              0.6666666666666666,
              "#ed7953"
             ],
             [
              0.7777777777777778,
              "#fb9f3a"
             ],
             [
              0.8888888888888888,
              "#fdca26"
             ],
             [
              1,
              "#f0f921"
             ]
            ],
            "type": "histogram2d"
           }
          ],
          "histogram2dcontour": [
           {
            "colorbar": {
             "outlinewidth": 0,
             "ticks": ""
            },
            "colorscale": [
             [
              0,
              "#0d0887"
             ],
             [
              0.1111111111111111,
              "#46039f"
             ],
             [
              0.2222222222222222,
              "#7201a8"
             ],
             [
              0.3333333333333333,
              "#9c179e"
             ],
             [
              0.4444444444444444,
              "#bd3786"
             ],
             [
              0.5555555555555556,
              "#d8576b"
             ],
             [
              0.6666666666666666,
              "#ed7953"
             ],
             [
              0.7777777777777778,
              "#fb9f3a"
             ],
             [
              0.8888888888888888,
              "#fdca26"
             ],
             [
              1,
              "#f0f921"
             ]
            ],
            "type": "histogram2dcontour"
           }
          ],
          "mesh3d": [
           {
            "colorbar": {
             "outlinewidth": 0,
             "ticks": ""
            },
            "type": "mesh3d"
           }
          ],
          "parcoords": [
           {
            "line": {
             "colorbar": {
              "outlinewidth": 0,
              "ticks": ""
             }
            },
            "type": "parcoords"
           }
          ],
          "pie": [
           {
            "automargin": true,
            "type": "pie"
           }
          ],
          "scatter": [
           {
            "fillpattern": {
             "fillmode": "overlay",
             "size": 10,
             "solidity": 0.2
            },
            "type": "scatter"
           }
          ],
          "scatter3d": [
           {
            "line": {
             "colorbar": {
              "outlinewidth": 0,
              "ticks": ""
             }
            },
            "marker": {
             "colorbar": {
              "outlinewidth": 0,
              "ticks": ""
             }
            },
            "type": "scatter3d"
           }
          ],
          "scattercarpet": [
           {
            "marker": {
             "colorbar": {
              "outlinewidth": 0,
              "ticks": ""
             }
            },
            "type": "scattercarpet"
           }
          ],
          "scattergeo": [
           {
            "marker": {
             "colorbar": {
              "outlinewidth": 0,
              "ticks": ""
             }
            },
            "type": "scattergeo"
           }
          ],
          "scattergl": [
           {
            "marker": {
             "colorbar": {
              "outlinewidth": 0,
              "ticks": ""
             }
            },
            "type": "scattergl"
           }
          ],
          "scattermapbox": [
           {
            "marker": {
             "colorbar": {
              "outlinewidth": 0,
              "ticks": ""
             }
            },
            "type": "scattermapbox"
           }
          ],
          "scatterpolar": [
           {
            "marker": {
             "colorbar": {
              "outlinewidth": 0,
              "ticks": ""
             }
            },
            "type": "scatterpolar"
           }
          ],
          "scatterpolargl": [
           {
            "marker": {
             "colorbar": {
              "outlinewidth": 0,
              "ticks": ""
             }
            },
            "type": "scatterpolargl"
           }
          ],
          "scatterternary": [
           {
            "marker": {
             "colorbar": {
              "outlinewidth": 0,
              "ticks": ""
             }
            },
            "type": "scatterternary"
           }
          ],
          "surface": [
           {
            "colorbar": {
             "outlinewidth": 0,
             "ticks": ""
            },
            "colorscale": [
             [
              0,
              "#0d0887"
             ],
             [
              0.1111111111111111,
              "#46039f"
             ],
             [
              0.2222222222222222,
              "#7201a8"
             ],
             [
              0.3333333333333333,
              "#9c179e"
             ],
             [
              0.4444444444444444,
              "#bd3786"
             ],
             [
              0.5555555555555556,
              "#d8576b"
             ],
             [
              0.6666666666666666,
              "#ed7953"
             ],
             [
              0.7777777777777778,
              "#fb9f3a"
             ],
             [
              0.8888888888888888,
              "#fdca26"
             ],
             [
              1,
              "#f0f921"
             ]
            ],
            "type": "surface"
           }
          ],
          "table": [
           {
            "cells": {
             "fill": {
              "color": "#EBF0F8"
             },
             "line": {
              "color": "white"
             }
            },
            "header": {
             "fill": {
              "color": "#C8D4E3"
             },
             "line": {
              "color": "white"
             }
            },
            "type": "table"
           }
          ]
         },
         "layout": {
          "annotationdefaults": {
           "arrowcolor": "#2a3f5f",
           "arrowhead": 0,
           "arrowwidth": 1
          },
          "autotypenumbers": "strict",
          "coloraxis": {
           "colorbar": {
            "outlinewidth": 0,
            "ticks": ""
           }
          },
          "colorscale": {
           "diverging": [
            [
             0,
             "#8e0152"
            ],
            [
             0.1,
             "#c51b7d"
            ],
            [
             0.2,
             "#de77ae"
            ],
            [
             0.3,
             "#f1b6da"
            ],
            [
             0.4,
             "#fde0ef"
            ],
            [
             0.5,
             "#f7f7f7"
            ],
            [
             0.6,
             "#e6f5d0"
            ],
            [
             0.7,
             "#b8e186"
            ],
            [
             0.8,
             "#7fbc41"
            ],
            [
             0.9,
             "#4d9221"
            ],
            [
             1,
             "#276419"
            ]
           ],
           "sequential": [
            [
             0,
             "#0d0887"
            ],
            [
             0.1111111111111111,
             "#46039f"
            ],
            [
             0.2222222222222222,
             "#7201a8"
            ],
            [
             0.3333333333333333,
             "#9c179e"
            ],
            [
             0.4444444444444444,
             "#bd3786"
            ],
            [
             0.5555555555555556,
             "#d8576b"
            ],
            [
             0.6666666666666666,
             "#ed7953"
            ],
            [
             0.7777777777777778,
             "#fb9f3a"
            ],
            [
             0.8888888888888888,
             "#fdca26"
            ],
            [
             1,
             "#f0f921"
            ]
           ],
           "sequentialminus": [
            [
             0,
             "#0d0887"
            ],
            [
             0.1111111111111111,
             "#46039f"
            ],
            [
             0.2222222222222222,
             "#7201a8"
            ],
            [
             0.3333333333333333,
             "#9c179e"
            ],
            [
             0.4444444444444444,
             "#bd3786"
            ],
            [
             0.5555555555555556,
             "#d8576b"
            ],
            [
             0.6666666666666666,
             "#ed7953"
            ],
            [
             0.7777777777777778,
             "#fb9f3a"
            ],
            [
             0.8888888888888888,
             "#fdca26"
            ],
            [
             1,
             "#f0f921"
            ]
           ]
          },
          "colorway": [
           "#636efa",
           "#EF553B",
           "#00cc96",
           "#ab63fa",
           "#FFA15A",
           "#19d3f3",
           "#FF6692",
           "#B6E880",
           "#FF97FF",
           "#FECB52"
          ],
          "font": {
           "color": "#2a3f5f"
          },
          "geo": {
           "bgcolor": "white",
           "lakecolor": "white",
           "landcolor": "#E5ECF6",
           "showlakes": true,
           "showland": true,
           "subunitcolor": "white"
          },
          "hoverlabel": {
           "align": "left"
          },
          "hovermode": "closest",
          "mapbox": {
           "style": "light"
          },
          "paper_bgcolor": "white",
          "plot_bgcolor": "#E5ECF6",
          "polar": {
           "angularaxis": {
            "gridcolor": "white",
            "linecolor": "white",
            "ticks": ""
           },
           "bgcolor": "#E5ECF6",
           "radialaxis": {
            "gridcolor": "white",
            "linecolor": "white",
            "ticks": ""
           }
          },
          "scene": {
           "xaxis": {
            "backgroundcolor": "#E5ECF6",
            "gridcolor": "white",
            "gridwidth": 2,
            "linecolor": "white",
            "showbackground": true,
            "ticks": "",
            "zerolinecolor": "white"
           },
           "yaxis": {
            "backgroundcolor": "#E5ECF6",
            "gridcolor": "white",
            "gridwidth": 2,
            "linecolor": "white",
            "showbackground": true,
            "ticks": "",
            "zerolinecolor": "white"
           },
           "zaxis": {
            "backgroundcolor": "#E5ECF6",
            "gridcolor": "white",
            "gridwidth": 2,
            "linecolor": "white",
            "showbackground": true,
            "ticks": "",
            "zerolinecolor": "white"
           }
          },
          "shapedefaults": {
           "line": {
            "color": "#2a3f5f"
           }
          },
          "ternary": {
           "aaxis": {
            "gridcolor": "white",
            "linecolor": "white",
            "ticks": ""
           },
           "baxis": {
            "gridcolor": "white",
            "linecolor": "white",
            "ticks": ""
           },
           "bgcolor": "#E5ECF6",
           "caxis": {
            "gridcolor": "white",
            "linecolor": "white",
            "ticks": ""
           }
          },
          "title": {
           "x": 0.05
          },
          "xaxis": {
           "automargin": true,
           "gridcolor": "white",
           "linecolor": "white",
           "ticks": "",
           "title": {
            "standoff": 15
           },
           "zerolinecolor": "white",
           "zerolinewidth": 2
          },
          "yaxis": {
           "automargin": true,
           "gridcolor": "white",
           "linecolor": "white",
           "ticks": "",
           "title": {
            "standoff": 15
           },
           "zerolinecolor": "white",
           "zerolinewidth": 2
          }
         }
        },
        "title": {
         "text": "Hyperparameter Importances"
        },
        "xaxis": {
         "title": {
          "text": "Importance for f1_score"
         }
        },
        "yaxis": {
         "title": {
          "text": "Hyperparameter"
         }
        }
       }
      }
     },
     "metadata": {},
     "output_type": "display_data"
    }
   ],
   "source": [
    "# график важности гиперпараметров\n",
    "optuna.visualization.plot_param_importances(study, target_name=\"f1_score\")"
   ]
  },
  {
   "attachments": {},
   "cell_type": "markdown",
   "metadata": {},
   "source": [
    "Из этого графика можно сделать вывод, что стоит обратить большее внимание на настройку гиперпараметра \"max_depth\"."
   ]
  },
  {
   "attachments": {},
   "cell_type": "markdown",
   "metadata": {},
   "source": [
    "***Общий вывод***\n",
    "\n",
    "Для решения данной задачи классификации были обучены две модели - логистической регрессии и модель случайного леса по параметрам, установленным по умолчанию (baseline), а также были подобраны гиперпараметры моделей предложенными методами - GridSeachCV, RandomizedSearchCV, Hyperopt, Optuna.\n",
    "\n",
    "Все рассмотренные методы позволили улучшить метрику в сравнении с базовой моделью, но полученный прирост метрики при использовании каждого из методов в сравнении с baseline не значителен, что свидетельствует о том, что настройки по умолчанию подобраны оптимальным образом.\n",
    "\n",
    "Наилучший результат по метрике f1 - при использовании алгоритма RandomForestClassifier с подобранными параметрами методов Hyperopt, Optuna"
   ]
  }
 ],
 "metadata": {
  "kernelspec": {
   "display_name": "Python 3",
   "language": "python",
   "name": "python3"
  },
  "language_info": {
   "codemirror_mode": {
    "name": "ipython",
    "version": 3
   },
   "file_extension": ".py",
   "mimetype": "text/x-python",
   "name": "python",
   "nbconvert_exporter": "python",
   "pygments_lexer": "ipython3",
   "version": "3.9.10"
  },
  "orig_nbformat": 4
 },
 "nbformat": 4,
 "nbformat_minor": 2
}
