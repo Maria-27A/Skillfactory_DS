{
  "cells": [
    {
      "cell_type": "markdown",
      "id": "42289889-bd57-434e-9637-d3e354756316",
      "metadata": {
        "id": "42289889-bd57-434e-9637-d3e354756316"
      },
      "source": [
        "<center> <img src = https://raw.githubusercontent.com/AndreyRysistov/DatasetsForPandas/main/hh%20label.jpg alt=\"drawing\" style=\"width:400px;\">"
      ]
    },
    {
      "cell_type": "markdown",
      "id": "829cb75b-f14e-4ba8-9195-7ba929a7d656",
      "metadata": {
        "id": "829cb75b-f14e-4ba8-9195-7ba929a7d656",
        "tags": []
      },
      "source": [
        "# <center> Проект: Анализ вакансий из HeadHunter\n",
        "   "
      ]
    },
    {
      "cell_type": "code",
      "execution_count": 247,
      "id": "dccfde33-2452-43fb-a8a5-5c6ebc02a71d",
      "metadata": {
        "id": "dccfde33-2452-43fb-a8a5-5c6ebc02a71d"
      },
      "outputs": [],
      "source": [
        "import pandas as pd\n",
        "import psycopg2\n",
        "import matplotlib.pyplot as plt"
      ]
    },
    {
      "cell_type": "code",
      "execution_count": 248,
      "id": "oVKH4ehvf8Ay",
      "metadata": {
        "id": "oVKH4ehvf8Ay"
      },
      "outputs": [],
      "source": [
        "# вставьте сюда параметры подключения из юнита 1. Работа с базой данных из Python \n"
      ]
    },
    {
      "cell_type": "code",
      "execution_count": 249,
      "id": "G4X_q8KBf7SF",
      "metadata": {
        "id": "G4X_q8KBf7SF"
      },
      "outputs": [],
      "source": [
        "connection = psycopg2.connect(\n",
        "    dbname=DBNAME,\n",
        "    user=USER,\n",
        "    host=HOST,\n",
        "    password=PASSWORD,\n",
        "    port=PORT\n",
        ")"
      ]
    },
    {
      "cell_type": "markdown",
      "id": "85eedc5b",
      "metadata": {},
      "source": [
        "Для ознакомления с признаками и их структурой, основными статистическими параметрами выведем информацию, содержащуюся в табл. vacancies"
      ]
    },
    {
      "cell_type": "code",
      "execution_count": 250,
      "id": "6c7a380b",
      "metadata": {},
      "outputs": [],
      "source": [
        "# текст запроса\n",
        "query_1 = f'''select *  \n",
        "                FROM public.vacancies\n",
        "            '''    "
      ]
    },
    {
      "cell_type": "code",
      "execution_count": 251,
      "id": "f8e9b285",
      "metadata": {},
      "outputs": [
        {
          "name": "stderr",
          "output_type": "stream",
          "text": [
            "c:\\Users\\Misha\\AppData\\Local\\Programs\\Python\\Python39\\lib\\site-packages\\pandas\\io\\sql.py:762: UserWarning:\n",
            "\n",
            "pandas only support SQLAlchemy connectable(engine/connection) ordatabase string URI or sqlite3 DBAPI2 connectionother DBAPI2 objects are not tested, please consider using SQLAlchemy\n",
            "\n"
          ]
        },
        {
          "data": {
            "text/html": [
              "<div>\n",
              "<style scoped>\n",
              "    .dataframe tbody tr th:only-of-type {\n",
              "        vertical-align: middle;\n",
              "    }\n",
              "\n",
              "    .dataframe tbody tr th {\n",
              "        vertical-align: top;\n",
              "    }\n",
              "\n",
              "    .dataframe thead th {\n",
              "        text-align: right;\n",
              "    }\n",
              "</style>\n",
              "<table border=\"1\" class=\"dataframe\">\n",
              "  <thead>\n",
              "    <tr style=\"text-align: right;\">\n",
              "      <th></th>\n",
              "      <th>id</th>\n",
              "      <th>name</th>\n",
              "      <th>key_skills</th>\n",
              "      <th>schedule</th>\n",
              "      <th>experience</th>\n",
              "      <th>employment</th>\n",
              "      <th>salary_from</th>\n",
              "      <th>salary_to</th>\n",
              "      <th>area_id</th>\n",
              "      <th>employer_id</th>\n",
              "    </tr>\n",
              "  </thead>\n",
              "  <tbody>\n",
              "    <tr>\n",
              "      <th>0</th>\n",
              "      <td>55312386</td>\n",
              "      <td>Компьютерный Мастер</td>\n",
              "      <td>Пользователь ПК\\tРабота в команде\\tРемонт ноут...</td>\n",
              "      <td>Полный день</td>\n",
              "      <td>Нет опыта</td>\n",
              "      <td>Полная занятость</td>\n",
              "      <td>64000.0</td>\n",
              "      <td>NaN</td>\n",
              "      <td>1516</td>\n",
              "      <td>5724811</td>\n",
              "    </tr>\n",
              "    <tr>\n",
              "      <th>1</th>\n",
              "      <td>55843014</td>\n",
              "      <td>Системный администратор</td>\n",
              "      <td>Средства криптографической защиты информации\\t...</td>\n",
              "      <td>Полный день</td>\n",
              "      <td>От 3 до 6 лет</td>\n",
              "      <td>Полная занятость</td>\n",
              "      <td>NaN</td>\n",
              "      <td>NaN</td>\n",
              "      <td>130</td>\n",
              "      <td>4903713</td>\n",
              "    </tr>\n",
              "    <tr>\n",
              "      <th>2</th>\n",
              "      <td>54525964</td>\n",
              "      <td>Lead Java Developer to Poland</td>\n",
              "      <td>Spring Framework\\tSQL\\tHibernate ORM\\tJava\\tGit</td>\n",
              "      <td>Удаленная работа</td>\n",
              "      <td>От 3 до 6 лет</td>\n",
              "      <td>Полная занятость</td>\n",
              "      <td>NaN</td>\n",
              "      <td>NaN</td>\n",
              "      <td>160</td>\n",
              "      <td>69961</td>\n",
              "    </tr>\n",
              "    <tr>\n",
              "      <th>3</th>\n",
              "      <td>54525965</td>\n",
              "      <td>Lead Java Developer to Poland</td>\n",
              "      <td>Spring Framework\\tSQL\\tHibernate ORM\\tJava\\tGit</td>\n",
              "      <td>Удаленная работа</td>\n",
              "      <td>От 3 до 6 лет</td>\n",
              "      <td>Полная занятость</td>\n",
              "      <td>NaN</td>\n",
              "      <td>NaN</td>\n",
              "      <td>159</td>\n",
              "      <td>69961</td>\n",
              "    </tr>\n",
              "    <tr>\n",
              "      <th>4</th>\n",
              "      <td>55354053</td>\n",
              "      <td>Специалист службы поддержки с техническими зна...</td>\n",
              "      <td>None</td>\n",
              "      <td>Удаленная работа</td>\n",
              "      <td>Нет опыта</td>\n",
              "      <td>Частичная занятость</td>\n",
              "      <td>15000.0</td>\n",
              "      <td>NaN</td>\n",
              "      <td>1955</td>\n",
              "      <td>1740</td>\n",
              "    </tr>\n",
              "  </tbody>\n",
              "</table>\n",
              "</div>"
            ],
            "text/plain": [
              "         id                                               name  \\\n",
              "0  55312386                                Компьютерный Мастер   \n",
              "1  55843014                            Системный администратор   \n",
              "2  54525964                      Lead Java Developer to Poland   \n",
              "3  54525965                      Lead Java Developer to Poland   \n",
              "4  55354053  Специалист службы поддержки с техническими зна...   \n",
              "\n",
              "                                          key_skills          schedule  \\\n",
              "0  Пользователь ПК\\tРабота в команде\\tРемонт ноут...       Полный день   \n",
              "1  Средства криптографической защиты информации\\t...       Полный день   \n",
              "2    Spring Framework\\tSQL\\tHibernate ORM\\tJava\\tGit  Удаленная работа   \n",
              "3    Spring Framework\\tSQL\\tHibernate ORM\\tJava\\tGit  Удаленная работа   \n",
              "4                                               None  Удаленная работа   \n",
              "\n",
              "      experience           employment  salary_from  salary_to  area_id  \\\n",
              "0      Нет опыта     Полная занятость      64000.0        NaN     1516   \n",
              "1  От 3 до 6 лет     Полная занятость          NaN        NaN      130   \n",
              "2  От 3 до 6 лет     Полная занятость          NaN        NaN      160   \n",
              "3  От 3 до 6 лет     Полная занятость          NaN        NaN      159   \n",
              "4      Нет опыта  Частичная занятость      15000.0        NaN     1955   \n",
              "\n",
              "   employer_id  \n",
              "0      5724811  \n",
              "1      4903713  \n",
              "2        69961  \n",
              "3        69961  \n",
              "4         1740  "
            ]
          },
          "metadata": {},
          "output_type": "display_data"
        }
      ],
      "source": [
        "# результат запроса\n",
        "hh_df = pd.read_sql_query(query_1, connection)\n",
        "display(hh_df.head()) "
      ]
    },
    {
      "cell_type": "code",
      "execution_count": 252,
      "id": "f95e1b34",
      "metadata": {},
      "outputs": [
        {
          "name": "stdout",
          "output_type": "stream",
          "text": [
            "<class 'pandas.core.frame.DataFrame'>\n",
            "RangeIndex: 49197 entries, 0 to 49196\n",
            "Data columns (total 10 columns):\n",
            " #   Column       Non-Null Count  Dtype  \n",
            "---  ------       --------------  -----  \n",
            " 0   id           49197 non-null  int64  \n",
            " 1   name         49197 non-null  object \n",
            " 2   key_skills   40741 non-null  object \n",
            " 3   schedule     49197 non-null  object \n",
            " 4   experience   49197 non-null  object \n",
            " 5   employment   49197 non-null  object \n",
            " 6   salary_from  21485 non-null  float64\n",
            " 7   salary_to    12690 non-null  float64\n",
            " 8   area_id      49197 non-null  int64  \n",
            " 9   employer_id  49197 non-null  int64  \n",
            "dtypes: float64(2), int64(3), object(5)\n",
            "memory usage: 3.8+ MB\n"
          ]
        },
        {
          "data": {
            "text/plain": [
              "None"
            ]
          },
          "metadata": {},
          "output_type": "display_data"
        }
      ],
      "source": [
        "display(hh_df.info()) # информация о числе непустых значений в столбцах и их типах (табл. vacancies)"
      ]
    },
    {
      "cell_type": "code",
      "execution_count": 253,
      "id": "93e5ed08",
      "metadata": {},
      "outputs": [
        {
          "data": {
            "text/html": [
              "<div>\n",
              "<style scoped>\n",
              "    .dataframe tbody tr th:only-of-type {\n",
              "        vertical-align: middle;\n",
              "    }\n",
              "\n",
              "    .dataframe tbody tr th {\n",
              "        vertical-align: top;\n",
              "    }\n",
              "\n",
              "    .dataframe thead th {\n",
              "        text-align: right;\n",
              "    }\n",
              "</style>\n",
              "<table border=\"1\" class=\"dataframe\">\n",
              "  <thead>\n",
              "    <tr style=\"text-align: right;\">\n",
              "      <th></th>\n",
              "      <th>id</th>\n",
              "      <th>salary_from</th>\n",
              "      <th>salary_to</th>\n",
              "      <th>area_id</th>\n",
              "      <th>employer_id</th>\n",
              "    </tr>\n",
              "  </thead>\n",
              "  <tbody>\n",
              "    <tr>\n",
              "      <th>count</th>\n",
              "      <td>4.919700e+04</td>\n",
              "      <td>21485.000000</td>\n",
              "      <td>12690.000000</td>\n",
              "      <td>49197.000000</td>\n",
              "      <td>4.919700e+04</td>\n",
              "    </tr>\n",
              "    <tr>\n",
              "      <th>mean</th>\n",
              "      <td>5.535701e+07</td>\n",
              "      <td>71064.657901</td>\n",
              "      <td>110536.741923</td>\n",
              "      <td>378.184727</td>\n",
              "      <td>1.817791e+06</td>\n",
              "    </tr>\n",
              "    <tr>\n",
              "      <th>std</th>\n",
              "      <td>4.215213e+06</td>\n",
              "      <td>56646.897132</td>\n",
              "      <td>89104.795997</td>\n",
              "      <td>746.274918</td>\n",
              "      <td>1.954087e+06</td>\n",
              "    </tr>\n",
              "    <tr>\n",
              "      <th>min</th>\n",
              "      <td>6.555939e+06</td>\n",
              "      <td>30.000000</td>\n",
              "      <td>60.000000</td>\n",
              "      <td>1.000000</td>\n",
              "      <td>6.000000e+00</td>\n",
              "    </tr>\n",
              "    <tr>\n",
              "      <th>25%</th>\n",
              "      <td>5.465343e+07</td>\n",
              "      <td>35000.000000</td>\n",
              "      <td>50000.000000</td>\n",
              "      <td>12.000000</td>\n",
              "      <td>6.577200e+04</td>\n",
              "    </tr>\n",
              "    <tr>\n",
              "      <th>50%</th>\n",
              "      <td>5.512157e+07</td>\n",
              "      <td>50000.000000</td>\n",
              "      <td>80000.000000</td>\n",
              "      <td>72.000000</td>\n",
              "      <td>1.045513e+06</td>\n",
              "    </tr>\n",
              "    <tr>\n",
              "      <th>75%</th>\n",
              "      <td>5.544978e+07</td>\n",
              "      <td>90000.000000</td>\n",
              "      <td>150000.000000</td>\n",
              "      <td>159.000000</td>\n",
              "      <td>3.153012e+06</td>\n",
              "    </tr>\n",
              "    <tr>\n",
              "      <th>max</th>\n",
              "      <td>6.619644e+07</td>\n",
              "      <td>1000000.000000</td>\n",
              "      <td>1000000.000000</td>\n",
              "      <td>6458.000000</td>\n",
              "      <td>8.906438e+06</td>\n",
              "    </tr>\n",
              "  </tbody>\n",
              "</table>\n",
              "</div>"
            ],
            "text/plain": [
              "                 id     salary_from       salary_to       area_id  \\\n",
              "count  4.919700e+04    21485.000000    12690.000000  49197.000000   \n",
              "mean   5.535701e+07    71064.657901   110536.741923    378.184727   \n",
              "std    4.215213e+06    56646.897132    89104.795997    746.274918   \n",
              "min    6.555939e+06       30.000000       60.000000      1.000000   \n",
              "25%    5.465343e+07    35000.000000    50000.000000     12.000000   \n",
              "50%    5.512157e+07    50000.000000    80000.000000     72.000000   \n",
              "75%    5.544978e+07    90000.000000   150000.000000    159.000000   \n",
              "max    6.619644e+07  1000000.000000  1000000.000000   6458.000000   \n",
              "\n",
              "        employer_id  \n",
              "count  4.919700e+04  \n",
              "mean   1.817791e+06  \n",
              "std    1.954087e+06  \n",
              "min    6.000000e+00  \n",
              "25%    6.577200e+04  \n",
              "50%    1.045513e+06  \n",
              "75%    3.153012e+06  \n",
              "max    8.906438e+06  "
            ]
          },
          "metadata": {},
          "output_type": "display_data"
        }
      ],
      "source": [
        "display(hh_df.describe()) # статистическая информация о числовых столбцах (табл. vacancies) "
      ]
    },
    {
      "cell_type": "code",
      "execution_count": 254,
      "id": "add6d427",
      "metadata": {},
      "outputs": [
        {
          "data": {
            "text/html": [
              "<div>\n",
              "<style scoped>\n",
              "    .dataframe tbody tr th:only-of-type {\n",
              "        vertical-align: middle;\n",
              "    }\n",
              "\n",
              "    .dataframe tbody tr th {\n",
              "        vertical-align: top;\n",
              "    }\n",
              "\n",
              "    .dataframe thead th {\n",
              "        text-align: right;\n",
              "    }\n",
              "</style>\n",
              "<table border=\"1\" class=\"dataframe\">\n",
              "  <thead>\n",
              "    <tr style=\"text-align: right;\">\n",
              "      <th></th>\n",
              "      <th>name</th>\n",
              "      <th>key_skills</th>\n",
              "      <th>schedule</th>\n",
              "      <th>experience</th>\n",
              "      <th>employment</th>\n",
              "    </tr>\n",
              "  </thead>\n",
              "  <tbody>\n",
              "    <tr>\n",
              "      <th>count</th>\n",
              "      <td>49197</td>\n",
              "      <td>40741</td>\n",
              "      <td>49197</td>\n",
              "      <td>49197</td>\n",
              "      <td>49197</td>\n",
              "    </tr>\n",
              "    <tr>\n",
              "      <th>unique</th>\n",
              "      <td>21223</td>\n",
              "      <td>31218</td>\n",
              "      <td>5</td>\n",
              "      <td>4</td>\n",
              "      <td>4</td>\n",
              "    </tr>\n",
              "    <tr>\n",
              "      <th>top</th>\n",
              "      <td>Системный администратор</td>\n",
              "      <td>1С программирование</td>\n",
              "      <td>Полный день</td>\n",
              "      <td>От 1 года до 3 лет</td>\n",
              "      <td>Полная занятость</td>\n",
              "    </tr>\n",
              "    <tr>\n",
              "      <th>freq</th>\n",
              "      <td>1761</td>\n",
              "      <td>94</td>\n",
              "      <td>36424</td>\n",
              "      <td>26152</td>\n",
              "      <td>46069</td>\n",
              "    </tr>\n",
              "  </tbody>\n",
              "</table>\n",
              "</div>"
            ],
            "text/plain": [
              "                           name           key_skills     schedule  \\\n",
              "count                     49197                40741        49197   \n",
              "unique                    21223                31218            5   \n",
              "top     Системный администратор  1С программирование  Полный день   \n",
              "freq                       1761                   94        36424   \n",
              "\n",
              "                experience        employment  \n",
              "count                49197             49197  \n",
              "unique                   4                 4  \n",
              "top     От 1 года до 3 лет  Полная занятость  \n",
              "freq                 26152             46069  "
            ]
          },
          "metadata": {},
          "output_type": "display_data"
        }
      ],
      "source": [
        "display(hh_df.describe(include = [\"object\"])) # статистическая информация о столбцах типа \"object\" (табл. vacancies)"
      ]
    },
    {
      "cell_type": "markdown",
      "id": "0dc6476b-7a00-44f1-ac93-6e3baed33a29",
      "metadata": {
        "id": "0dc6476b-7a00-44f1-ac93-6e3baed33a29"
      },
      "source": [
        "# Юнит 3. Предварительный анализ данных"
      ]
    },
    {
      "cell_type": "markdown",
      "id": "889782b6-8d1c-410e-8920-e57f27917c64",
      "metadata": {
        "id": "889782b6-8d1c-410e-8920-e57f27917c64"
      },
      "source": [
        "1 Напишите запрос, который посчитает количество вакансий в нашей базе (вакансии находятся в таблице vacancies). "
      ]
    },
    {
      "cell_type": "code",
      "execution_count": 255,
      "id": "bc39e68e-ed02-4ee2-9235-7258a2f867a8",
      "metadata": {
        "id": "bc39e68e-ed02-4ee2-9235-7258a2f867a8"
      },
      "outputs": [],
      "source": [
        "# текст запроса\n",
        "query_3_1 = f'''SELECT COUNT(id) AS cnt_vacancies\n",
        "                FROM public.vacancies\n",
        "            '''    "
      ]
    },
    {
      "cell_type": "code",
      "execution_count": 256,
      "id": "7mAwtsk4hEHY",
      "metadata": {
        "id": "7mAwtsk4hEHY"
      },
      "outputs": [
        {
          "name": "stdout",
          "output_type": "stream",
          "text": [
            "Количество вакансий в нашей базе (табл. vacancies): 49197\n"
          ]
        },
        {
          "name": "stderr",
          "output_type": "stream",
          "text": [
            "c:\\Users\\Misha\\AppData\\Local\\Programs\\Python\\Python39\\lib\\site-packages\\pandas\\io\\sql.py:762: UserWarning:\n",
            "\n",
            "pandas only support SQLAlchemy connectable(engine/connection) ordatabase string URI or sqlite3 DBAPI2 connectionother DBAPI2 objects are not tested, please consider using SQLAlchemy\n",
            "\n"
          ]
        }
      ],
      "source": [
        "# результат запроса\n",
        "hh_df_3_1 = pd.read_sql_query(query_3_1, connection)\n",
        "print(f'Количество вакансий в нашей базе (табл. vacancies): {hh_df_3_1.iloc[0,0]}')"
      ]
    },
    {
      "cell_type": "markdown",
      "id": "b583485d-1f9e-494e-ada4-80ffff7c53d6",
      "metadata": {
        "id": "b583485d-1f9e-494e-ada4-80ffff7c53d6"
      },
      "source": [
        "2 Напишите запрос, который посчитает количество работодателей (таблица employers). "
      ]
    },
    {
      "cell_type": "code",
      "execution_count": 257,
      "id": "5408c52c-3407-4a63-b25b-1aafa2322d28",
      "metadata": {
        "id": "5408c52c-3407-4a63-b25b-1aafa2322d28"
      },
      "outputs": [],
      "source": [
        "# текст запроса\n",
        "query_3_2 = f'''SELECT COUNT(id) AS cnt_employers\n",
        "                FROM public.employers\n",
        "            '''    "
      ]
    },
    {
      "cell_type": "code",
      "execution_count": 258,
      "id": "jVL4eshKhdqc",
      "metadata": {
        "id": "jVL4eshKhdqc"
      },
      "outputs": [
        {
          "name": "stdout",
          "output_type": "stream",
          "text": [
            "Количество работодателей в нашей базе (табл. employers): 23501\n"
          ]
        },
        {
          "name": "stderr",
          "output_type": "stream",
          "text": [
            "c:\\Users\\Misha\\AppData\\Local\\Programs\\Python\\Python39\\lib\\site-packages\\pandas\\io\\sql.py:762: UserWarning:\n",
            "\n",
            "pandas only support SQLAlchemy connectable(engine/connection) ordatabase string URI or sqlite3 DBAPI2 connectionother DBAPI2 objects are not tested, please consider using SQLAlchemy\n",
            "\n"
          ]
        }
      ],
      "source": [
        "# результат запроса\n",
        "hh_df_3_2 = pd.read_sql_query(query_3_2, connection)\n",
        "print(f'Количество работодателей в нашей базе (табл. employers): {hh_df_3_2.iloc[0,0]}')"
      ]
    },
    {
      "cell_type": "markdown",
      "id": "a2bfff1f-c975-4bf6-84be-2185d79dcb76",
      "metadata": {
        "id": "a2bfff1f-c975-4bf6-84be-2185d79dcb76"
      },
      "source": [
        "3 Посчитате с помощью запроса количество регионов (таблица areas)."
      ]
    },
    {
      "cell_type": "code",
      "execution_count": 259,
      "id": "1m8QJwBYhey6",
      "metadata": {
        "id": "1m8QJwBYhey6"
      },
      "outputs": [],
      "source": [
        "# текст запроса\n",
        "query_3_3 = f'''SELECT COUNT(id) AS cnt_areas\n",
        "                FROM public.areas\n",
        "            '''   "
      ]
    },
    {
      "cell_type": "code",
      "execution_count": 260,
      "id": "EZsn9tlfhe7f",
      "metadata": {
        "id": "EZsn9tlfhe7f"
      },
      "outputs": [
        {
          "name": "stdout",
          "output_type": "stream",
          "text": [
            "Количество регионов в нашей базе (табл. areas): 1362\n"
          ]
        },
        {
          "name": "stderr",
          "output_type": "stream",
          "text": [
            "c:\\Users\\Misha\\AppData\\Local\\Programs\\Python\\Python39\\lib\\site-packages\\pandas\\io\\sql.py:762: UserWarning:\n",
            "\n",
            "pandas only support SQLAlchemy connectable(engine/connection) ordatabase string URI or sqlite3 DBAPI2 connectionother DBAPI2 objects are not tested, please consider using SQLAlchemy\n",
            "\n"
          ]
        }
      ],
      "source": [
        "# результат запроса\n",
        "hh_df_3_3 = pd.read_sql_query(query_3_3, connection)\n",
        "print(f'Количество регионов в нашей базе (табл. areas): {hh_df_3_3.iloc[0,0]}')"
      ]
    },
    {
      "cell_type": "markdown",
      "id": "41bb59f3-53cc-4a67-a5bc-bedf573955e4",
      "metadata": {
        "id": "41bb59f3-53cc-4a67-a5bc-bedf573955e4"
      },
      "source": [
        "4 Посчитате с помощью запроса количество сфер деятельности в базе (таблица industries)."
      ]
    },
    {
      "cell_type": "code",
      "execution_count": 261,
      "id": "d286cf4c-707b-4cd2-9190-7ab3587d04a1",
      "metadata": {
        "id": "d286cf4c-707b-4cd2-9190-7ab3587d04a1"
      },
      "outputs": [],
      "source": [
        "# текст запроса\n",
        "query_3_4 = f'''SELECT COUNT(id) AS cnt_industries\n",
        "                FROM public.industries\n",
        "            '''   "
      ]
    },
    {
      "cell_type": "code",
      "execution_count": 262,
      "id": "JYAaoZ4qhfzW",
      "metadata": {
        "id": "JYAaoZ4qhfzW"
      },
      "outputs": [
        {
          "name": "stdout",
          "output_type": "stream",
          "text": [
            "Количество сфер деятельности в нашей базе (табл. industries): 294\n"
          ]
        },
        {
          "name": "stderr",
          "output_type": "stream",
          "text": [
            "c:\\Users\\Misha\\AppData\\Local\\Programs\\Python\\Python39\\lib\\site-packages\\pandas\\io\\sql.py:762: UserWarning:\n",
            "\n",
            "pandas only support SQLAlchemy connectable(engine/connection) ordatabase string URI or sqlite3 DBAPI2 connectionother DBAPI2 objects are not tested, please consider using SQLAlchemy\n",
            "\n"
          ]
        }
      ],
      "source": [
        "# результат запроса\n",
        "hh_df_3_4 = pd.read_sql_query(query_3_4, connection)\n",
        "print(f'Количество сфер деятельности в нашей базе (табл. industries): {hh_df_3_4.iloc[0,0]}')"
      ]
    },
    {
      "cell_type": "markdown",
      "id": "9a8a2181-6914-448b-85f1-38f5f18b8a93",
      "metadata": {
        "id": "9a8a2181-6914-448b-85f1-38f5f18b8a93"
      },
      "source": [
        "***"
      ]
    },
    {
      "cell_type": "markdown",
      "id": "219ae36c",
      "metadata": {},
      "source": [
        "### **Выводы по предварительному анализу данных**\n",
        "\n",
        "В нашей базе представлено достаточно большое количество  вакансий (49 197 позиций), позволяющее подобрать необходимую для соискателя - в соответствии с его требованиями. \n",
        "\n",
        "Количество работодателей составляет 23 501, что свидетельствует о широком спектре возможностей в плане поиска подходящего места работы в  связи с наличием различных требований и условий труда со стороны работодателей.\n",
        "\n",
        "Касательно географии представленных в базе вакансий: количество регионов составляет 1 362, что позволяет найти с учетом требований соискателя работу по месту проживания, как вариант, с удаленным типом занятости в других регионах, так и с возможностью переезда, командировок.  \n",
        "\n",
        "Разнообразие вакансий в плане сфер деятельности (294 позиции) открывает также возможность подбора вакансий для соискателя с учетом имеющихся у него знаний/опыта в определенной области, либо интересующее направление в плане дальнейшего освоения и саморазвития.\n",
        "\n",
        "Проведенный предварительный анализ дает представление об общем количестве значений рассмотренных признаков, без выявления особенностей внутреннего распределения указанных характеристик."
      ]
    },
    {
      "cell_type": "markdown",
      "id": "8d62a9f3-f64e-4fe7-bdac-c4dffa16155e",
      "metadata": {
        "id": "8d62a9f3-f64e-4fe7-bdac-c4dffa16155e"
      },
      "source": [
        "# Юнит 4. Детальный анализ вакансий"
      ]
    },
    {
      "cell_type": "markdown",
      "id": "93053d3d-b284-481a-9cf7-012d7014c0e0",
      "metadata": {
        "id": "93053d3d-b284-481a-9cf7-012d7014c0e0"
      },
      "source": [
        "1 Напишите запрос, который позволит узнать, сколько (cnt) вакансий в каждом регионе (area).\n",
        "Отсортируйте по количеству вакансий в порядке убывания."
      ]
    },
    {
      "cell_type": "code",
      "execution_count": 263,
      "id": "3f069da6-fdc9-4ae7-b514-fafe2675efd3",
      "metadata": {
        "id": "3f069da6-fdc9-4ae7-b514-fafe2675efd3"
      },
      "outputs": [],
      "source": [
        "# текст запроса\n",
        "query_4_1 = f'''SELECT \n",
        "                     a.name AS area, \n",
        "                     COUNT(v.id) AS cnt_vacancies\n",
        "              FROM public.areas a \n",
        "              JOIN  public.vacancies v ON v.area_id = a.id\n",
        "              GROUP BY area\n",
        "              ORDER BY cnt_vacancies DESC\n",
        "              '''    "
      ]
    },
    {
      "cell_type": "code",
      "execution_count": 264,
      "id": "P7QL86hrjhRJ",
      "metadata": {
        "id": "P7QL86hrjhRJ"
      },
      "outputs": [
        {
          "name": "stderr",
          "output_type": "stream",
          "text": [
            "c:\\Users\\Misha\\AppData\\Local\\Programs\\Python\\Python39\\lib\\site-packages\\pandas\\io\\sql.py:762: UserWarning:\n",
            "\n",
            "pandas only support SQLAlchemy connectable(engine/connection) ordatabase string URI or sqlite3 DBAPI2 connectionother DBAPI2 objects are not tested, please consider using SQLAlchemy\n",
            "\n"
          ]
        },
        {
          "data": {
            "text/html": [
              "<div>\n",
              "<style scoped>\n",
              "    .dataframe tbody tr th:only-of-type {\n",
              "        vertical-align: middle;\n",
              "    }\n",
              "\n",
              "    .dataframe tbody tr th {\n",
              "        vertical-align: top;\n",
              "    }\n",
              "\n",
              "    .dataframe thead th {\n",
              "        text-align: right;\n",
              "    }\n",
              "</style>\n",
              "<table border=\"1\" class=\"dataframe\">\n",
              "  <thead>\n",
              "    <tr style=\"text-align: right;\">\n",
              "      <th></th>\n",
              "      <th>area</th>\n",
              "      <th>cnt_vacancies</th>\n",
              "    </tr>\n",
              "  </thead>\n",
              "  <tbody>\n",
              "    <tr>\n",
              "      <th>0</th>\n",
              "      <td>Москва</td>\n",
              "      <td>5333</td>\n",
              "    </tr>\n",
              "    <tr>\n",
              "      <th>1</th>\n",
              "      <td>Санкт-Петербург</td>\n",
              "      <td>2851</td>\n",
              "    </tr>\n",
              "    <tr>\n",
              "      <th>2</th>\n",
              "      <td>Минск</td>\n",
              "      <td>2112</td>\n",
              "    </tr>\n",
              "    <tr>\n",
              "      <th>3</th>\n",
              "      <td>Новосибирск</td>\n",
              "      <td>2006</td>\n",
              "    </tr>\n",
              "    <tr>\n",
              "      <th>4</th>\n",
              "      <td>Алматы</td>\n",
              "      <td>1892</td>\n",
              "    </tr>\n",
              "    <tr>\n",
              "      <th>...</th>\n",
              "      <td>...</td>\n",
              "      <td>...</td>\n",
              "    </tr>\n",
              "    <tr>\n",
              "      <th>764</th>\n",
              "      <td>Тарко-Сале</td>\n",
              "      <td>1</td>\n",
              "    </tr>\n",
              "    <tr>\n",
              "      <th>765</th>\n",
              "      <td>Новоаннинский</td>\n",
              "      <td>1</td>\n",
              "    </tr>\n",
              "    <tr>\n",
              "      <th>766</th>\n",
              "      <td>Бирск</td>\n",
              "      <td>1</td>\n",
              "    </tr>\n",
              "    <tr>\n",
              "      <th>767</th>\n",
              "      <td>Сасово</td>\n",
              "      <td>1</td>\n",
              "    </tr>\n",
              "    <tr>\n",
              "      <th>768</th>\n",
              "      <td>Анна</td>\n",
              "      <td>1</td>\n",
              "    </tr>\n",
              "  </tbody>\n",
              "</table>\n",
              "<p>769 rows × 2 columns</p>\n",
              "</div>"
            ],
            "text/plain": [
              "                area  cnt_vacancies\n",
              "0             Москва           5333\n",
              "1    Санкт-Петербург           2851\n",
              "2              Минск           2112\n",
              "3        Новосибирск           2006\n",
              "4             Алматы           1892\n",
              "..               ...            ...\n",
              "764       Тарко-Сале              1\n",
              "765    Новоаннинский              1\n",
              "766            Бирск              1\n",
              "767           Сасово              1\n",
              "768             Анна              1\n",
              "\n",
              "[769 rows x 2 columns]"
            ]
          },
          "metadata": {},
          "output_type": "display_data"
        }
      ],
      "source": [
        "# результат запроса\n",
        "hh_df_4_1 = pd.read_sql_query(query_4_1, connection)\n",
        "display(hh_df_4_1)"
      ]
    },
    {
      "cell_type": "markdown",
      "id": "4266f0b6-1646-492a-88b4-2f6a46502135",
      "metadata": {
        "id": "4266f0b6-1646-492a-88b4-2f6a46502135"
      },
      "source": [
        "2 Напишите запрос, чтобы определить у какого количества вакансий заполнено хотя бы одно из двух полей с зарплатой."
      ]
    },
    {
      "cell_type": "code",
      "execution_count": 265,
      "id": "0c44b350-72eb-4d65-8b54-a1fc449ba9fd",
      "metadata": {
        "id": "0c44b350-72eb-4d65-8b54-a1fc449ba9fd"
      },
      "outputs": [],
      "source": [
        "# текст запроса\n",
        "query_4_2 = f'''SELECT COUNT(id) AS cnt_vacancies\n",
        "              FROM public.vacancies \n",
        "              WHERE salary_from IS NOT NULL or salary_to IS NOT NULL\n",
        "              '''    "
      ]
    },
    {
      "cell_type": "code",
      "execution_count": 266,
      "id": "rhvwaMDkoWTi",
      "metadata": {
        "id": "rhvwaMDkoWTi"
      },
      "outputs": [
        {
          "name": "stdout",
          "output_type": "stream",
          "text": [
            "Количество вакансий, у которых заполнено хотя бы одно из двух полей с зарплатой: 24073\n"
          ]
        },
        {
          "name": "stderr",
          "output_type": "stream",
          "text": [
            "c:\\Users\\Misha\\AppData\\Local\\Programs\\Python\\Python39\\lib\\site-packages\\pandas\\io\\sql.py:762: UserWarning:\n",
            "\n",
            "pandas only support SQLAlchemy connectable(engine/connection) ordatabase string URI or sqlite3 DBAPI2 connectionother DBAPI2 objects are not tested, please consider using SQLAlchemy\n",
            "\n"
          ]
        }
      ],
      "source": [
        "# результат запроса\n",
        "hh_df_4_2 = pd.read_sql_query(query_4_2, connection)\n",
        "print(f'Количество вакансий, у которых заполнено хотя бы одно из двух полей с зарплатой: {hh_df_4_2.iloc[0,0]}')"
      ]
    },
    {
      "cell_type": "markdown",
      "id": "635c4d5d-f323-4c66-b428-50a088120aa0",
      "metadata": {
        "id": "635c4d5d-f323-4c66-b428-50a088120aa0"
      },
      "source": [
        "3 Найдите средние значения для нижней и верхней границы зарплатной вилки. Округлите значения до целого."
      ]
    },
    {
      "cell_type": "code",
      "execution_count": 267,
      "id": "603cdbe4-0ec3-4106-8eaf-c73fcdd29165",
      "metadata": {
        "id": "603cdbe4-0ec3-4106-8eaf-c73fcdd29165"
      },
      "outputs": [],
      "source": [
        "# текст запроса\n",
        "query_4_3 = f'''SELECT \n",
        "                      ROUND(AVG(salary_from)) AS AVG_salary_from,\n",
        "                      ROUND(AVG(salary_to)) AS AVG_salary_to\n",
        "              FROM public.vacancies  \n",
        "              '''    "
      ]
    },
    {
      "cell_type": "code",
      "execution_count": 268,
      "id": "pswpAb66ovZZ",
      "metadata": {
        "id": "pswpAb66ovZZ"
      },
      "outputs": [
        {
          "name": "stderr",
          "output_type": "stream",
          "text": [
            "c:\\Users\\Misha\\AppData\\Local\\Programs\\Python\\Python39\\lib\\site-packages\\pandas\\io\\sql.py:762: UserWarning:\n",
            "\n",
            "pandas only support SQLAlchemy connectable(engine/connection) ordatabase string URI or sqlite3 DBAPI2 connectionother DBAPI2 objects are not tested, please consider using SQLAlchemy\n",
            "\n"
          ]
        },
        {
          "data": {
            "text/html": [
              "<div>\n",
              "<style scoped>\n",
              "    .dataframe tbody tr th:only-of-type {\n",
              "        vertical-align: middle;\n",
              "    }\n",
              "\n",
              "    .dataframe tbody tr th {\n",
              "        vertical-align: top;\n",
              "    }\n",
              "\n",
              "    .dataframe thead th {\n",
              "        text-align: right;\n",
              "    }\n",
              "</style>\n",
              "<table border=\"1\" class=\"dataframe\">\n",
              "  <thead>\n",
              "    <tr style=\"text-align: right;\">\n",
              "      <th></th>\n",
              "      <th>avg_salary_from</th>\n",
              "      <th>avg_salary_to</th>\n",
              "    </tr>\n",
              "  </thead>\n",
              "  <tbody>\n",
              "    <tr>\n",
              "      <th>0</th>\n",
              "      <td>71065.0</td>\n",
              "      <td>110537.0</td>\n",
              "    </tr>\n",
              "  </tbody>\n",
              "</table>\n",
              "</div>"
            ],
            "text/plain": [
              "   avg_salary_from  avg_salary_to\n",
              "0          71065.0       110537.0"
            ]
          },
          "metadata": {},
          "output_type": "display_data"
        }
      ],
      "source": [
        "# результат запроса\n",
        "hh_df_4_3 = pd.read_sql_query(query_4_3, connection)\n",
        "display(hh_df_4_3)"
      ]
    },
    {
      "cell_type": "markdown",
      "id": "9d69b677",
      "metadata": {},
      "source": [
        "Для возможности более корректной инерпретации полученных средних значений проведем расчет медианы указанных показателей (для самоконтроля сравним результаты с полученными в таблице по основным статистическим данным) "
      ]
    },
    {
      "cell_type": "code",
      "execution_count": 269,
      "id": "771a3a0c",
      "metadata": {},
      "outputs": [
        {
          "name": "stdout",
          "output_type": "stream",
          "text": [
            "Медиана для нижней границы зарплатной вилки: 50000.0 руб.\n",
            "Медиана для верхней границы зарплатной вилки: 80000.0 руб.\n"
          ]
        }
      ],
      "source": [
        "print(f'Медиана для нижней границы зарплатной вилки: {hh_df[\"salary_from\"].median()} руб.')\n",
        "print(f'Медиана для верхней границы зарплатной вилки: {hh_df[\"salary_to\"].median()} руб.')"
      ]
    },
    {
      "cell_type": "markdown",
      "id": "f3fdaec9-5fd3-4260-9cf5-1d7406b628a5",
      "metadata": {
        "id": "f3fdaec9-5fd3-4260-9cf5-1d7406b628a5"
      },
      "source": [
        "4 Напишите запрос, который выведет количество вакансий для каждого сочетания типа рабочего графика (schedule) и типа трудоустройства (employment), используемого в вакансиях. Результат отсортируйте по убыванию количества.\n"
      ]
    },
    {
      "cell_type": "code",
      "execution_count": 270,
      "id": "1ea710ec-871b-431e-9462-c7d0fd87011b",
      "metadata": {
        "id": "1ea710ec-871b-431e-9462-c7d0fd87011b"
      },
      "outputs": [],
      "source": [
        "# текст запроса\n",
        "query_4_4 = f'''SELECT DISTINCT\n",
        "                              schedule, \n",
        "                              employment, \n",
        "                              COUNT(id) AS cnt_vacancies\n",
        "                FROM public.vacancies \n",
        "                GROUP BY schedule, employment\n",
        "                ORDER BY cnt_vacancies DESC \n",
        "              '''    "
      ]
    },
    {
      "cell_type": "code",
      "execution_count": 271,
      "id": "lGUVqavdo4JQ",
      "metadata": {
        "id": "lGUVqavdo4JQ"
      },
      "outputs": [
        {
          "name": "stderr",
          "output_type": "stream",
          "text": [
            "c:\\Users\\Misha\\AppData\\Local\\Programs\\Python\\Python39\\lib\\site-packages\\pandas\\io\\sql.py:762: UserWarning:\n",
            "\n",
            "pandas only support SQLAlchemy connectable(engine/connection) ordatabase string URI or sqlite3 DBAPI2 connectionother DBAPI2 objects are not tested, please consider using SQLAlchemy\n",
            "\n"
          ]
        },
        {
          "data": {
            "text/html": [
              "<div>\n",
              "<style scoped>\n",
              "    .dataframe tbody tr th:only-of-type {\n",
              "        vertical-align: middle;\n",
              "    }\n",
              "\n",
              "    .dataframe tbody tr th {\n",
              "        vertical-align: top;\n",
              "    }\n",
              "\n",
              "    .dataframe thead th {\n",
              "        text-align: right;\n",
              "    }\n",
              "</style>\n",
              "<table border=\"1\" class=\"dataframe\">\n",
              "  <thead>\n",
              "    <tr style=\"text-align: right;\">\n",
              "      <th></th>\n",
              "      <th>schedule</th>\n",
              "      <th>employment</th>\n",
              "      <th>cnt_vacancies</th>\n",
              "    </tr>\n",
              "  </thead>\n",
              "  <tbody>\n",
              "    <tr>\n",
              "      <th>0</th>\n",
              "      <td>Полный день</td>\n",
              "      <td>Полная занятость</td>\n",
              "      <td>35367</td>\n",
              "    </tr>\n",
              "    <tr>\n",
              "      <th>1</th>\n",
              "      <td>Удаленная работа</td>\n",
              "      <td>Полная занятость</td>\n",
              "      <td>7802</td>\n",
              "    </tr>\n",
              "    <tr>\n",
              "      <th>2</th>\n",
              "      <td>Гибкий график</td>\n",
              "      <td>Полная занятость</td>\n",
              "      <td>1593</td>\n",
              "    </tr>\n",
              "    <tr>\n",
              "      <th>3</th>\n",
              "      <td>Удаленная работа</td>\n",
              "      <td>Частичная занятость</td>\n",
              "      <td>1312</td>\n",
              "    </tr>\n",
              "    <tr>\n",
              "      <th>4</th>\n",
              "      <td>Сменный график</td>\n",
              "      <td>Полная занятость</td>\n",
              "      <td>940</td>\n",
              "    </tr>\n",
              "    <tr>\n",
              "      <th>5</th>\n",
              "      <td>Полный день</td>\n",
              "      <td>Стажировка</td>\n",
              "      <td>569</td>\n",
              "    </tr>\n",
              "    <tr>\n",
              "      <th>6</th>\n",
              "      <td>Вахтовый метод</td>\n",
              "      <td>Полная занятость</td>\n",
              "      <td>367</td>\n",
              "    </tr>\n",
              "    <tr>\n",
              "      <th>7</th>\n",
              "      <td>Полный день</td>\n",
              "      <td>Частичная занятость</td>\n",
              "      <td>347</td>\n",
              "    </tr>\n",
              "    <tr>\n",
              "      <th>8</th>\n",
              "      <td>Гибкий график</td>\n",
              "      <td>Частичная занятость</td>\n",
              "      <td>312</td>\n",
              "    </tr>\n",
              "    <tr>\n",
              "      <th>9</th>\n",
              "      <td>Полный день</td>\n",
              "      <td>Проектная работа</td>\n",
              "      <td>141</td>\n",
              "    </tr>\n",
              "    <tr>\n",
              "      <th>10</th>\n",
              "      <td>Удаленная работа</td>\n",
              "      <td>Проектная работа</td>\n",
              "      <td>133</td>\n",
              "    </tr>\n",
              "    <tr>\n",
              "      <th>11</th>\n",
              "      <td>Гибкий график</td>\n",
              "      <td>Стажировка</td>\n",
              "      <td>116</td>\n",
              "    </tr>\n",
              "    <tr>\n",
              "      <th>12</th>\n",
              "      <td>Сменный график</td>\n",
              "      <td>Частичная занятость</td>\n",
              "      <td>101</td>\n",
              "    </tr>\n",
              "    <tr>\n",
              "      <th>13</th>\n",
              "      <td>Удаленная работа</td>\n",
              "      <td>Стажировка</td>\n",
              "      <td>64</td>\n",
              "    </tr>\n",
              "    <tr>\n",
              "      <th>14</th>\n",
              "      <td>Гибкий график</td>\n",
              "      <td>Проектная работа</td>\n",
              "      <td>18</td>\n",
              "    </tr>\n",
              "    <tr>\n",
              "      <th>15</th>\n",
              "      <td>Сменный график</td>\n",
              "      <td>Стажировка</td>\n",
              "      <td>12</td>\n",
              "    </tr>\n",
              "    <tr>\n",
              "      <th>16</th>\n",
              "      <td>Вахтовый метод</td>\n",
              "      <td>Проектная работа</td>\n",
              "      <td>2</td>\n",
              "    </tr>\n",
              "    <tr>\n",
              "      <th>17</th>\n",
              "      <td>Сменный график</td>\n",
              "      <td>Проектная работа</td>\n",
              "      <td>1</td>\n",
              "    </tr>\n",
              "  </tbody>\n",
              "</table>\n",
              "</div>"
            ],
            "text/plain": [
              "            schedule           employment  cnt_vacancies\n",
              "0        Полный день     Полная занятость          35367\n",
              "1   Удаленная работа     Полная занятость           7802\n",
              "2      Гибкий график     Полная занятость           1593\n",
              "3   Удаленная работа  Частичная занятость           1312\n",
              "4     Сменный график     Полная занятость            940\n",
              "5        Полный день           Стажировка            569\n",
              "6     Вахтовый метод     Полная занятость            367\n",
              "7        Полный день  Частичная занятость            347\n",
              "8      Гибкий график  Частичная занятость            312\n",
              "9        Полный день     Проектная работа            141\n",
              "10  Удаленная работа     Проектная работа            133\n",
              "11     Гибкий график           Стажировка            116\n",
              "12    Сменный график  Частичная занятость            101\n",
              "13  Удаленная работа           Стажировка             64\n",
              "14     Гибкий график     Проектная работа             18\n",
              "15    Сменный график           Стажировка             12\n",
              "16    Вахтовый метод     Проектная работа              2\n",
              "17    Сменный график     Проектная работа              1"
            ]
          },
          "metadata": {},
          "output_type": "display_data"
        }
      ],
      "source": [
        "# результат запроса\n",
        "hh_df_4_4 = pd.read_sql_query(query_4_4, connection)\n",
        "display(hh_df_4_4)"
      ]
    },
    {
      "cell_type": "markdown",
      "id": "0136ffee-0ead-4a6b-b608-61d1c753a438",
      "metadata": {
        "id": "0136ffee-0ead-4a6b-b608-61d1c753a438"
      },
      "source": [
        "5 Напишите запрос, выводящий значения поля Требуемый опыт работы (experience) в порядке возрастания количества вакансий, в которых указан данный вариант опыта. "
      ]
    },
    {
      "cell_type": "code",
      "execution_count": 272,
      "id": "5b3a8e79-f7ab-4008-b767-12aea3a205ea",
      "metadata": {
        "id": "5b3a8e79-f7ab-4008-b767-12aea3a205ea"
      },
      "outputs": [],
      "source": [
        "# текст запроса\n",
        "query_4_5 = f'''SELECT experience\n",
        "                FROM public.vacancies  \n",
        "                GROUP BY experience\n",
        "                ORDER BY COUNT(id)  \n",
        "              '''    "
      ]
    },
    {
      "cell_type": "code",
      "execution_count": 273,
      "id": "3Is64Y-hpDpq",
      "metadata": {
        "id": "3Is64Y-hpDpq"
      },
      "outputs": [
        {
          "name": "stderr",
          "output_type": "stream",
          "text": [
            "c:\\Users\\Misha\\AppData\\Local\\Programs\\Python\\Python39\\lib\\site-packages\\pandas\\io\\sql.py:762: UserWarning:\n",
            "\n",
            "pandas only support SQLAlchemy connectable(engine/connection) ordatabase string URI or sqlite3 DBAPI2 connectionother DBAPI2 objects are not tested, please consider using SQLAlchemy\n",
            "\n"
          ]
        },
        {
          "data": {
            "text/html": [
              "<div>\n",
              "<style scoped>\n",
              "    .dataframe tbody tr th:only-of-type {\n",
              "        vertical-align: middle;\n",
              "    }\n",
              "\n",
              "    .dataframe tbody tr th {\n",
              "        vertical-align: top;\n",
              "    }\n",
              "\n",
              "    .dataframe thead th {\n",
              "        text-align: right;\n",
              "    }\n",
              "</style>\n",
              "<table border=\"1\" class=\"dataframe\">\n",
              "  <thead>\n",
              "    <tr style=\"text-align: right;\">\n",
              "      <th></th>\n",
              "      <th>experience</th>\n",
              "    </tr>\n",
              "  </thead>\n",
              "  <tbody>\n",
              "    <tr>\n",
              "      <th>0</th>\n",
              "      <td>Более 6 лет</td>\n",
              "    </tr>\n",
              "    <tr>\n",
              "      <th>1</th>\n",
              "      <td>Нет опыта</td>\n",
              "    </tr>\n",
              "    <tr>\n",
              "      <th>2</th>\n",
              "      <td>От 3 до 6 лет</td>\n",
              "    </tr>\n",
              "    <tr>\n",
              "      <th>3</th>\n",
              "      <td>От 1 года до 3 лет</td>\n",
              "    </tr>\n",
              "  </tbody>\n",
              "</table>\n",
              "</div>"
            ],
            "text/plain": [
              "           experience\n",
              "0         Более 6 лет\n",
              "1           Нет опыта\n",
              "2       От 3 до 6 лет\n",
              "3  От 1 года до 3 лет"
            ]
          },
          "metadata": {},
          "output_type": "display_data"
        }
      ],
      "source": [
        "# результат запроса\n",
        "hh_df_4_5 = pd.read_sql_query(query_4_5, connection)\n",
        "display(hh_df_4_5)"
      ]
    },
    {
      "cell_type": "markdown",
      "id": "oq2b7n1QpIka",
      "metadata": {
        "id": "oq2b7n1QpIka"
      },
      "source": [
        "***"
      ]
    },
    {
      "cell_type": "markdown",
      "id": "8025c98f",
      "metadata": {},
      "source": [
        "Для более наглядного представления полученных данных о количестве вакансий с различными вариантами требуемого опыта работы построим круговую диаграмму"
      ]
    },
    {
      "cell_type": "code",
      "execution_count": 274,
      "id": "d7cefca2",
      "metadata": {},
      "outputs": [
        {
          "data": {
            "image/png": "[encoded data removed]",
            "text/plain": [
              "<Figure size 600x300 with 1 Axes>"
            ]
          },
          "metadata": {},
          "output_type": "display_data"
        }
      ],
      "source": [
        "label_names = [\"Более 6 лет\", \"Нет опыта\", \"От 3 до 6 лет\", \"От 1 года до 3 лет\"]\n",
        "df = hh_df[\"experience\"].value_counts(ascending = True)\n",
        "\n",
        "fig_1 = plt.figure(figsize = (6, 3))\n",
        "ax = fig_1.add_axes((1, 1, 1, 1))\n",
        "pie = ax.pie(\n",
        "    df,\n",
        "    autopct = \" %1.1f%% \",\n",
        "    startangle = 90,\n",
        "    labels = label_names\n",
        ")\n",
        "title = ax.set_title('Cоотношение числа вакансий в зависимости от требуемого опыта работы', fontsize=16)\n",
        "plt.show(pie)"
      ]
    },
    {
      "cell_type": "markdown",
      "id": "4bacca7d",
      "metadata": {},
      "source": [
        "### **Выводы по детальному анализу вакансий**\n",
        "\n",
        "Детальный анализ вакансий позволил более точно проанализировать особенности распределения исследуемых признаков. \n",
        "\n",
        "1 Так, при изучении территориальной локализации вакансий было выявлено, что наибольшее число предложений - в крупных городах, с высокими показателями по численности населения, где в большей степени ощущается нехватка кадров в связи с достаточно большим количеством работодателей в сравнении с менее крупными регионами. В тройку лидеров вошли Москва, Санкт-Петербург и Минск. \n",
        "\n",
        "2 Хотелось бы ометить, что один из важнейших показателей в плане поиска соответствующей вакансии - заработная плата. В нашей базе данных заполнено хотя бы одно из двух полей с зарплатой у 24 073 вакансий, что составляет примерно половину от общего числа (49%). Этот фактор может выступить одной из негативных предпосылок, не позволяющих сразу отобрать интересующие соискателя вакансии.\n",
        "\n",
        "3 При расчете средних значений для нижней и верхней границы зарплатной вилки были получены следующие данные: 71 065 руб. и 110 537 руб. соответственно, но при их сопоставлении с медианой была выявлена существенная разница. Так, медиана для нижней и верхней границы зарплатной вилки - 50 000 руб. и 80 000 руб.; данные показатели наиболее объективно отображают внутреннее распределение рассмотренных признаков, т.к. в меньшей степени подвержены влиянию аномальных значений.\n",
        "\n",
        "4 При выявлении наиболее популярных сочетаний типа рабочего графика и типа трудоустройства в имеющихся вакансиях абсолютное большинство принадлежит варианту \"полный день - полная занятость\"\t(72% от общего числа вакансий), далее вариант \"удаленная работа - полная занятость\"\t(16%), значительно ниже доля от общего числа вакансий у сочетания \"гибкий график\t- полная занятость\" (3%). Для других вариантов этот процент еще ниже. \n",
        "\n",
        "На основе полученных данных можно сделать вывод, что большинство работодателей ищут специалистов именно с полной занятостью, предлагая вакансии в качестве основного места работы; при этом тип рабочего графика может варьироваться, но лидерующие позиции у варианта \"полный день\". \n",
        "\n",
        "Особенности сформировавшегося на текущий момент рынка труда, связанные с влиянием как внешних факторов, так и внутренних особенностей отдельных вакансий,  позволяют организовывать также рабочий график по типу \"удаленной работы\" в сочетании с полной занятостью. Данный вариант дает возможность рассмотрения вакансий в других регионах, тем самым значительно расширяя зону поиска.\n",
        "\n",
        "5 Наличие в базе вакансий с различным требуемым опытом позволяет найти работу в необходимой сфере как специалистам с уже имеющимся опытом, так и \"новичкам\", без опыта работы.\n",
        "\n",
        "Хотелось бы отметить, что абсолютное большинство в нашей базе принадлежит вакансиям с небольшим требуемым опытом работы - от 1 года до 3 лет (53.2% от общего числа вакансий); данный сегмент, как правило, ориентирован на соискателей, желающих улучшить первоначальные условия труда, в том числе и повысить заработную плату, и нацеленных на дальнейшее саморазвитие и карьерный рост. \n",
        "\n",
        "Сегмент без опыта работы (14.6%) направлен на привлечение, как правило, специалистов начального уровня, с необходимым минимальным первоначальным запасом знаний/навыков. Наличие достаточно большого количества подобных вакансий открывает возможность для вхождения соискателей в выбранную отрасль и является неоспоримым преимуществом имеющейся базы вакансий. Также подчеркнем, что среди вакансий есть сегмент предложений, позволяющих пройти стажировку в выбранных компаниях, что также является отличной возможностью для начинающих специалистов."
      ]
    },
    {
      "cell_type": "markdown",
      "id": "7ea20ab6-04a7-40a0-adec-443a0e5a42c3",
      "metadata": {
        "id": "7ea20ab6-04a7-40a0-adec-443a0e5a42c3"
      },
      "source": [
        "# Юнит 5. Анализ работодателей"
      ]
    },
    {
      "cell_type": "markdown",
      "id": "968aed80-74ef-4ffb-b5bf-c65b84e9caea",
      "metadata": {
        "id": "968aed80-74ef-4ffb-b5bf-c65b84e9caea"
      },
      "source": [
        "1 Напишите запрос, который позволит узнать, какие работодатели находятся на первом и пятом месте по количеству вакансий."
      ]
    },
    {
      "cell_type": "code",
      "execution_count": 275,
      "id": "f2d62796-d400-4ec1-a675-88112739a50e",
      "metadata": {
        "id": "f2d62796-d400-4ec1-a675-88112739a50e"
      },
      "outputs": [],
      "source": [
        "# текст запроса\n",
        "query_5_1 = f'''SELECT e.name AS employer\n",
        "                      --COUNT(v.id) AS cnt -- столбец может быть выведен для получения количественных данных \n",
        "              FROM public.employers e \n",
        "              JOIN  public.vacancies v ON v.employer_id = e.id\n",
        "              GROUP BY employer\n",
        "              ORDER BY COUNT(v.id) DESC\n",
        "              LIMIT 5\n",
        "              '''   "
      ]
    },
    {
      "cell_type": "code",
      "execution_count": 276,
      "id": "64tOMkAxqkQk",
      "metadata": {
        "id": "64tOMkAxqkQk"
      },
      "outputs": [
        {
          "name": "stderr",
          "output_type": "stream",
          "text": [
            "c:\\Users\\Misha\\AppData\\Local\\Programs\\Python\\Python39\\lib\\site-packages\\pandas\\io\\sql.py:762: UserWarning:\n",
            "\n",
            "pandas only support SQLAlchemy connectable(engine/connection) ordatabase string URI or sqlite3 DBAPI2 connectionother DBAPI2 objects are not tested, please consider using SQLAlchemy\n",
            "\n"
          ]
        },
        {
          "data": {
            "text/html": [
              "<div>\n",
              "<style scoped>\n",
              "    .dataframe tbody tr th:only-of-type {\n",
              "        vertical-align: middle;\n",
              "    }\n",
              "\n",
              "    .dataframe tbody tr th {\n",
              "        vertical-align: top;\n",
              "    }\n",
              "\n",
              "    .dataframe thead th {\n",
              "        text-align: right;\n",
              "    }\n",
              "</style>\n",
              "<table border=\"1\" class=\"dataframe\">\n",
              "  <thead>\n",
              "    <tr style=\"text-align: right;\">\n",
              "      <th></th>\n",
              "      <th>employer</th>\n",
              "    </tr>\n",
              "  </thead>\n",
              "  <tbody>\n",
              "    <tr>\n",
              "      <th>0</th>\n",
              "      <td>Яндекс</td>\n",
              "    </tr>\n",
              "    <tr>\n",
              "      <th>1</th>\n",
              "      <td>Ростелеком</td>\n",
              "    </tr>\n",
              "    <tr>\n",
              "      <th>2</th>\n",
              "      <td>Тинькофф</td>\n",
              "    </tr>\n",
              "    <tr>\n",
              "      <th>3</th>\n",
              "      <td>СБЕР</td>\n",
              "    </tr>\n",
              "    <tr>\n",
              "      <th>4</th>\n",
              "      <td>Газпром нефть</td>\n",
              "    </tr>\n",
              "  </tbody>\n",
              "</table>\n",
              "</div>"
            ],
            "text/plain": [
              "        employer\n",
              "0         Яндекс\n",
              "1     Ростелеком\n",
              "2       Тинькофф\n",
              "3           СБЕР\n",
              "4  Газпром нефть"
            ]
          },
          "metadata": {},
          "output_type": "display_data"
        }
      ],
      "source": [
        "# результат запроса\n",
        "hh_df_5_1 = pd.read_sql_query(query_5_1, connection)\n",
        "display(hh_df_5_1)"
      ]
    },
    {
      "cell_type": "markdown",
      "id": "68377cfc-b378-43dc-ab7d-1195abf2c515",
      "metadata": {
        "id": "68377cfc-b378-43dc-ab7d-1195abf2c515"
      },
      "source": [
        "2 Напишите запрос, который для каждого региона выведет количество работодателей и вакансий в нём.\n",
        "Среди регионов, в которых нет вакансий, найдите тот, в котором наибольшее количество работодателей.\n"
      ]
    },
    {
      "cell_type": "code",
      "execution_count": 277,
      "id": "dd7df27a-e3e8-412e-a21a-5d389b71e891",
      "metadata": {
        "id": "dd7df27a-e3e8-412e-a21a-5d389b71e891"
      },
      "outputs": [],
      "source": [
        "# текст запроса\n",
        "query_5_2 = f'''SELECT\n",
        "                     a.name AS area_name,\n",
        "                     COUNT(e.id) AS cnt_employers,\n",
        "                     COUNT(v.id) AS cnt_vacancies\n",
        "              FROM public.areas a \n",
        "              LEFT JOIN  public.employers e ON a.id = e.area\n",
        "              LEFT JOIN  public.vacancies v ON a.id = v.area_id\n",
        "              WHERE v.id is null\n",
        "              GROUP BY area_name\n",
        "              ORDER BY cnt_employers DESC\n",
        "              '''   "
      ]
    },
    {
      "cell_type": "code",
      "execution_count": 278,
      "id": "x1ikWbydrbf6",
      "metadata": {
        "id": "x1ikWbydrbf6"
      },
      "outputs": [
        {
          "name": "stderr",
          "output_type": "stream",
          "text": [
            "c:\\Users\\Misha\\AppData\\Local\\Programs\\Python\\Python39\\lib\\site-packages\\pandas\\io\\sql.py:762: UserWarning:\n",
            "\n",
            "pandas only support SQLAlchemy connectable(engine/connection) ordatabase string URI or sqlite3 DBAPI2 connectionother DBAPI2 objects are not tested, please consider using SQLAlchemy\n",
            "\n"
          ]
        },
        {
          "data": {
            "text/html": [
              "<div>\n",
              "<style scoped>\n",
              "    .dataframe tbody tr th:only-of-type {\n",
              "        vertical-align: middle;\n",
              "    }\n",
              "\n",
              "    .dataframe tbody tr th {\n",
              "        vertical-align: top;\n",
              "    }\n",
              "\n",
              "    .dataframe thead th {\n",
              "        text-align: right;\n",
              "    }\n",
              "</style>\n",
              "<table border=\"1\" class=\"dataframe\">\n",
              "  <thead>\n",
              "    <tr style=\"text-align: right;\">\n",
              "      <th></th>\n",
              "      <th>area_name</th>\n",
              "      <th>cnt_employers</th>\n",
              "      <th>cnt_vacancies</th>\n",
              "    </tr>\n",
              "  </thead>\n",
              "  <tbody>\n",
              "    <tr>\n",
              "      <th>0</th>\n",
              "      <td>Россия</td>\n",
              "      <td>410</td>\n",
              "      <td>0</td>\n",
              "    </tr>\n",
              "    <tr>\n",
              "      <th>1</th>\n",
              "      <td>Казахстан</td>\n",
              "      <td>207</td>\n",
              "      <td>0</td>\n",
              "    </tr>\n",
              "    <tr>\n",
              "      <th>2</th>\n",
              "      <td>Московская область</td>\n",
              "      <td>75</td>\n",
              "      <td>0</td>\n",
              "    </tr>\n",
              "    <tr>\n",
              "      <th>3</th>\n",
              "      <td>Краснодарский край</td>\n",
              "      <td>19</td>\n",
              "      <td>0</td>\n",
              "    </tr>\n",
              "    <tr>\n",
              "      <th>4</th>\n",
              "      <td>Беларусь</td>\n",
              "      <td>18</td>\n",
              "      <td>0</td>\n",
              "    </tr>\n",
              "    <tr>\n",
              "      <th>...</th>\n",
              "      <td>...</td>\n",
              "      <td>...</td>\n",
              "      <td>...</td>\n",
              "    </tr>\n",
              "    <tr>\n",
              "      <th>588</th>\n",
              "      <td>Кувандык</td>\n",
              "      <td>0</td>\n",
              "      <td>0</td>\n",
              "    </tr>\n",
              "    <tr>\n",
              "      <th>589</th>\n",
              "      <td>Куйбышев</td>\n",
              "      <td>0</td>\n",
              "      <td>0</td>\n",
              "    </tr>\n",
              "    <tr>\n",
              "      <th>590</th>\n",
              "      <td>Куйбышево (Ростовская область)</td>\n",
              "      <td>0</td>\n",
              "      <td>0</td>\n",
              "    </tr>\n",
              "    <tr>\n",
              "      <th>591</th>\n",
              "      <td>Култаево</td>\n",
              "      <td>0</td>\n",
              "      <td>0</td>\n",
              "    </tr>\n",
              "    <tr>\n",
              "      <th>592</th>\n",
              "      <td>Кульсары</td>\n",
              "      <td>0</td>\n",
              "      <td>0</td>\n",
              "    </tr>\n",
              "  </tbody>\n",
              "</table>\n",
              "<p>593 rows × 3 columns</p>\n",
              "</div>"
            ],
            "text/plain": [
              "                          area_name  cnt_employers  cnt_vacancies\n",
              "0                            Россия            410              0\n",
              "1                         Казахстан            207              0\n",
              "2                Московская область             75              0\n",
              "3                Краснодарский край             19              0\n",
              "4                          Беларусь             18              0\n",
              "..                              ...            ...            ...\n",
              "588                        Кувандык              0              0\n",
              "589                        Куйбышев              0              0\n",
              "590  Куйбышево (Ростовская область)              0              0\n",
              "591                        Култаево              0              0\n",
              "592                        Кульсары              0              0\n",
              "\n",
              "[593 rows x 3 columns]"
            ]
          },
          "metadata": {},
          "output_type": "display_data"
        }
      ],
      "source": [
        "# результат запроса\n",
        "hh_df_5_2 = pd.read_sql_query(query_5_2, connection)\n",
        "display(hh_df_5_2)"
      ]
    },
    {
      "cell_type": "markdown",
      "id": "f2fe0acb-ab1a-4e15-9326-2560e22d73c1",
      "metadata": {
        "id": "f2fe0acb-ab1a-4e15-9326-2560e22d73c1"
      },
      "source": [
        "3 Для каждого работодателя посчитайте количество регионов, в которых он публикует свои вакансии. Отсортируйте результат по убыванию количества.\n"
      ]
    },
    {
      "cell_type": "code",
      "execution_count": 279,
      "id": "6271f8ad-bd2e-4196-ae4a-5b39c4c1010e",
      "metadata": {
        "id": "6271f8ad-bd2e-4196-ae4a-5b39c4c1010e"
      },
      "outputs": [],
      "source": [
        "# текст запроса\n",
        "query_5_3 = f'''SELECT\n",
        "                     e.name AS employers_name,\n",
        "                     COUNT(DISTINCT(v.area_id)) AS cnt_areas\n",
        "              FROM public.employers e \n",
        "              JOIN public.vacancies v ON e.id = v.employer_id\n",
        "              GROUP BY employers_name \n",
        "              ORDER BY cnt_areas DESC\n",
        "              '''   "
      ]
    },
    {
      "cell_type": "code",
      "execution_count": 280,
      "id": "1EIvX3HasH4F",
      "metadata": {
        "id": "1EIvX3HasH4F"
      },
      "outputs": [
        {
          "name": "stderr",
          "output_type": "stream",
          "text": [
            "c:\\Users\\Misha\\AppData\\Local\\Programs\\Python\\Python39\\lib\\site-packages\\pandas\\io\\sql.py:762: UserWarning:\n",
            "\n",
            "pandas only support SQLAlchemy connectable(engine/connection) ordatabase string URI or sqlite3 DBAPI2 connectionother DBAPI2 objects are not tested, please consider using SQLAlchemy\n",
            "\n"
          ]
        },
        {
          "data": {
            "text/html": [
              "<div>\n",
              "<style scoped>\n",
              "    .dataframe tbody tr th:only-of-type {\n",
              "        vertical-align: middle;\n",
              "    }\n",
              "\n",
              "    .dataframe tbody tr th {\n",
              "        vertical-align: top;\n",
              "    }\n",
              "\n",
              "    .dataframe thead th {\n",
              "        text-align: right;\n",
              "    }\n",
              "</style>\n",
              "<table border=\"1\" class=\"dataframe\">\n",
              "  <thead>\n",
              "    <tr style=\"text-align: right;\">\n",
              "      <th></th>\n",
              "      <th>employers_name</th>\n",
              "      <th>cnt_areas</th>\n",
              "    </tr>\n",
              "  </thead>\n",
              "  <tbody>\n",
              "    <tr>\n",
              "      <th>0</th>\n",
              "      <td>Яндекс</td>\n",
              "      <td>181</td>\n",
              "    </tr>\n",
              "    <tr>\n",
              "      <th>1</th>\n",
              "      <td>Ростелеком</td>\n",
              "      <td>152</td>\n",
              "    </tr>\n",
              "    <tr>\n",
              "      <th>2</th>\n",
              "      <td>Спецремонт</td>\n",
              "      <td>116</td>\n",
              "    </tr>\n",
              "    <tr>\n",
              "      <th>3</th>\n",
              "      <td>Поляков Денис Иванович</td>\n",
              "      <td>88</td>\n",
              "    </tr>\n",
              "    <tr>\n",
              "      <th>4</th>\n",
              "      <td>ООО ЕФИН</td>\n",
              "      <td>71</td>\n",
              "    </tr>\n",
              "    <tr>\n",
              "      <th>...</th>\n",
              "      <td>...</td>\n",
              "      <td>...</td>\n",
              "    </tr>\n",
              "    <tr>\n",
              "      <th>14761</th>\n",
              "      <td>UniSol</td>\n",
              "      <td>1</td>\n",
              "    </tr>\n",
              "    <tr>\n",
              "      <th>14762</th>\n",
              "      <td>UNISTORY LLC</td>\n",
              "      <td>1</td>\n",
              "    </tr>\n",
              "    <tr>\n",
              "      <th>14763</th>\n",
              "      <td>UNIT6</td>\n",
              "      <td>1</td>\n",
              "    </tr>\n",
              "    <tr>\n",
              "      <th>14764</th>\n",
              "      <td>United Distribution</td>\n",
              "      <td>1</td>\n",
              "    </tr>\n",
              "    <tr>\n",
              "      <th>14765</th>\n",
              "      <td>UNITEL LLC</td>\n",
              "      <td>1</td>\n",
              "    </tr>\n",
              "  </tbody>\n",
              "</table>\n",
              "<p>14766 rows × 2 columns</p>\n",
              "</div>"
            ],
            "text/plain": [
              "               employers_name  cnt_areas\n",
              "0                      Яндекс        181\n",
              "1                  Ростелеком        152\n",
              "2                  Спецремонт        116\n",
              "3      Поляков Денис Иванович         88\n",
              "4                   ООО ЕФИН          71\n",
              "...                       ...        ...\n",
              "14761                  UniSol          1\n",
              "14762            UNISTORY LLC          1\n",
              "14763                   UNIT6          1\n",
              "14764     United Distribution          1\n",
              "14765              UNITEL LLC          1\n",
              "\n",
              "[14766 rows x 2 columns]"
            ]
          },
          "metadata": {},
          "output_type": "display_data"
        }
      ],
      "source": [
        "# результат запроса\n",
        "hh_df_5_3 = pd.read_sql_query(query_5_3, connection)\n",
        "display(hh_df_5_3)"
      ]
    },
    {
      "cell_type": "markdown",
      "id": "eab2206d-d95b-468b-8e5f-34381abf0ce7",
      "metadata": {
        "id": "eab2206d-d95b-468b-8e5f-34381abf0ce7"
      },
      "source": [
        "4 Напишите запрос для подсчёта количества работодателей, у которых не указана сфера деятельности. "
      ]
    },
    {
      "cell_type": "code",
      "execution_count": 281,
      "id": "80defb23-bfb1-4a18-8be6-bf36aa7165d5",
      "metadata": {
        "id": "80defb23-bfb1-4a18-8be6-bf36aa7165d5"
      },
      "outputs": [],
      "source": [
        "# текст запроса\n",
        "query_5_4 = f'''SELECT COUNT(e.id)\n",
        "                FROM public.employers e \n",
        "                LEFT JOIN public.employers_industries ei ON e.id = ei.employer_id -- соединяем необходимые таблицы через табл.employers_industries\n",
        "                LEFT JOIN public.industries i ON ei.industry_id = i.id\n",
        "                WHERE ei.employer_id IS NULL \n",
        "              '''   "
      ]
    },
    {
      "cell_type": "code",
      "execution_count": 282,
      "id": "Dp_yCx6ysQSu",
      "metadata": {
        "id": "Dp_yCx6ysQSu"
      },
      "outputs": [
        {
          "name": "stdout",
          "output_type": "stream",
          "text": [
            "Количество работодателей, у которых не указана сфера деятельности: 8419\n"
          ]
        },
        {
          "name": "stderr",
          "output_type": "stream",
          "text": [
            "c:\\Users\\Misha\\AppData\\Local\\Programs\\Python\\Python39\\lib\\site-packages\\pandas\\io\\sql.py:762: UserWarning:\n",
            "\n",
            "pandas only support SQLAlchemy connectable(engine/connection) ordatabase string URI or sqlite3 DBAPI2 connectionother DBAPI2 objects are not tested, please consider using SQLAlchemy\n",
            "\n"
          ]
        }
      ],
      "source": [
        "# результат запроса\n",
        "hh_df_5_4 = pd.read_sql_query(query_5_4, connection)\n",
        "print(f'Количество работодателей, у которых не указана сфера деятельности: {hh_df_5_4.iloc[0,0]}')"
      ]
    },
    {
      "cell_type": "markdown",
      "id": "0112af31-f6b0-4e3b-82ab-71296e752e5e",
      "metadata": {
        "id": "0112af31-f6b0-4e3b-82ab-71296e752e5e"
      },
      "source": [
        "5 Напишите запрос, чтобы узнать название компании, находящейся на третьем месте в алфавитном списке (по названию) компаний, у которых указано четыре сферы деятельности. "
      ]
    },
    {
      "cell_type": "code",
      "execution_count": 283,
      "id": "973b0cfc-a972-470a-8b4a-68744ef220c4",
      "metadata": {
        "id": "973b0cfc-a972-470a-8b4a-68744ef220c4"
      },
      "outputs": [],
      "source": [
        "# текст запроса\n",
        "query_5_5 = f'''SELECT e.name AS employers_name\n",
        "                FROM public.employers e \n",
        "                LEFT JOIN public.employers_industries ei ON e.id = ei.employer_id  -- соединяем необходимые таблицы через табл.employers_industries\n",
        "                LEFT JOIN public.industries i ON ei.industry_id = i.id\n",
        "                GROUP BY employers_name\n",
        "                HAVING COUNT(i.id) = 4\n",
        "                ORDER BY employers_name\n",
        "                OFFSET 2 LIMIT 1    \n",
        "              '''   "
      ]
    },
    {
      "cell_type": "code",
      "execution_count": 284,
      "id": "xsPtpp8EsaED",
      "metadata": {
        "id": "xsPtpp8EsaED"
      },
      "outputs": [
        {
          "name": "stdout",
          "output_type": "stream",
          "text": [
            "Название компании, находящейся на третьем месте в алфавитном списке (по названию) компаний, у которых указано четыре сферы деятельности: 2ГИС\n"
          ]
        },
        {
          "name": "stderr",
          "output_type": "stream",
          "text": [
            "c:\\Users\\Misha\\AppData\\Local\\Programs\\Python\\Python39\\lib\\site-packages\\pandas\\io\\sql.py:762: UserWarning:\n",
            "\n",
            "pandas only support SQLAlchemy connectable(engine/connection) ordatabase string URI or sqlite3 DBAPI2 connectionother DBAPI2 objects are not tested, please consider using SQLAlchemy\n",
            "\n"
          ]
        }
      ],
      "source": [
        "# результат запроса\n",
        "hh_df_5_5 = pd.read_sql_query(query_5_5, connection)\n",
        "print(f'Название компании, находящейся на третьем месте в алфавитном списке (по названию) компаний, у которых указано четыре сферы деятельности: {hh_df_5_5.iloc[0,0]}')"
      ]
    },
    {
      "cell_type": "markdown",
      "id": "3bfcfdaf-755d-4d2b-8ed8-326201dc07ab",
      "metadata": {
        "id": "3bfcfdaf-755d-4d2b-8ed8-326201dc07ab"
      },
      "source": [
        "6 С помощью запроса выясните, у какого количества работодателей в качестве сферы деятельности указана Разработка программного обеспечения.\n"
      ]
    },
    {
      "cell_type": "code",
      "execution_count": 285,
      "id": "ad3f270f-2991-47eb-929b-e8f88a55b0d1",
      "metadata": {
        "id": "ad3f270f-2991-47eb-929b-e8f88a55b0d1"
      },
      "outputs": [],
      "source": [
        "# текст запроса\n",
        "query_5_6 = f'''SELECT COUNT(e.id)\n",
        "                FROM public.employers e \n",
        "                LEFT JOIN public.employers_industries ei ON e.id = ei.employer_id -- соединяем необходимые таблицы через табл.employers_industries\n",
        "                LEFT JOIN public.industries i ON ei.industry_id = i.id\n",
        "                WHERE i.name = 'Разработка программного обеспечения' \n",
        "              '''   "
      ]
    },
    {
      "cell_type": "code",
      "execution_count": 286,
      "id": "H72qxWM0shPR",
      "metadata": {
        "id": "H72qxWM0shPR"
      },
      "outputs": [
        {
          "name": "stdout",
          "output_type": "stream",
          "text": [
            "Количество работодателей, у которых в качестве сферы деятельности указана \"Разработка программного обеспечения\": 3553\n"
          ]
        },
        {
          "name": "stderr",
          "output_type": "stream",
          "text": [
            "c:\\Users\\Misha\\AppData\\Local\\Programs\\Python\\Python39\\lib\\site-packages\\pandas\\io\\sql.py:762: UserWarning:\n",
            "\n",
            "pandas only support SQLAlchemy connectable(engine/connection) ordatabase string URI or sqlite3 DBAPI2 connectionother DBAPI2 objects are not tested, please consider using SQLAlchemy\n",
            "\n"
          ]
        }
      ],
      "source": [
        "# результат запроса\n",
        "hh_df_5_6 = pd.read_sql_query(query_5_6, connection)\n",
        "print(f'Количество работодателей, у которых в качестве сферы деятельности указана \"Разработка программного обеспечения\": {hh_df_5_6.iloc[0,0]}')"
      ]
    },
    {
      "cell_type": "markdown",
      "id": "7b02bb86-0546-40fb-94a4-242f050a5c57",
      "metadata": {
        "id": "7b02bb86-0546-40fb-94a4-242f050a5c57"
      },
      "source": [
        "7 Для компании «Яндекс» выведите список регионов-миллионников, в которых представлены вакансии компании, вместе с количеством вакансий в этих регионах. Также добавьте строку Total с общим количеством вакансий компании. Результат отсортируйте по возрастанию количества.\n",
        "\n",
        "Список городов-милионников надо взять [отсюда](https://ru.wikipedia.org/wiki/%D0%93%D0%BE%D1%80%D0%BE%D0%B4%D0%B0-%D0%BC%D0%B8%D0%BB%D0%BB%D0%B8%D0%BE%D0%BD%D0%B5%D1%80%D1%8B_%D0%A0%D0%BE%D1%81%D1%81%D0%B8%D0%B8). \n",
        "\n",
        "Если возникнут трудности с этим задание посмотрите материалы модуля  PYTHON-17. Как получать данные из веб-источников и API. "
      ]
    },
    {
      "cell_type": "code",
      "execution_count": 287,
      "id": "ZdfrL6gIs1Pn",
      "metadata": {
        "id": "ZdfrL6gIs1Pn"
      },
      "outputs": [],
      "source": [
        "# код для получения списка городов-милионников\n",
        "table_1 = pd.read_html('https://ru.wikipedia.org/wiki/%D0%93%D0%BE%D1%80%D0%BE%D0%B4%D0%B0-%D0%BC%D0%B8%D0%BB%D0%BB%D0%B8%D0%BE%D0%BD%D0%B5%D1%80%D1%8B_%D0%A0%D0%BE%D1%81%D1%81%D0%B8%D0%B8')\n",
        "df_city = table_1[1]\n",
        "cities = list(df_city[\"Город\"]) # преобразуем необходимый столбец в список\n",
        "cities[cities.index('Воронеж[a]')] = 'Воронеж' # вносим изменения в полученный список\n",
        "cities_tuple = tuple(cities) # преобразуем в кортеж\n"
      ]
    },
    {
      "cell_type": "code",
      "execution_count": 288,
      "id": "5a0e32a4-e68a-4365-8a39-2fe24c542c36",
      "metadata": {
        "id": "5a0e32a4-e68a-4365-8a39-2fe24c542c36"
      },
      "outputs": [],
      "source": [
        "# текст запроса\n",
        "query_5_7 = f'''SELECT \n",
        "                    a.name AS cities_name, \n",
        "                    COUNT(v.id) AS cnt_vacancies\n",
        "                FROM public.vacancies v \n",
        "                LEFT JOIN public.areas a ON a.id = v.area_id \n",
        "                LEFT JOIN public.employers e ON v.employer_id = e.id \n",
        "                WHERE   e.name = 'Яндекс' AND a.name in {cities_tuple} -- обращаемся к кортежу (для проверки вхождения региона с целью его определения в качестве региона-миллионника)\n",
        "                GROUP BY cities_name\n",
        "               \n",
        "                UNION ALL -- выполняем для добавления графы 'Total'\n",
        "                \n",
        "                select\n",
        "                    'Total',\n",
        "                    COUNT(v.id) AS cnt_vacancies\n",
        "                FROM public.vacancies v\n",
        "                LEFT JOIN public.areas a ON a.id = v.area_id \n",
        "                LEFT JOIN public.employers e ON v.employer_id = e.id \n",
        "                WHERE   e.name = 'Яндекс' AND a.name in {cities_tuple}\n",
        "                ORDER BY cnt_vacancies\n",
        "                '''   "
      ]
    },
    {
      "cell_type": "code",
      "execution_count": 289,
      "id": "ttPhiO1rsvPq",
      "metadata": {
        "id": "ttPhiO1rsvPq"
      },
      "outputs": [
        {
          "name": "stderr",
          "output_type": "stream",
          "text": [
            "c:\\Users\\Misha\\AppData\\Local\\Programs\\Python\\Python39\\lib\\site-packages\\pandas\\io\\sql.py:762: UserWarning:\n",
            "\n",
            "pandas only support SQLAlchemy connectable(engine/connection) ordatabase string URI or sqlite3 DBAPI2 connectionother DBAPI2 objects are not tested, please consider using SQLAlchemy\n",
            "\n"
          ]
        },
        {
          "data": {
            "text/html": [
              "<div>\n",
              "<style scoped>\n",
              "    .dataframe tbody tr th:only-of-type {\n",
              "        vertical-align: middle;\n",
              "    }\n",
              "\n",
              "    .dataframe tbody tr th {\n",
              "        vertical-align: top;\n",
              "    }\n",
              "\n",
              "    .dataframe thead th {\n",
              "        text-align: right;\n",
              "    }\n",
              "</style>\n",
              "<table border=\"1\" class=\"dataframe\">\n",
              "  <thead>\n",
              "    <tr style=\"text-align: right;\">\n",
              "      <th></th>\n",
              "      <th>cities_name</th>\n",
              "      <th>cnt_vacancies</th>\n",
              "    </tr>\n",
              "  </thead>\n",
              "  <tbody>\n",
              "    <tr>\n",
              "      <th>0</th>\n",
              "      <td>Омск</td>\n",
              "      <td>21</td>\n",
              "    </tr>\n",
              "    <tr>\n",
              "      <th>1</th>\n",
              "      <td>Челябинск</td>\n",
              "      <td>22</td>\n",
              "    </tr>\n",
              "    <tr>\n",
              "      <th>2</th>\n",
              "      <td>Красноярск</td>\n",
              "      <td>23</td>\n",
              "    </tr>\n",
              "    <tr>\n",
              "      <th>3</th>\n",
              "      <td>Волгоград</td>\n",
              "      <td>24</td>\n",
              "    </tr>\n",
              "    <tr>\n",
              "      <th>4</th>\n",
              "      <td>Пермь</td>\n",
              "      <td>25</td>\n",
              "    </tr>\n",
              "    <tr>\n",
              "      <th>5</th>\n",
              "      <td>Казань</td>\n",
              "      <td>25</td>\n",
              "    </tr>\n",
              "    <tr>\n",
              "      <th>6</th>\n",
              "      <td>Ростов-на-Дону</td>\n",
              "      <td>25</td>\n",
              "    </tr>\n",
              "    <tr>\n",
              "      <th>7</th>\n",
              "      <td>Уфа</td>\n",
              "      <td>26</td>\n",
              "    </tr>\n",
              "    <tr>\n",
              "      <th>8</th>\n",
              "      <td>Самара</td>\n",
              "      <td>26</td>\n",
              "    </tr>\n",
              "    <tr>\n",
              "      <th>9</th>\n",
              "      <td>Краснодар</td>\n",
              "      <td>30</td>\n",
              "    </tr>\n",
              "    <tr>\n",
              "      <th>10</th>\n",
              "      <td>Воронеж</td>\n",
              "      <td>32</td>\n",
              "    </tr>\n",
              "    <tr>\n",
              "      <th>11</th>\n",
              "      <td>Новосибирск</td>\n",
              "      <td>35</td>\n",
              "    </tr>\n",
              "    <tr>\n",
              "      <th>12</th>\n",
              "      <td>Нижний Новгород</td>\n",
              "      <td>36</td>\n",
              "    </tr>\n",
              "    <tr>\n",
              "      <th>13</th>\n",
              "      <td>Екатеринбург</td>\n",
              "      <td>39</td>\n",
              "    </tr>\n",
              "    <tr>\n",
              "      <th>14</th>\n",
              "      <td>Санкт-Петербург</td>\n",
              "      <td>42</td>\n",
              "    </tr>\n",
              "    <tr>\n",
              "      <th>15</th>\n",
              "      <td>Москва</td>\n",
              "      <td>54</td>\n",
              "    </tr>\n",
              "    <tr>\n",
              "      <th>16</th>\n",
              "      <td>Total</td>\n",
              "      <td>485</td>\n",
              "    </tr>\n",
              "  </tbody>\n",
              "</table>\n",
              "</div>"
            ],
            "text/plain": [
              "        cities_name  cnt_vacancies\n",
              "0              Омск             21\n",
              "1         Челябинск             22\n",
              "2        Красноярск             23\n",
              "3         Волгоград             24\n",
              "4             Пермь             25\n",
              "5            Казань             25\n",
              "6    Ростов-на-Дону             25\n",
              "7               Уфа             26\n",
              "8            Самара             26\n",
              "9         Краснодар             30\n",
              "10          Воронеж             32\n",
              "11      Новосибирск             35\n",
              "12  Нижний Новгород             36\n",
              "13     Екатеринбург             39\n",
              "14  Санкт-Петербург             42\n",
              "15           Москва             54\n",
              "16            Total            485"
            ]
          },
          "metadata": {},
          "output_type": "display_data"
        }
      ],
      "source": [
        "# результат запроса\n",
        "hh_df_5_7 = pd.read_sql_query(query_5_7, connection)\n",
        "display(hh_df_5_7)"
      ]
    },
    {
      "cell_type": "markdown",
      "id": "04966e40-3bc3-4dc8-9ba2-e80580ce3abc",
      "metadata": {
        "id": "04966e40-3bc3-4dc8-9ba2-e80580ce3abc"
      },
      "source": [
        "***"
      ]
    },
    {
      "cell_type": "markdown",
      "id": "c9c1c05e",
      "metadata": {},
      "source": [
        "### **Выводы по анализу работодателей**\n",
        "\n",
        "1 При проведении более детального анализа работодателей было выявлено, что в пятерку лидеров по количеству вакансий входят крупнейшие федеральные компании: Яндекс, Ростелеком, Тинькофф, СБЕР, Газпром нефть. На их долю приходится 7.4% от общего числа вакансий при общем количестве работодателей 23 501. Подобная тенденция может быть связана как со сферой деятельности указанных компаний, их динамичным развитием с расширением рынка, в том числе выход на международные рынки, так и в принципе со значительным по численности персоналом компаний, разветвленной территориальной сетью представительств. \n",
        "\n",
        "2 К регионам с наибольшим количеством работодателей, где нет вакансий, относятся те регионы, в которых спрос в данной сфере значительно превышает предложение со стороны работодателей. В связи с этим целесообразно рассмотреть варианты трудоустройства для соискателей в других регионах с возможностью удаленной работы/переезда/командировок.    \n",
        "\n",
        "3 Территориальное распределение вакансий у различных компаний, их представленность в регионах сильно отличаются. Так, лидерующие позиции по числу регионов, в которых работодатель публикует свои вакансии, занимает Яндекс; на втором месте находится компания Ростелеком. Данная тенденция может быть связана в принципе с большим количеством вакансий в данных компаниях, наличием территориальных подразделений, а также обусловлена нехваткой кадров в крупных городах и зарплатным фактором: как правило в регинах размер заработной платы ниже, чем в крупных городах.\n",
        "\n",
        "4 Одним из факторов, также определяющим успешность поискового запроса вакансий для соискателей, является указание работодателем сферы деятельности, что связано с наличием у соискателей образования определенной направленности, возможно, опыта работы в указанной сфере, что будет способствовать более продуктивному решению поставленных задач. В имеющейся базе данных 8 419 работодателей (36% от общего числа) не указали свою сферу деятельности, что также может снизить эффективность подбора вакансий. \n",
        "\n",
        "5 Хотелось бы также отметить, что в имеющемся перечне вакансий есть и работодатели, которые указали несколько и более сфер деятельности, что, в свою очередь, значительно расширяет критерии поиска для соискателей, учитывая их индивидуальные особенности. \n",
        "\n",
        "6 При подсчете работодателей, у которых в качестве сферы деятельности указана \"Разработка программного обеспечения\", были получены следующие данные: число подобных компаний составляет 3 553 (15% от общего числа). Данная сфера деятельности в большей степени ориентирована на IT-специалистов - разработчиков ПО. Но подобные навыки являются огромным плюсом для специалиста, решившего перейти в сферу DS.\n",
        "\n",
        "7 Анализ имеющихся вакансий Яндекса, крупнейшего работодателя в нашей базе данных по общему количеству вакансий и по числу регионов с опубликованными вакансиями, в разрезе представленности в регионах-миллионниках показал, что на их долю приходится 25% от общего числа вакансий компании (485 позиций). Данный показатель подтверждает тенденцию в развитии компании в плане расширения региональной представленности кадров, обусловленную как  расширением штата внутри страны, так и в международных представительствах, с возможностью найма с удаленным типом рабочего графика, так и нехваткой квалифицированных специалистов, разницой в заработной плате в крупных городах и регионах.       \n",
        "\n"
      ]
    },
    {
      "cell_type": "markdown",
      "id": "b1ef156a-efcb-49ce-bb23-90763e7f35b2",
      "metadata": {
        "id": "b1ef156a-efcb-49ce-bb23-90763e7f35b2",
        "tags": []
      },
      "source": [
        "# Юнит 6. Предметный анализ"
      ]
    },
    {
      "cell_type": "markdown",
      "id": "b9cd50a0-992d-4988-8463-2b2b1c4629b4",
      "metadata": {
        "id": "b9cd50a0-992d-4988-8463-2b2b1c4629b4"
      },
      "source": [
        "1 Сколько вакансий имеет отношение к данным?\n",
        "\n",
        "Считаем, что вакансия имеет отношение к данным, если в её названии содержатся слова 'data' или 'данн'.\n",
        "\n",
        "*Подсказка: Обратите внимание, что названия вакансий могут быть написаны в любом регистре.* \n"
      ]
    },
    {
      "cell_type": "code",
      "execution_count": 290,
      "id": "54ab0e50-c0f1-47cc-a54b-bc5c8bc363f9",
      "metadata": {
        "id": "54ab0e50-c0f1-47cc-a54b-bc5c8bc363f9"
      },
      "outputs": [],
      "source": [
        "# текст запроса\n",
        "query_6_1 = f'''SELECT COUNT(id)\n",
        "                FROM public.vacancies \n",
        "                WHERE lower(name) LIKE '%data%' OR lower(name) LIKE '%данн%'\n",
        "              '''  "
      ]
    },
    {
      "cell_type": "code",
      "execution_count": 291,
      "id": "9F1meAqsuUjd",
      "metadata": {
        "id": "9F1meAqsuUjd"
      },
      "outputs": [
        {
          "name": "stdout",
          "output_type": "stream",
          "text": [
            "Количество вакансий, имеющих отношение к данным: 1771\n"
          ]
        },
        {
          "name": "stderr",
          "output_type": "stream",
          "text": [
            "c:\\Users\\Misha\\AppData\\Local\\Programs\\Python\\Python39\\lib\\site-packages\\pandas\\io\\sql.py:762: UserWarning:\n",
            "\n",
            "pandas only support SQLAlchemy connectable(engine/connection) ordatabase string URI or sqlite3 DBAPI2 connectionother DBAPI2 objects are not tested, please consider using SQLAlchemy\n",
            "\n"
          ]
        }
      ],
      "source": [
        "# результат запроса\n",
        "hh_df_6_1 = pd.read_sql_query(query_6_1, connection)\n",
        "print(f'Количество вакансий, имеющих отношение к данным: {hh_df_6_1.iloc[0,0]}')"
      ]
    },
    {
      "cell_type": "markdown",
      "id": "4dea20cb-a36b-474a-a0b9-e08e8e3857a5",
      "metadata": {
        "id": "4dea20cb-a36b-474a-a0b9-e08e8e3857a5"
      },
      "source": [
        "2 Сколько есть подходящих вакансий для начинающего дата-сайентиста? \n",
        "Будем считать вакансиями для дата-сайентистов такие, в названии которых есть хотя бы одно из следующих сочетаний:\n",
        "* 'data scientist'\n",
        "* 'data science'\n",
        "* 'исследователь данных'\n",
        "* 'ML' (здесь не нужно брать вакансии по HTML)\n",
        "* 'machine learning'\n",
        "* 'машинн%обучен%'\n",
        "\n",
        "** В следующих заданиях мы продолжим работать с вакансиями по этому условию.*\n",
        "\n",
        "Считаем вакансиями для специалистов уровня Junior следующие:\n",
        "* в названии есть слово 'junior' *или*\n",
        "* требуемый опыт — Нет опыта *или*\n",
        "* тип трудоустройства — Стажировка.\n",
        " "
      ]
    },
    {
      "cell_type": "code",
      "execution_count": 292,
      "id": "9c61b3c0-bb66-46c9-ae1e-81d3f5752b4a",
      "metadata": {
        "id": "9c61b3c0-bb66-46c9-ae1e-81d3f5752b4a"
      },
      "outputs": [],
      "source": [
        "# текст запроса\n",
        "query_6_2 = f'''SELECT COUNT(id)\n",
        "                FROM public.vacancies v\n",
        "                WHERE (LOWER(name) LIKE '%data scientist%' OR\n",
        "                       LOWER(name) LIKE '%data science%' OR\n",
        "                       LOWER(name) LIKE '%исследователь данных%' OR\n",
        "                       (name LIKE '%ML%' and name NOT ILIKE '%HTML%') OR\n",
        "                       LOWER(name) LIKE '%machine learning%' OR\n",
        "                       LOWER(name) LIKE '%машинн%обучен%') AND\n",
        "                       (LOWER(name) LIKE '%junior%' OR\n",
        "                       experience = 'Нет опыта' OR \n",
        "                       employment = 'Стажировка')\n",
        "              '''  "
      ]
    },
    {
      "cell_type": "code",
      "execution_count": 293,
      "id": "ZNM-LLYuu1dj",
      "metadata": {
        "id": "ZNM-LLYuu1dj"
      },
      "outputs": [
        {
          "name": "stdout",
          "output_type": "stream",
          "text": [
            "Количество вакансий для начинающего дата-сайентиста: 51\n"
          ]
        },
        {
          "name": "stderr",
          "output_type": "stream",
          "text": [
            "c:\\Users\\Misha\\AppData\\Local\\Programs\\Python\\Python39\\lib\\site-packages\\pandas\\io\\sql.py:762: UserWarning:\n",
            "\n",
            "pandas only support SQLAlchemy connectable(engine/connection) ordatabase string URI or sqlite3 DBAPI2 connectionother DBAPI2 objects are not tested, please consider using SQLAlchemy\n",
            "\n"
          ]
        }
      ],
      "source": [
        "# результат запроса\n",
        "hh_df_6_2 = pd.read_sql_query(query_6_2, connection)\n",
        "print(f'Количество вакансий для начинающего дата-сайентиста: {hh_df_6_2.iloc[0,0]}')"
      ]
    },
    {
      "cell_type": "markdown",
      "id": "37671ba2",
      "metadata": {},
      "source": [
        "Рассчитаем общее количество вакансий для специалиста DS"
      ]
    },
    {
      "cell_type": "code",
      "execution_count": 294,
      "id": "e4d358d8",
      "metadata": {},
      "outputs": [],
      "source": [
        "# текст запроса\n",
        "query_6_2_1 = f'''SELECT COUNT(id)\n",
        "                FROM public.vacancies v\n",
        "                WHERE (LOWER(name) LIKE '%data scientist%' OR\n",
        "                       LOWER(name) LIKE '%data science%' OR\n",
        "                       LOWER(name) LIKE '%исследователь данных%' OR\n",
        "                       (name LIKE '%ML%' and name NOT ILIKE '%HTML%') OR\n",
        "                       LOWER(name) LIKE '%machine learning%' OR\n",
        "                       LOWER(name) LIKE '%машинн%обучен%')             \n",
        "                '''  "
      ]
    },
    {
      "cell_type": "code",
      "execution_count": 295,
      "id": "b9b368ad",
      "metadata": {},
      "outputs": [
        {
          "name": "stderr",
          "output_type": "stream",
          "text": [
            "c:\\Users\\Misha\\AppData\\Local\\Programs\\Python\\Python39\\lib\\site-packages\\pandas\\io\\sql.py:762: UserWarning:\n",
            "\n",
            "pandas only support SQLAlchemy connectable(engine/connection) ordatabase string URI or sqlite3 DBAPI2 connectionother DBAPI2 objects are not tested, please consider using SQLAlchemy\n",
            "\n"
          ]
        },
        {
          "name": "stdout",
          "output_type": "stream",
          "text": [
            "Общее количество вакансий для дата-сайентиста: 480\n"
          ]
        }
      ],
      "source": [
        "# результат запроса\n",
        "hh_df_6_2_1 = pd.read_sql_query(query_6_2_1, connection)\n",
        "print(f'Общее количество вакансий для дата-сайентиста: {hh_df_6_2_1.iloc[0,0]}')"
      ]
    },
    {
      "cell_type": "markdown",
      "id": "eedceb80-c5ca-480e-b27a-278dfb8b4438",
      "metadata": {
        "id": "eedceb80-c5ca-480e-b27a-278dfb8b4438"
      },
      "source": [
        "3 Сколько есть вакансий для DS, в которых в качестве ключевого навыка указан SQL или postgres?\n",
        "\n",
        "** Критерии для отнесения вакансии к DS указаны в предыдущем задании.*"
      ]
    },
    {
      "cell_type": "code",
      "execution_count": 296,
      "id": "69621713-0cc5-4f1b-a1d7-bb144fa6148c",
      "metadata": {
        "id": "69621713-0cc5-4f1b-a1d7-bb144fa6148c"
      },
      "outputs": [],
      "source": [
        "# текст запроса\n",
        "query_6_3 = f'''SELECT COUNT(id)\n",
        "                FROM public.vacancies\n",
        "                WHERE (LOWER(name) LIKE '%data scientist%' OR\n",
        "                       LOWER(name) LIKE '%data science%' OR\n",
        "                       LOWER(name) LIKE '%исследователь данных%' OR\n",
        "                       (name LIKE '%ML%' and name NOT ILIKE '%HTML%') OR\n",
        "                       LOWER(name) LIKE '%machine learning%' OR\n",
        "                       LOWER(name) LIKE '%машинн%обучен%') AND\n",
        "                       (key_skills ILIKE '%SQL%' or key_skills ILIKE '%postgres%')\n",
        "              '''  "
      ]
    },
    {
      "cell_type": "code",
      "execution_count": 297,
      "id": "alA8WEAAvGdf",
      "metadata": {
        "id": "alA8WEAAvGdf"
      },
      "outputs": [
        {
          "name": "stdout",
          "output_type": "stream",
          "text": [
            "Количество вакансий для DS, в которых в качестве ключевого навыка указан SQL или postgres: 201\n"
          ]
        },
        {
          "name": "stderr",
          "output_type": "stream",
          "text": [
            "c:\\Users\\Misha\\AppData\\Local\\Programs\\Python\\Python39\\lib\\site-packages\\pandas\\io\\sql.py:762: UserWarning:\n",
            "\n",
            "pandas only support SQLAlchemy connectable(engine/connection) ordatabase string URI or sqlite3 DBAPI2 connectionother DBAPI2 objects are not tested, please consider using SQLAlchemy\n",
            "\n"
          ]
        }
      ],
      "source": [
        "# результат запроса\n",
        "hh_df_6_3 = pd.read_sql_query(query_6_3, connection)\n",
        "print(f'Количество вакансий для DS, в которых в качестве ключевого навыка указан SQL или postgres: {hh_df_6_3.iloc[0,0]}')"
      ]
    },
    {
      "cell_type": "markdown",
      "id": "1be1e9c6-37cf-4a5f-bfeb-04cab799dc80",
      "metadata": {
        "id": "1be1e9c6-37cf-4a5f-bfeb-04cab799dc80"
      },
      "source": [
        "4 Проверьте, насколько популярен Python в требованиях работодателей к DS.Для этого вычислите количество вакансий, в которых в качестве ключевого навыка указан Python.\n",
        "\n",
        "** Это можно сделать помощью запроса, аналогичного предыдущему.*"
      ]
    },
    {
      "cell_type": "code",
      "execution_count": 298,
      "id": "0036a355-9ccf-4564-8b01-73d8194297e7",
      "metadata": {
        "id": "0036a355-9ccf-4564-8b01-73d8194297e7"
      },
      "outputs": [],
      "source": [
        "# текст запроса\n",
        "query_6_4 = f'''SELECT COUNT(id)\n",
        "                FROM public.vacancies\n",
        "                WHERE (LOWER(name) LIKE '%data scientist%' OR\n",
        "                       LOWER(name) LIKE '%data science%' OR\n",
        "                       LOWER(name) LIKE '%исследователь данных%' OR\n",
        "                       (name LIKE '%ML%' and name NOT ILIKE '%HTML%') OR\n",
        "                       LOWER(name) LIKE '%machine learning%' OR\n",
        "                       LOWER(name) LIKE '%машинн%обучен%') AND\n",
        "                       key_skills ILIKE '%Python%'\n",
        "              '''  "
      ]
    },
    {
      "cell_type": "code",
      "execution_count": 299,
      "id": "1i-5WyucvQ6v",
      "metadata": {
        "id": "1i-5WyucvQ6v"
      },
      "outputs": [
        {
          "name": "stdout",
          "output_type": "stream",
          "text": [
            "Количество вакансий для DS, в которых в качестве ключевого навыка указан Python: 351\n"
          ]
        },
        {
          "name": "stderr",
          "output_type": "stream",
          "text": [
            "c:\\Users\\Misha\\AppData\\Local\\Programs\\Python\\Python39\\lib\\site-packages\\pandas\\io\\sql.py:762: UserWarning:\n",
            "\n",
            "pandas only support SQLAlchemy connectable(engine/connection) ordatabase string URI or sqlite3 DBAPI2 connectionother DBAPI2 objects are not tested, please consider using SQLAlchemy\n",
            "\n"
          ]
        }
      ],
      "source": [
        "# результат запроса\n",
        "hh_df_6_4 = pd.read_sql_query(query_6_4, connection)\n",
        "print(f'Количество вакансий для DS, в которых в качестве ключевого навыка указан Python: {hh_df_6_4.iloc[0,0]}')"
      ]
    },
    {
      "cell_type": "markdown",
      "id": "ec3c8db7-fa21-4a41-a994-1af63742a642",
      "metadata": {
        "id": "ec3c8db7-fa21-4a41-a994-1af63742a642"
      },
      "source": [
        "5 Сколько ключевых навыков в среднем указывают в вакансиях для DS?\n",
        "Ответ округлите до двух знаков после точки-разделителя."
      ]
    },
    {
      "cell_type": "code",
      "execution_count": 300,
      "id": "949132bc-d5b6-4611-8218-0b9a504d74f4",
      "metadata": {
        "id": "949132bc-d5b6-4611-8218-0b9a504d74f4"
      },
      "outputs": [],
      "source": [
        "# текст запроса\n",
        "query_6_5 = f'''SELECT ROUND(AVG(LENGTH(key_skills) - LENGTH(REPLACE(key_skills, CHR(9), ''))+1), 2) -- количество ключевых навыков на 1 больше, чем знаков-разделителей\n",
        "                FROM public.vacancies \n",
        "                WHERE (LOWER(name) LIKE '%data scientist%' OR\n",
        "                       LOWER(name) LIKE '%data science%' OR\n",
        "                       LOWER(name) LIKE '%исследователь данных%' OR\n",
        "                       (name LIKE '%ML%' and name NOT ILIKE '%HTML%') OR\n",
        "                       LOWER(name) LIKE '%machine learning%' OR\n",
        "                       LOWER(name) LIKE '%машинн%обучен%') AND\n",
        "                       key_skills IS NOT NULL\n",
        "                       \n",
        "              '''  "
      ]
    },
    {
      "cell_type": "code",
      "execution_count": 301,
      "id": "a3V24Tvmviqk",
      "metadata": {
        "id": "a3V24Tvmviqk"
      },
      "outputs": [
        {
          "name": "stdout",
          "output_type": "stream",
          "text": [
            "Количество ключевых навыков, указанных в среднем в вакансиях для DS: 6.41\n"
          ]
        },
        {
          "name": "stderr",
          "output_type": "stream",
          "text": [
            "c:\\Users\\Misha\\AppData\\Local\\Programs\\Python\\Python39\\lib\\site-packages\\pandas\\io\\sql.py:762: UserWarning:\n",
            "\n",
            "pandas only support SQLAlchemy connectable(engine/connection) ordatabase string URI or sqlite3 DBAPI2 connectionother DBAPI2 objects are not tested, please consider using SQLAlchemy\n",
            "\n"
          ]
        }
      ],
      "source": [
        "# результат запроса\n",
        "hh_df_6_5 = pd.read_sql_query(query_6_5, connection)\n",
        "print(f'Количество ключевых навыков, указанных в среднем в вакансиях для DS: {hh_df_6_5.iloc[0,0]}')"
      ]
    },
    {
      "cell_type": "markdown",
      "id": "1041c17a-ca8f-4543-a0ca-32778914fb00",
      "metadata": {
        "id": "1041c17a-ca8f-4543-a0ca-32778914fb00"
      },
      "source": [
        "6 Напишите запрос, позволяющий вычислить, какую зарплату для DS в **среднем** указывают для каждого типа требуемого опыта (уникальное значение из поля *experience*). \n",
        "\n",
        "При решении задачи примите во внимание следующее:\n",
        "1. Рассматриваем только вакансии, у которых заполнено хотя бы одно из двух полей с зарплатой.\n",
        "2. Если заполнены оба поля с зарплатой, то считаем зарплату по каждой вакансии как сумму двух полей, делённую на 2. Если заполнено только одно из полей, то его и считаем зарплатой по вакансии.\n",
        "3. Если в расчётах участвует null, в результате он тоже даст null (посмотрите, что возвращает запрос select 1 + null). Чтобы избежать этой ситуацию, мы воспользуемся функцией [coalesce](https://postgrespro.ru/docs/postgresql/9.5/functions-conditional#functions-coalesce-nvl-ifnull), которая заменит null на значение, которое мы передадим. Например, посмотрите, что возвращает запрос `select 1 + coalesce(null, 0)`\n",
        "\n",
        "Выясните, на какую зарплату в среднем может рассчитывать дата-сайентист с опытом работы от 3 до 6 лет. Результат округлите до целого числа. "
      ]
    },
    {
      "cell_type": "code",
      "execution_count": 302,
      "id": "6a743d39-5204-48d3-8271-b9f88e68d40e",
      "metadata": {
        "id": "6a743d39-5204-48d3-8271-b9f88e68d40e"
      },
      "outputs": [],
      "source": [
        "# текст запроса\n",
        "query_6_6 = f'''select\n",
        "                    DISTINCT experience,\n",
        "                    ROUND(AVG(COALESCE((salary_from+salary_to)/2, salary_from, salary_to)), 0) AS mean_salary\n",
        "                FROM public.vacancies\n",
        "                WHERE (LOWER(name) LIKE '%data scientist%' OR\n",
        "                       LOWER(name) LIKE '%data science%' OR\n",
        "                       LOWER(name) LIKE '%исследователь данных%' OR\n",
        "                       (name LIKE '%ML%' and name NOT ILIKE '%HTML%') OR\n",
        "                       LOWER(name) LIKE '%machine learning%' OR\n",
        "                       LOWER(name) LIKE '%машинн%обучен%') AND\n",
        "                       (salary_from IS NOT NULL or salary_to IS NOT NULL) AND\n",
        "                       experience IS NOT NULL\n",
        "                GROUP BY experience       \n",
        "                       \n",
        "              '''  "
      ]
    },
    {
      "cell_type": "code",
      "execution_count": 303,
      "id": "71b1302c",
      "metadata": {},
      "outputs": [
        {
          "name": "stderr",
          "output_type": "stream",
          "text": [
            "c:\\Users\\Misha\\AppData\\Local\\Programs\\Python\\Python39\\lib\\site-packages\\pandas\\io\\sql.py:762: UserWarning:\n",
            "\n",
            "pandas only support SQLAlchemy connectable(engine/connection) ordatabase string URI or sqlite3 DBAPI2 connectionother DBAPI2 objects are not tested, please consider using SQLAlchemy\n",
            "\n"
          ]
        },
        {
          "data": {
            "text/html": [
              "<div>\n",
              "<style scoped>\n",
              "    .dataframe tbody tr th:only-of-type {\n",
              "        vertical-align: middle;\n",
              "    }\n",
              "\n",
              "    .dataframe tbody tr th {\n",
              "        vertical-align: top;\n",
              "    }\n",
              "\n",
              "    .dataframe thead th {\n",
              "        text-align: right;\n",
              "    }\n",
              "</style>\n",
              "<table border=\"1\" class=\"dataframe\">\n",
              "  <thead>\n",
              "    <tr style=\"text-align: right;\">\n",
              "      <th></th>\n",
              "      <th>experience</th>\n",
              "      <th>mean_salary</th>\n",
              "    </tr>\n",
              "  </thead>\n",
              "  <tbody>\n",
              "    <tr>\n",
              "      <th>0</th>\n",
              "      <td>Нет опыта</td>\n",
              "      <td>74643.0</td>\n",
              "    </tr>\n",
              "    <tr>\n",
              "      <th>1</th>\n",
              "      <td>От 1 года до 3 лет</td>\n",
              "      <td>139675.0</td>\n",
              "    </tr>\n",
              "    <tr>\n",
              "      <th>2</th>\n",
              "      <td>От 3 до 6 лет</td>\n",
              "      <td>243115.0</td>\n",
              "    </tr>\n",
              "  </tbody>\n",
              "</table>\n",
              "</div>"
            ],
            "text/plain": [
              "           experience  mean_salary\n",
              "0           Нет опыта      74643.0\n",
              "1  От 1 года до 3 лет     139675.0\n",
              "2       От 3 до 6 лет     243115.0"
            ]
          },
          "metadata": {},
          "output_type": "display_data"
        }
      ],
      "source": [
        "# результат запроса\n",
        "hh_df_6_6 = pd.read_sql_query(query_6_6, connection)\n",
        "display(hh_df_6_6)"
      ]
    },
    {
      "cell_type": "markdown",
      "id": "16aa6887",
      "metadata": {},
      "source": [
        "Рассчитаем среднюю заработную плату для всех вакансий, имеющих непосредственное отношение к данным, в зависимости от опыта работы"
      ]
    },
    {
      "cell_type": "code",
      "execution_count": 304,
      "id": "b069829c",
      "metadata": {},
      "outputs": [],
      "source": [
        "# текст запроса\n",
        "query_6_6_1 = f'''select\n",
        "                    DISTINCT experience,\n",
        "                    ROUND(AVG(COALESCE((salary_from+salary_to)/2, salary_from, salary_to)), 0) AS mean_salary\n",
        "                FROM public.vacancies\n",
        "                WHERE lower(name) LIKE '%data%' OR lower(name) LIKE '%данн%' AND\n",
        "                     (salary_from IS NOT NULL or salary_to IS NOT NULL) AND\n",
        "                      experience IS NOT NULL\n",
        "                GROUP BY experience       \n",
        "                ORDER BY mean_salary        \n",
        "              ''' "
      ]
    },
    {
      "cell_type": "code",
      "execution_count": 305,
      "id": "aRIJ0mZEwU1_",
      "metadata": {
        "id": "aRIJ0mZEwU1_"
      },
      "outputs": [
        {
          "name": "stderr",
          "output_type": "stream",
          "text": [
            "c:\\Users\\Misha\\AppData\\Local\\Programs\\Python\\Python39\\lib\\site-packages\\pandas\\io\\sql.py:762: UserWarning:\n",
            "\n",
            "pandas only support SQLAlchemy connectable(engine/connection) ordatabase string URI or sqlite3 DBAPI2 connectionother DBAPI2 objects are not tested, please consider using SQLAlchemy\n",
            "\n"
          ]
        },
        {
          "data": {
            "text/html": [
              "<div>\n",
              "<style scoped>\n",
              "    .dataframe tbody tr th:only-of-type {\n",
              "        vertical-align: middle;\n",
              "    }\n",
              "\n",
              "    .dataframe tbody tr th {\n",
              "        vertical-align: top;\n",
              "    }\n",
              "\n",
              "    .dataframe thead th {\n",
              "        text-align: right;\n",
              "    }\n",
              "</style>\n",
              "<table border=\"1\" class=\"dataframe\">\n",
              "  <thead>\n",
              "    <tr style=\"text-align: right;\">\n",
              "      <th></th>\n",
              "      <th>experience</th>\n",
              "      <th>mean_salary</th>\n",
              "    </tr>\n",
              "  </thead>\n",
              "  <tbody>\n",
              "    <tr>\n",
              "      <th>0</th>\n",
              "      <td>Нет опыта</td>\n",
              "      <td>66117.0</td>\n",
              "    </tr>\n",
              "    <tr>\n",
              "      <th>1</th>\n",
              "      <td>От 1 года до 3 лет</td>\n",
              "      <td>96505.0</td>\n",
              "    </tr>\n",
              "    <tr>\n",
              "      <th>2</th>\n",
              "      <td>От 3 до 6 лет</td>\n",
              "      <td>185184.0</td>\n",
              "    </tr>\n",
              "    <tr>\n",
              "      <th>3</th>\n",
              "      <td>Более 6 лет</td>\n",
              "      <td>257713.0</td>\n",
              "    </tr>\n",
              "  </tbody>\n",
              "</table>\n",
              "</div>"
            ],
            "text/plain": [
              "           experience  mean_salary\n",
              "0           Нет опыта      66117.0\n",
              "1  От 1 года до 3 лет      96505.0\n",
              "2       От 3 до 6 лет     185184.0\n",
              "3         Более 6 лет     257713.0"
            ]
          },
          "metadata": {},
          "output_type": "display_data"
        }
      ],
      "source": [
        "# результат запроса\n",
        "hh_df_6_6_1 = pd.read_sql_query(query_6_6_1, connection)\n",
        "display(hh_df_6_6_1)"
      ]
    },
    {
      "cell_type": "markdown",
      "id": "6a7892b4-4113-4746-adce-18aa2844f18e",
      "metadata": {
        "id": "6a7892b4-4113-4746-adce-18aa2844f18e"
      },
      "source": [
        "***"
      ]
    },
    {
      "cell_type": "markdown",
      "id": "82a9c789",
      "metadata": {},
      "source": [
        "### **Выводы по предметному анализу**\n",
        "\n",
        "В используемой базе непосредственное отношение к данным имеют 1 771 вакансия (3,6% от общего количества вакансий). Из них только 480 вакансий (чуть менее 1% от общего количества вакансий), которые будут, в первую очередь, предлагаться соискателям, претендующим на позицию Data Scientist. В связи с этим можно сделать вывод, что имеющаяся база предлагает достаточно небольшой выбор вакансий, связанных с этой должностью.\n",
        "\n",
        "В качестве требований к претендентам работодатели также указывают ключевые навыки, наличие которых необходимо для получение положительного решения при рассмотрении вакансии. Так, в среднем в вакансиях по DS при округлении этого показателя до целочисленного значения указано 6 навыков. \n",
        "\n",
        "Основными ключевыми навыками являются - владение Python (73% от общего числа вакансий на позицию DS), SQL или postgres (42% от общего числа вакансий на позицию DS).\n",
        "\n",
        "При расчете средней заработной платы специалиста DS в зависимости от имеющегося опыта работы были получены следующие результаты: для вакансий без опыта работы - 74 643 руб., от 1 года до 3 лет - 139 675 руб., от 3 до 6 лет - 243 115 руб. При сравнении указанных показателей со средней заработной платой для всех вакансий, имеющих непосредственное отношение к данным, наблюдаем большие значения для специалиста DS в  связи с востребованностью направления в различных сферах, динамичным развитием данной области, нехваткой квалифцированных специалистов.  "
      ]
    },
    {
      "cell_type": "markdown",
      "id": "19d00b3b",
      "metadata": {},
      "source": [
        "Проведем дополнительные исследования вакансий на должность \"Data Scientist\""
      ]
    },
    {
      "cell_type": "markdown",
      "id": "401bbf34",
      "metadata": {},
      "source": [
        "7 Выявим, в каких регионах в нашей базе представлены вакансии \"Data Scientist\""
      ]
    },
    {
      "cell_type": "code",
      "execution_count": 306,
      "id": "1b2bcac4",
      "metadata": {},
      "outputs": [],
      "source": [
        "# текст запроса\n",
        "query_6_7 = f'''SELECT\n",
        "                     a.name AS area, \n",
        "                     COUNT(v.id) AS cnt_vacancies\n",
        "              FROM public.areas a \n",
        "              JOIN  public.vacancies v ON v.area_id = a.id\n",
        "              WHERE (LOWER(v.name) LIKE '%data scientist%' OR\n",
        "                     LOWER(v.name) LIKE '%data science%' OR\n",
        "                     LOWER(v.name) LIKE '%исследователь данных%' OR\n",
        "                     (v.name LIKE '%ML%' and v.name NOT ILIKE '%HTML%') OR\n",
        "                     LOWER(v.name) LIKE '%machine learning%' OR\n",
        "                     LOWER(v.name) LIKE '%машинн%обучен%') \n",
        "              GROUP BY area\n",
        "              ORDER BY cnt_vacancies DESC\n",
        "              '''   "
      ]
    },
    {
      "cell_type": "code",
      "execution_count": 307,
      "id": "e32f67ce",
      "metadata": {},
      "outputs": [
        {
          "name": "stderr",
          "output_type": "stream",
          "text": [
            "c:\\Users\\Misha\\AppData\\Local\\Programs\\Python\\Python39\\lib\\site-packages\\pandas\\io\\sql.py:762: UserWarning:\n",
            "\n",
            "pandas only support SQLAlchemy connectable(engine/connection) ordatabase string URI or sqlite3 DBAPI2 connectionother DBAPI2 objects are not tested, please consider using SQLAlchemy\n",
            "\n"
          ]
        },
        {
          "data": {
            "text/html": [
              "<div>\n",
              "<style scoped>\n",
              "    .dataframe tbody tr th:only-of-type {\n",
              "        vertical-align: middle;\n",
              "    }\n",
              "\n",
              "    .dataframe tbody tr th {\n",
              "        vertical-align: top;\n",
              "    }\n",
              "\n",
              "    .dataframe thead th {\n",
              "        text-align: right;\n",
              "    }\n",
              "</style>\n",
              "<table border=\"1\" class=\"dataframe\">\n",
              "  <thead>\n",
              "    <tr style=\"text-align: right;\">\n",
              "      <th></th>\n",
              "      <th>area</th>\n",
              "      <th>cnt_vacancies</th>\n",
              "    </tr>\n",
              "  </thead>\n",
              "  <tbody>\n",
              "    <tr>\n",
              "      <th>0</th>\n",
              "      <td>Москва</td>\n",
              "      <td>217</td>\n",
              "    </tr>\n",
              "    <tr>\n",
              "      <th>1</th>\n",
              "      <td>Санкт-Петербург</td>\n",
              "      <td>64</td>\n",
              "    </tr>\n",
              "    <tr>\n",
              "      <th>2</th>\n",
              "      <td>Новосибирск</td>\n",
              "      <td>23</td>\n",
              "    </tr>\n",
              "    <tr>\n",
              "      <th>3</th>\n",
              "      <td>Нижний Новгород</td>\n",
              "      <td>20</td>\n",
              "    </tr>\n",
              "    <tr>\n",
              "      <th>4</th>\n",
              "      <td>Казань</td>\n",
              "      <td>16</td>\n",
              "    </tr>\n",
              "    <tr>\n",
              "      <th>5</th>\n",
              "      <td>Алматы</td>\n",
              "      <td>16</td>\n",
              "    </tr>\n",
              "    <tr>\n",
              "      <th>6</th>\n",
              "      <td>Минск</td>\n",
              "      <td>9</td>\n",
              "    </tr>\n",
              "    <tr>\n",
              "      <th>7</th>\n",
              "      <td>Томск</td>\n",
              "      <td>8</td>\n",
              "    </tr>\n",
              "    <tr>\n",
              "      <th>8</th>\n",
              "      <td>Екатеринбург</td>\n",
              "      <td>7</td>\n",
              "    </tr>\n",
              "    <tr>\n",
              "      <th>9</th>\n",
              "      <td>Краснодар</td>\n",
              "      <td>6</td>\n",
              "    </tr>\n",
              "    <tr>\n",
              "      <th>10</th>\n",
              "      <td>Ростов-на-Дону</td>\n",
              "      <td>6</td>\n",
              "    </tr>\n",
              "    <tr>\n",
              "      <th>11</th>\n",
              "      <td>Армения</td>\n",
              "      <td>6</td>\n",
              "    </tr>\n",
              "    <tr>\n",
              "      <th>12</th>\n",
              "      <td>Нур-Султан</td>\n",
              "      <td>6</td>\n",
              "    </tr>\n",
              "    <tr>\n",
              "      <th>13</th>\n",
              "      <td>Самара</td>\n",
              "      <td>5</td>\n",
              "    </tr>\n",
              "    <tr>\n",
              "      <th>14</th>\n",
              "      <td>Пермь</td>\n",
              "      <td>5</td>\n",
              "    </tr>\n",
              "    <tr>\n",
              "      <th>15</th>\n",
              "      <td>Кипр</td>\n",
              "      <td>5</td>\n",
              "    </tr>\n",
              "    <tr>\n",
              "      <th>16</th>\n",
              "      <td>Рязань</td>\n",
              "      <td>4</td>\n",
              "    </tr>\n",
              "    <tr>\n",
              "      <th>17</th>\n",
              "      <td>Ташкент</td>\n",
              "      <td>4</td>\n",
              "    </tr>\n",
              "    <tr>\n",
              "      <th>18</th>\n",
              "      <td>Иннополис</td>\n",
              "      <td>3</td>\n",
              "    </tr>\n",
              "    <tr>\n",
              "      <th>19</th>\n",
              "      <td>Тбилиси</td>\n",
              "      <td>3</td>\n",
              "    </tr>\n",
              "    <tr>\n",
              "      <th>20</th>\n",
              "      <td>Владивосток</td>\n",
              "      <td>3</td>\n",
              "    </tr>\n",
              "    <tr>\n",
              "      <th>21</th>\n",
              "      <td>Сербия</td>\n",
              "      <td>3</td>\n",
              "    </tr>\n",
              "    <tr>\n",
              "      <th>22</th>\n",
              "      <td>Омск</td>\n",
              "      <td>3</td>\n",
              "    </tr>\n",
              "    <tr>\n",
              "      <th>23</th>\n",
              "      <td>Уфа</td>\n",
              "      <td>2</td>\n",
              "    </tr>\n",
              "    <tr>\n",
              "      <th>24</th>\n",
              "      <td>Израиль</td>\n",
              "      <td>2</td>\n",
              "    </tr>\n",
              "    <tr>\n",
              "      <th>25</th>\n",
              "      <td>Турция</td>\n",
              "      <td>2</td>\n",
              "    </tr>\n",
              "    <tr>\n",
              "      <th>26</th>\n",
              "      <td>Пенза</td>\n",
              "      <td>2</td>\n",
              "    </tr>\n",
              "    <tr>\n",
              "      <th>27</th>\n",
              "      <td>Киров (Кировская область)</td>\n",
              "      <td>2</td>\n",
              "    </tr>\n",
              "    <tr>\n",
              "      <th>28</th>\n",
              "      <td>Чехия</td>\n",
              "      <td>2</td>\n",
              "    </tr>\n",
              "    <tr>\n",
              "      <th>29</th>\n",
              "      <td>Баку</td>\n",
              "      <td>2</td>\n",
              "    </tr>\n",
              "    <tr>\n",
              "      <th>30</th>\n",
              "      <td>Литва</td>\n",
              "      <td>2</td>\n",
              "    </tr>\n",
              "    <tr>\n",
              "      <th>31</th>\n",
              "      <td>Воронеж</td>\n",
              "      <td>2</td>\n",
              "    </tr>\n",
              "    <tr>\n",
              "      <th>32</th>\n",
              "      <td>Набережные Челны</td>\n",
              "      <td>1</td>\n",
              "    </tr>\n",
              "    <tr>\n",
              "      <th>33</th>\n",
              "      <td>Барнаул</td>\n",
              "      <td>1</td>\n",
              "    </tr>\n",
              "    <tr>\n",
              "      <th>34</th>\n",
              "      <td>Батуми</td>\n",
              "      <td>1</td>\n",
              "    </tr>\n",
              "    <tr>\n",
              "      <th>35</th>\n",
              "      <td>Белгород</td>\n",
              "      <td>1</td>\n",
              "    </tr>\n",
              "    <tr>\n",
              "      <th>36</th>\n",
              "      <td>Бишкек</td>\n",
              "      <td>1</td>\n",
              "    </tr>\n",
              "    <tr>\n",
              "      <th>37</th>\n",
              "      <td>Брянск</td>\n",
              "      <td>1</td>\n",
              "    </tr>\n",
              "    <tr>\n",
              "      <th>38</th>\n",
              "      <td>Волгоград</td>\n",
              "      <td>1</td>\n",
              "    </tr>\n",
              "    <tr>\n",
              "      <th>39</th>\n",
              "      <td>Зеленоград</td>\n",
              "      <td>1</td>\n",
              "    </tr>\n",
              "    <tr>\n",
              "      <th>40</th>\n",
              "      <td>Ижевск</td>\n",
              "      <td>1</td>\n",
              "    </tr>\n",
              "    <tr>\n",
              "      <th>41</th>\n",
              "      <td>Королев</td>\n",
              "      <td>1</td>\n",
              "    </tr>\n",
              "    <tr>\n",
              "      <th>42</th>\n",
              "      <td>Красноярск</td>\n",
              "      <td>1</td>\n",
              "    </tr>\n",
              "    <tr>\n",
              "      <th>43</th>\n",
              "      <td>Абхазия</td>\n",
              "      <td>1</td>\n",
              "    </tr>\n",
              "    <tr>\n",
              "      <th>44</th>\n",
              "      <td>Орел</td>\n",
              "      <td>1</td>\n",
              "    </tr>\n",
              "    <tr>\n",
              "      <th>45</th>\n",
              "      <td>Петрозаводск</td>\n",
              "      <td>1</td>\n",
              "    </tr>\n",
              "    <tr>\n",
              "      <th>46</th>\n",
              "      <td>Польша</td>\n",
              "      <td>1</td>\n",
              "    </tr>\n",
              "    <tr>\n",
              "      <th>47</th>\n",
              "      <td>Саратов</td>\n",
              "      <td>1</td>\n",
              "    </tr>\n",
              "    <tr>\n",
              "      <th>48</th>\n",
              "      <td>Тверь</td>\n",
              "      <td>1</td>\n",
              "    </tr>\n",
              "    <tr>\n",
              "      <th>49</th>\n",
              "      <td>Тюмень</td>\n",
              "      <td>1</td>\n",
              "    </tr>\n",
              "    <tr>\n",
              "      <th>50</th>\n",
              "      <td>Челябинск</td>\n",
              "      <td>1</td>\n",
              "    </tr>\n",
              "    <tr>\n",
              "      <th>51</th>\n",
              "      <td>Черногория</td>\n",
              "      <td>1</td>\n",
              "    </tr>\n",
              "  </tbody>\n",
              "</table>\n",
              "</div>"
            ],
            "text/plain": [
              "                         area  cnt_vacancies\n",
              "0                      Москва            217\n",
              "1             Санкт-Петербург             64\n",
              "2                 Новосибирск             23\n",
              "3             Нижний Новгород             20\n",
              "4                      Казань             16\n",
              "5                      Алматы             16\n",
              "6                       Минск              9\n",
              "7                       Томск              8\n",
              "8                Екатеринбург              7\n",
              "9                   Краснодар              6\n",
              "10             Ростов-на-Дону              6\n",
              "11                    Армения              6\n",
              "12                 Нур-Султан              6\n",
              "13                     Самара              5\n",
              "14                      Пермь              5\n",
              "15                       Кипр              5\n",
              "16                     Рязань              4\n",
              "17                    Ташкент              4\n",
              "18                  Иннополис              3\n",
              "19                    Тбилиси              3\n",
              "20                Владивосток              3\n",
              "21                     Сербия              3\n",
              "22                       Омск              3\n",
              "23                        Уфа              2\n",
              "24                    Израиль              2\n",
              "25                     Турция              2\n",
              "26                      Пенза              2\n",
              "27  Киров (Кировская область)              2\n",
              "28                      Чехия              2\n",
              "29                       Баку              2\n",
              "30                      Литва              2\n",
              "31                    Воронеж              2\n",
              "32           Набережные Челны              1\n",
              "33                    Барнаул              1\n",
              "34                     Батуми              1\n",
              "35                   Белгород              1\n",
              "36                     Бишкек              1\n",
              "37                     Брянск              1\n",
              "38                  Волгоград              1\n",
              "39                 Зеленоград              1\n",
              "40                     Ижевск              1\n",
              "41                    Королев              1\n",
              "42                 Красноярск              1\n",
              "43                    Абхазия              1\n",
              "44                       Орел              1\n",
              "45               Петрозаводск              1\n",
              "46                     Польша              1\n",
              "47                    Саратов              1\n",
              "48                      Тверь              1\n",
              "49                     Тюмень              1\n",
              "50                  Челябинск              1\n",
              "51                 Черногория              1"
            ]
          },
          "metadata": {},
          "output_type": "display_data"
        }
      ],
      "source": [
        "# результат запроса\n",
        "hh_df_6_7 = pd.read_sql_query(query_6_7, connection)\n",
        "display(hh_df_6_7)"
      ]
    },
    {
      "cell_type": "markdown",
      "id": "541ac710",
      "metadata": {},
      "source": [
        "8 Проанализируем, какое количество вакансий \"Data Scientist\" приходится на регионы-миллионники"
      ]
    },
    {
      "cell_type": "code",
      "execution_count": 308,
      "id": "57af51c5",
      "metadata": {},
      "outputs": [],
      "source": [
        "# текст запроса\n",
        "query_6_8 = f'''SELECT \n",
        "                    a.name AS cities_name, \n",
        "                    COUNT(v.id) AS cnt_vacancies\n",
        "                FROM public.vacancies v \n",
        "                LEFT JOIN public.areas a ON a.id = v.area_id \n",
        "                LEFT JOIN public.employers e ON v.employer_id = e.id \n",
        "                WHERE (LOWER(v.name) LIKE '%data scientist%' OR\n",
        "                     LOWER(v.name) LIKE '%data science%' OR\n",
        "                     LOWER(v.name) LIKE '%исследователь данных%' OR\n",
        "                     (v.name LIKE '%ML%' and v.name NOT ILIKE '%HTML%') OR\n",
        "                     LOWER(v.name) LIKE '%machine learning%' OR\n",
        "                     LOWER(v.name) LIKE '%машинн%обучен%')  AND\n",
        "                     a.name in {cities_tuple}\n",
        "                GROUP BY cities_name\n",
        "                \n",
        "                UNION ALL\n",
        "                \n",
        "                SELECT\n",
        "                    'Total',\n",
        "                    COUNT(v.id) AS cnt_vacancies\n",
        "                FROM public.vacancies v \n",
        "                LEFT JOIN public.areas a ON a.id = v.area_id \n",
        "                LEFT JOIN public.employers e ON v.employer_id = e.id \n",
        "                WHERE (LOWER(v.name) LIKE '%data scientist%' OR\n",
        "                     LOWER(v.name) LIKE '%data science%' OR\n",
        "                     LOWER(v.name) LIKE '%исследователь данных%' OR\n",
        "                     (v.name LIKE '%ML%' and v.name NOT ILIKE '%HTML%') OR\n",
        "                     LOWER(v.name) LIKE '%machine learning%' OR\n",
        "                     LOWER(v.name) LIKE '%машинн%обучен%') AND\n",
        "                     a.name in {cities_tuple}\n",
        "                \n",
        "                ORDER BY cnt_vacancies\n",
        "                '''  "
      ]
    },
    {
      "cell_type": "code",
      "execution_count": 309,
      "id": "f1a94ec5",
      "metadata": {},
      "outputs": [
        {
          "name": "stderr",
          "output_type": "stream",
          "text": [
            "c:\\Users\\Misha\\AppData\\Local\\Programs\\Python\\Python39\\lib\\site-packages\\pandas\\io\\sql.py:762: UserWarning:\n",
            "\n",
            "pandas only support SQLAlchemy connectable(engine/connection) ordatabase string URI or sqlite3 DBAPI2 connectionother DBAPI2 objects are not tested, please consider using SQLAlchemy\n",
            "\n"
          ]
        },
        {
          "data": {
            "text/html": [
              "<div>\n",
              "<style scoped>\n",
              "    .dataframe tbody tr th:only-of-type {\n",
              "        vertical-align: middle;\n",
              "    }\n",
              "\n",
              "    .dataframe tbody tr th {\n",
              "        vertical-align: top;\n",
              "    }\n",
              "\n",
              "    .dataframe thead th {\n",
              "        text-align: right;\n",
              "    }\n",
              "</style>\n",
              "<table border=\"1\" class=\"dataframe\">\n",
              "  <thead>\n",
              "    <tr style=\"text-align: right;\">\n",
              "      <th></th>\n",
              "      <th>cities_name</th>\n",
              "      <th>cnt_vacancies</th>\n",
              "    </tr>\n",
              "  </thead>\n",
              "  <tbody>\n",
              "    <tr>\n",
              "      <th>0</th>\n",
              "      <td>Красноярск</td>\n",
              "      <td>1</td>\n",
              "    </tr>\n",
              "    <tr>\n",
              "      <th>1</th>\n",
              "      <td>Волгоград</td>\n",
              "      <td>1</td>\n",
              "    </tr>\n",
              "    <tr>\n",
              "      <th>2</th>\n",
              "      <td>Челябинск</td>\n",
              "      <td>1</td>\n",
              "    </tr>\n",
              "    <tr>\n",
              "      <th>3</th>\n",
              "      <td>Воронеж</td>\n",
              "      <td>2</td>\n",
              "    </tr>\n",
              "    <tr>\n",
              "      <th>4</th>\n",
              "      <td>Уфа</td>\n",
              "      <td>2</td>\n",
              "    </tr>\n",
              "    <tr>\n",
              "      <th>5</th>\n",
              "      <td>Омск</td>\n",
              "      <td>3</td>\n",
              "    </tr>\n",
              "    <tr>\n",
              "      <th>6</th>\n",
              "      <td>Пермь</td>\n",
              "      <td>5</td>\n",
              "    </tr>\n",
              "    <tr>\n",
              "      <th>7</th>\n",
              "      <td>Самара</td>\n",
              "      <td>5</td>\n",
              "    </tr>\n",
              "    <tr>\n",
              "      <th>8</th>\n",
              "      <td>Ростов-на-Дону</td>\n",
              "      <td>6</td>\n",
              "    </tr>\n",
              "    <tr>\n",
              "      <th>9</th>\n",
              "      <td>Краснодар</td>\n",
              "      <td>6</td>\n",
              "    </tr>\n",
              "    <tr>\n",
              "      <th>10</th>\n",
              "      <td>Екатеринбург</td>\n",
              "      <td>7</td>\n",
              "    </tr>\n",
              "    <tr>\n",
              "      <th>11</th>\n",
              "      <td>Казань</td>\n",
              "      <td>16</td>\n",
              "    </tr>\n",
              "    <tr>\n",
              "      <th>12</th>\n",
              "      <td>Нижний Новгород</td>\n",
              "      <td>20</td>\n",
              "    </tr>\n",
              "    <tr>\n",
              "      <th>13</th>\n",
              "      <td>Новосибирск</td>\n",
              "      <td>23</td>\n",
              "    </tr>\n",
              "    <tr>\n",
              "      <th>14</th>\n",
              "      <td>Санкт-Петербург</td>\n",
              "      <td>64</td>\n",
              "    </tr>\n",
              "    <tr>\n",
              "      <th>15</th>\n",
              "      <td>Москва</td>\n",
              "      <td>217</td>\n",
              "    </tr>\n",
              "    <tr>\n",
              "      <th>16</th>\n",
              "      <td>Total</td>\n",
              "      <td>379</td>\n",
              "    </tr>\n",
              "  </tbody>\n",
              "</table>\n",
              "</div>"
            ],
            "text/plain": [
              "        cities_name  cnt_vacancies\n",
              "0        Красноярск              1\n",
              "1         Волгоград              1\n",
              "2         Челябинск              1\n",
              "3           Воронеж              2\n",
              "4               Уфа              2\n",
              "5              Омск              3\n",
              "6             Пермь              5\n",
              "7            Самара              5\n",
              "8    Ростов-на-Дону              6\n",
              "9         Краснодар              6\n",
              "10     Екатеринбург              7\n",
              "11           Казань             16\n",
              "12  Нижний Новгород             20\n",
              "13      Новосибирск             23\n",
              "14  Санкт-Петербург             64\n",
              "15           Москва            217\n",
              "16            Total            379"
            ]
          },
          "metadata": {},
          "output_type": "display_data"
        }
      ],
      "source": [
        "# результат запроса\n",
        "hh_df_6_8 = pd.read_sql_query(query_6_8, connection)\n",
        "display(hh_df_6_8)"
      ]
    },
    {
      "cell_type": "markdown",
      "id": "0edaae7a",
      "metadata": {},
      "source": [
        "9 Выведем количество вакансий для каждого сочетания типа рабочего графика (schedule) и типа трудоустройства (employment) для вакансий \"Data Scientist\""
      ]
    },
    {
      "cell_type": "code",
      "execution_count": 310,
      "id": "0e78028a",
      "metadata": {},
      "outputs": [],
      "source": [
        "# текст запроса\n",
        "query_6_9 = f'''SELECT DISTINCT \n",
        "                    schedule, \n",
        "                    employment, \n",
        "                    COUNT(id) AS cnt_vacancies\n",
        "                FROM public.vacancies  \n",
        "                WHERE LOWER(name) LIKE '%data scientist%' OR\n",
        "                     LOWER(name) LIKE '%data science%' OR\n",
        "                     LOWER(name) LIKE '%исследователь данных%' OR\n",
        "                     (name LIKE '%ML%' and name NOT ILIKE '%HTML%') OR\n",
        "                     LOWER(name) LIKE '%machine learning%' OR\n",
        "                     LOWER(name) LIKE '%машинн%обучен%' \n",
        "                GROUP BY schedule, employment\n",
        "                ORDER BY cnt_vacancies DESC \n",
        "              '''    "
      ]
    },
    {
      "cell_type": "code",
      "execution_count": 311,
      "id": "83e2f101",
      "metadata": {},
      "outputs": [
        {
          "name": "stderr",
          "output_type": "stream",
          "text": [
            "c:\\Users\\Misha\\AppData\\Local\\Programs\\Python\\Python39\\lib\\site-packages\\pandas\\io\\sql.py:762: UserWarning:\n",
            "\n",
            "pandas only support SQLAlchemy connectable(engine/connection) ordatabase string URI or sqlite3 DBAPI2 connectionother DBAPI2 objects are not tested, please consider using SQLAlchemy\n",
            "\n"
          ]
        },
        {
          "data": {
            "text/html": [
              "<div>\n",
              "<style scoped>\n",
              "    .dataframe tbody tr th:only-of-type {\n",
              "        vertical-align: middle;\n",
              "    }\n",
              "\n",
              "    .dataframe tbody tr th {\n",
              "        vertical-align: top;\n",
              "    }\n",
              "\n",
              "    .dataframe thead th {\n",
              "        text-align: right;\n",
              "    }\n",
              "</style>\n",
              "<table border=\"1\" class=\"dataframe\">\n",
              "  <thead>\n",
              "    <tr style=\"text-align: right;\">\n",
              "      <th></th>\n",
              "      <th>schedule</th>\n",
              "      <th>employment</th>\n",
              "      <th>cnt_vacancies</th>\n",
              "    </tr>\n",
              "  </thead>\n",
              "  <tbody>\n",
              "    <tr>\n",
              "      <th>0</th>\n",
              "      <td>Полный день</td>\n",
              "      <td>Полная занятость</td>\n",
              "      <td>319</td>\n",
              "    </tr>\n",
              "    <tr>\n",
              "      <th>1</th>\n",
              "      <td>Удаленная работа</td>\n",
              "      <td>Полная занятость</td>\n",
              "      <td>110</td>\n",
              "    </tr>\n",
              "    <tr>\n",
              "      <th>2</th>\n",
              "      <td>Гибкий график</td>\n",
              "      <td>Полная занятость</td>\n",
              "      <td>37</td>\n",
              "    </tr>\n",
              "    <tr>\n",
              "      <th>3</th>\n",
              "      <td>Гибкий график</td>\n",
              "      <td>Частичная занятость</td>\n",
              "      <td>4</td>\n",
              "    </tr>\n",
              "    <tr>\n",
              "      <th>4</th>\n",
              "      <td>Удаленная работа</td>\n",
              "      <td>Частичная занятость</td>\n",
              "      <td>3</td>\n",
              "    </tr>\n",
              "    <tr>\n",
              "      <th>5</th>\n",
              "      <td>Гибкий график</td>\n",
              "      <td>Стажировка</td>\n",
              "      <td>2</td>\n",
              "    </tr>\n",
              "    <tr>\n",
              "      <th>6</th>\n",
              "      <td>Полный день</td>\n",
              "      <td>Стажировка</td>\n",
              "      <td>2</td>\n",
              "    </tr>\n",
              "    <tr>\n",
              "      <th>7</th>\n",
              "      <td>Удаленная работа</td>\n",
              "      <td>Проектная работа</td>\n",
              "      <td>2</td>\n",
              "    </tr>\n",
              "    <tr>\n",
              "      <th>8</th>\n",
              "      <td>Полный день</td>\n",
              "      <td>Частичная занятость</td>\n",
              "      <td>1</td>\n",
              "    </tr>\n",
              "  </tbody>\n",
              "</table>\n",
              "</div>"
            ],
            "text/plain": [
              "           schedule           employment  cnt_vacancies\n",
              "0       Полный день     Полная занятость            319\n",
              "1  Удаленная работа     Полная занятость            110\n",
              "2     Гибкий график     Полная занятость             37\n",
              "3     Гибкий график  Частичная занятость              4\n",
              "4  Удаленная работа  Частичная занятость              3\n",
              "5     Гибкий график           Стажировка              2\n",
              "6       Полный день           Стажировка              2\n",
              "7  Удаленная работа     Проектная работа              2\n",
              "8       Полный день  Частичная занятость              1"
            ]
          },
          "metadata": {},
          "output_type": "display_data"
        }
      ],
      "source": [
        "# результат запроса\n",
        "hh_df_6_9 = pd.read_sql_query(query_6_9, connection)\n",
        "display(hh_df_6_9)"
      ]
    },
    {
      "cell_type": "markdown",
      "id": "ce58ae8a",
      "metadata": {},
      "source": [
        "10 Рассмотрим распределение вакансий \"Data Scientist\" по указанному работодателем требуемому опыту работы"
      ]
    },
    {
      "cell_type": "code",
      "execution_count": 312,
      "id": "1ee08a82",
      "metadata": {},
      "outputs": [],
      "source": [
        "# текст запроса\n",
        "query_6_10 = f'''SELECT experience,\n",
        "                COUNT(id) AS cnt_vacancies\n",
        "                FROM public.vacancies\n",
        "                WHERE (LOWER(name) LIKE '%data scientist%' OR\n",
        "                       LOWER(name) LIKE '%data science%' OR\n",
        "                       LOWER(name) LIKE '%исследователь данных%' OR\n",
        "                       (name LIKE '%ML%' and name NOT ILIKE '%HTML%') OR\n",
        "                       LOWER(name) LIKE '%machine learning%' OR\n",
        "                       LOWER(name) LIKE '%машинн%обучен%') \n",
        "                GROUP BY experience\n",
        "                ORDER BY COUNT(id) DESC    \n",
        "              '''  "
      ]
    },
    {
      "cell_type": "code",
      "execution_count": 313,
      "id": "3204169d",
      "metadata": {},
      "outputs": [
        {
          "name": "stderr",
          "output_type": "stream",
          "text": [
            "c:\\Users\\Misha\\AppData\\Local\\Programs\\Python\\Python39\\lib\\site-packages\\pandas\\io\\sql.py:762: UserWarning:\n",
            "\n",
            "pandas only support SQLAlchemy connectable(engine/connection) ordatabase string URI or sqlite3 DBAPI2 connectionother DBAPI2 objects are not tested, please consider using SQLAlchemy\n",
            "\n"
          ]
        },
        {
          "data": {
            "text/html": [
              "<div>\n",
              "<style scoped>\n",
              "    .dataframe tbody tr th:only-of-type {\n",
              "        vertical-align: middle;\n",
              "    }\n",
              "\n",
              "    .dataframe tbody tr th {\n",
              "        vertical-align: top;\n",
              "    }\n",
              "\n",
              "    .dataframe thead th {\n",
              "        text-align: right;\n",
              "    }\n",
              "</style>\n",
              "<table border=\"1\" class=\"dataframe\">\n",
              "  <thead>\n",
              "    <tr style=\"text-align: right;\">\n",
              "      <th></th>\n",
              "      <th>experience</th>\n",
              "      <th>cnt_vacancies</th>\n",
              "    </tr>\n",
              "  </thead>\n",
              "  <tbody>\n",
              "    <tr>\n",
              "      <th>0</th>\n",
              "      <td>От 1 года до 3 лет</td>\n",
              "      <td>223</td>\n",
              "    </tr>\n",
              "    <tr>\n",
              "      <th>1</th>\n",
              "      <td>От 3 до 6 лет</td>\n",
              "      <td>195</td>\n",
              "    </tr>\n",
              "    <tr>\n",
              "      <th>2</th>\n",
              "      <td>Более 6 лет</td>\n",
              "      <td>34</td>\n",
              "    </tr>\n",
              "    <tr>\n",
              "      <th>3</th>\n",
              "      <td>Нет опыта</td>\n",
              "      <td>28</td>\n",
              "    </tr>\n",
              "  </tbody>\n",
              "</table>\n",
              "</div>"
            ],
            "text/plain": [
              "           experience  cnt_vacancies\n",
              "0  От 1 года до 3 лет            223\n",
              "1       От 3 до 6 лет            195\n",
              "2         Более 6 лет             34\n",
              "3           Нет опыта             28"
            ]
          },
          "metadata": {},
          "output_type": "display_data"
        }
      ],
      "source": [
        "# результат запроса\n",
        "hh_df_6_10 = pd.read_sql_query(query_6_10, connection)\n",
        "display(hh_df_6_10)"
      ]
    },
    {
      "cell_type": "markdown",
      "id": "c0ED6fh7wiBT",
      "metadata": {
        "id": "c0ED6fh7wiBT"
      },
      "source": [
        "# Общий вывод по проекту\n",
        "Имеющаяся база, на первый взгляд, содержит достаточно большое количество вакансий с разнообразной географией, с достаточно большим перечнем работодателей, имеющим различные требования к соискателям. Хотелось бы отметить, что представленные данные с точки зрения их дальнейшей обработки плохо структурированы. В дальнейшем при размещении вакансий работодателем необходимо внести как можно больше полей с выбором параметров, значительно снизить долю заполняемых вручную.\n",
        "\n",
        "Так, например, графа name в табл. areas содержит одновременно и названия стран, и названия регионов, и отдельных городов. В связи с этим нет возможности проанализировать распределение вакансий по странам для выявления работодателей, имеющих международные представительства; сгруппировать города внутри России, например, следующим образом - города-миллионники и другие - для выявления закономерностей в рассматриваемых группах.\n",
        "\n",
        "Также присутствуют определенные нюансы в плане структурирования информации по работодателям, нет возможности сгруппировать их по численности сотрудников, по основной сфере деятельности для возможного дальнейшего анализа данных по выделенным группам.\n",
        "\n",
        "Как было отмечено выше, в рамках исследования нам было необходимо подобрать предложения для претендентов именно на должность DS. Территориальное распределение вакансий в этом случае достаточно ограничено (вакансии представлены лишь в 51 регионе при общем числе регионов 1 362), из них 379 вакансий (79% от общего числа вакансий DS) приходится на регионы-миллионники.\n",
        "\n",
        "При выявлении наиболее популярных сочетаний типа рабочего графика и типа трудоустройства для вакансий DS в имеющихся вакансиях абсолютное большинство принадлежит также варианту \"полный день - полная занятость\"\t(67% от общего числа вакансий DS), для варианта \"удаленная работа - полная занятость\" показатели чуть выше, чем для данных по всем вакансиям, что можно объяснить спецификой рассматриваемого направления\t(23 % от общего числа вакансий DS). При этом возможность стажировка указана лишь в 4 вакансиях.\n",
        "\n",
        "При этом количество вакансий для начинающих специалистов в сфере DS также минимально (5,8% от общего числа вакансий DS), наиболее востребованы специалисты с опытом работы также от 1 года до 3 лет.\n",
        "\n",
        "Таким образом, при применении дополнительных фильтров область поиска, соответсвующая каждому индивидуальному запросу соискателя, будет значительно уменьшена, и итоговое количество предложений по напрвлению DS может получиться совсем минимальным."
      ]
    },
    {
      "cell_type": "code",
      "execution_count": 314,
      "id": "h9B3BL-wwj18",
      "metadata": {
        "id": "h9B3BL-wwj18"
      },
      "outputs": [],
      "source": [
        "# подведем итог исследования, обобщите выводы\n",
        "# здесь можно (это будет плюсом) провести дополнительные исследования данных, сделать прогнозы, продумать варианты продолжения исследования"
      ]
    },
    {
      "cell_type": "code",
      "execution_count": 315,
      "id": "ed834e68",
      "metadata": {},
      "outputs": [],
      "source": [
        "#закрываем соединение после окончания работы\n",
        "connection.close()"
      ]
    }
  ],
  "metadata": {
    "colab": {
      "collapsed_sections": [
        "8d62a9f3-f64e-4fe7-bdac-c4dffa16155e"
      ],
      "provenance": []
    },
    "kernelspec": {
      "display_name": "Python 3.9.10 64-bit",
      "language": "python",
      "name": "python3"
    },
    "language_info": {
      "codemirror_mode": {
        "name": "ipython",
        "version": 3
      },
      "file_extension": ".py",
      "mimetype": "text/x-python",
      "name": "python",
      "nbconvert_exporter": "python",
      "pygments_lexer": "ipython3",
      "version": "3.9.10"
    },
    "vscode": {
      "interpreter": {
        "hash": "abef597d18bad138f71ce1ac3ba7f677efa5d0aa66e99a3cc777bf29b020f142"
      }
    }
  },
  "nbformat": 4,
  "nbformat_minor": 5
}
